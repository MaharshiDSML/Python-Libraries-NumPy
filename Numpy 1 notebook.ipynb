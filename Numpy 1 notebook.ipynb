{
 "cells": [
  {
   "cell_type": "markdown",
   "id": "d35f4eba",
   "metadata": {},
   "source": [
    "# <code style=\"background:yellow;color:black\">Summary:</code>\n",
    "\n",
    "1. Brief about Data Analysis and Visualization (DAV)\n",
    "2. What is numpy?\n",
    "3. Python lists are heterogenous. Numpy only handles homogenous data.\n",
    "4. Creating 1D and 2D numpy arrays using array() method from python list and using arange() method. Difference between arange() and array(range()) methods.\n",
    "5. ndim and shape attribute of numpy array object.\n",
    "6. Numpy arrays support element wise operations.\n",
    "7. New function to check execution time of a particular operation.\n",
    "8. Why is numpy so fast?\n",
    "9. Indexing and Slicing in Numpy- Basic and Fancy indexing (masking).\n",
    "10. Everything in python is an object. In a NumPy array, all subarrays (rows) should have the same length. Visualization of 3D array in notes.\n",
    "11. Typecasting\n",
    "12. NPS case study"
   ]
  },
  {
   "cell_type": "markdown",
   "id": "67df7550",
   "metadata": {},
   "source": [
    "<hr style=\"border: 1px solid gray;\">\n",
    "\n",
    "# <code style=\"background:yellow;color:black\">Data Analysis and Visualization (DAV):</code>\n",
    "\n",
    "This entire DAV section of the course is divided into three parts:\n",
    "1. DAV-1 - Python libraries - Time to complete - 1 month and 1 week\n",
    "2. DAV-2 - Probability and Statistics\n",
    "3. DAV-3 - Hypothesis Testing\n",
    "\n",
    "DAV-2 and 3 in total will take 2 to 2.5 months to complete."
   ]
  },
  {
   "cell_type": "markdown",
   "id": "523cc3ef",
   "metadata": {},
   "source": [
    "<hr style=\"border: 1px solid gray;\">\n",
    "\n",
    "# <code style=\"background:yellow;color:black\">What is Numpy:</code>\n",
    "\n",
    "**NumPy, which stands for \"Numerical Python,\" is a fundamental Python library for numerical and scientific computing. It provides support for large, multi-dimensional arrays and matrices, along with a wide range of mathematical functions to operate on these arrays. NumPy is a free and open-source library, and is available for download from the NumPy website.**\n",
    "\n",
    "**<u>Here are some of the primary use cases for NumPy:</u>**\n",
    "\n",
    "* **Multi-dimensional Array Operations:** NumPy's primary data structure is the ndarray (n-dimensional array), which allows us to work with arrays of data efficiently. These arrays can have any number of dimensions and are used for tasks like representing data, images, and more.\n",
    "\n",
    "* **Mathematical and Statistical Operations:** NumPy provides a rich set of mathematical and statistical functions, making it suitable for tasks involving linear algebra, calculus, statistics, and more. We can perform operations like addition, subtraction, multiplication, and division on arrays, as well as advanced operations like matrix multiplication, eigenvalue decomposition, and singular value decomposition.\n",
    "\n",
    "* **Data Manipulation and Analysis:** NumPy is often used in conjunction with libraries like pandas for data manipulation and analysis. It allows us to load, transform, and manipulate data efficiently, making it a foundational tool for data scientists and analysts.\n",
    "\n",
    "* **Machine Learning and Data Science:** NumPy serves as a fundamental building block for many machine learning libraries and frameworks, including scikit-learn and TensorFlow. It's used for creating and manipulating data arrays that are fed into machine learning algorithms.\n",
    "\n",
    "* **Plotting and Data Visualization:** While NumPy itself is not designed for data visualization, it is often used in combination with libraries like Matplotlib and Seaborn to create plots, charts, and visualizations from numerical data.\n",
    "\n",
    "* **Random Number Generation:** NumPy includes a random number generation module that is useful for tasks like simulations and statistical analysis.\n",
    "\n",
    "Overall, NumPy is a fundamental tool in the Python ecosystem, and its versatility and efficiency make it indispensable for a wide range of applications, particularly in scientific and numerical computing. NumPy is widely used in data science, machine learning, scientific research, and many other fields where numerical and mathematical operations on large datasets are required."
   ]
  },
  {
   "cell_type": "markdown",
   "id": "84e7bbee",
   "metadata": {},
   "source": [
    "<hr style=\"border: 1px solid gray;\">\n",
    "\n",
    "# <code style=\"background:yellow;color:black\">Python lists are heterogenous:</code>\n",
    "\n",
    "* We have learnt about python lists. Lets talk about a very curious aspect of python lists. \n",
    "<u>We have seen that python lists can be heterogenous</u>, which means it can store various datatypes as its elements at the same  time.\n",
    "\n",
    "* But heterogeneity actually creates a problem. Now, in the example below, can we say that int \"1\" and the string that we have \n",
    "at the end will require different space in memory? <u>They will require different amount of memory to be stored in the RAM.</u> \n",
    "\n",
    "* Now because they are not same amount of data, they require different amounts of memory for their storage, the \n",
    "**storage actually cannot be together. They cannot be stored in boxes in continuous manner in RAM.**\n",
    "\n",
    "* Boxes in memory have same size-- for example, each box can store 4 bytes of data. So, if data is equal to or small in size \n",
    "than 4 bytes, we can keep on storing data in contiguous or continuous manner in boxes.\n",
    "\n",
    "* **Because python is a dynamic programming language which supports heterogeneity, which means when we create lists, we dont tell python what type of data we are going to store in it, means data can be variable in size and HENCE we dont or cant predict the size of data in python lists.** \n",
    "\n",
    "* Think of RAM as a hugh blob of memory. And now somewhere in RAM, \"1\" will be stored somewhere, \"4.5\" will be stored\n",
    "somewhere completely else, \"string\" will be completely at a different place, same goes with boolean and large int.\n",
    "\n",
    "* **What happens internally is, when we create a python list, python stores the memory addresses of the locations where the list elements are stored.**\n",
    "\n",
    "* Lets suppose we are makng tea and we go to a friend's house and make tea. Now in case 1, all the ingridients to make tea are very well organised and stored in one drawer next to each other. But in case 2, all of these ingridients are present in a list where you have been given the locations of those ingridients, where you will find them. But you have to go that address, fetch that ingridient and use it and repeat the process.\n",
    "\n",
    "* In which of the two cases, will we be able to make tea faster? Obviosly 1st case will be faster.\n",
    "\n",
    "* **So, whenever we have heterogeneity, it makes something slow. Its like a superpower but it comes at a cost, that is it makes lists bulky. Slow because they allow us for dynamic input of type of elements and customization.**"
   ]
  },
  {
   "cell_type": "markdown",
   "id": "ca072063",
   "metadata": {},
   "source": [
    "<hr style=\"border: 1px solid gray;\">\n",
    "\n",
    "# <code style=\"background:yellow;color:black\">Numpy only handles homogenous data:</code> \n",
    "\n",
    "* **Whenever we will be working with numpy, we will always be working with homogenous data, which means numpy lists will only contain ints or it will only contain floats  or it will only contain strings. So, thats why numpy lists are called numpy arrays.**\n",
    "\n",
    "* These numpy arrays are similar to arrays in other programming languages like c++, where arrays are having elements of the \n",
    "same data type. \n",
    "\n",
    "* **Numpy arrays only store homogeneous data. Homogeneous data will be consistent in size, if its consistent in size, it can be stored in contiguous or continuous memory locations. Numpy arrays could actually be faster than python lists. WE WILL PROVE THIS.**\n",
    "\n",
    "* We have heard that Java, C, C++ are fast programming languages than python. Why is python slow? \n",
    "Because, we have discussed this in the first lecure of python, that **PYTHON IS BUILT AS AN ABSTRACTION ON TOP OF C. Python ultimately gets converted into C code, which then gets converted into machine code. \"C is where the python compiler sits.\"**\n",
    "\n",
    "* Numpy is also incredibly fast, as it has bindings to C libraries. For more info on why you would want to use Arrays instead of lists, check out this great [StackOverflow post](http://stackoverflow.com/questions/993984/why-numpy-instead-of-python-lists).\n",
    "\n",
    "* If we run python in cmd prompt, you will see Clang 13.0.0. and that tells you that python interpretor is built in C.\n",
    "**So, what happens is that python code gets converted into C code, which then gets complied into machine code.\n",
    "So, since there is an added step on top of C program, ultimately by nature its bound to get slow.**\n",
    "\n",
    "* **But numpy, even though it works with python, internally directly uses C, so numpy is not an abstraction on top of python.\n",
    "Numpy is also an abstraction on top of C, but it utilizes a lot of properties of C, which python does not. So, although python introduced heterogeneity, numpy doesnt introduce it. Numpy is homogenous. Numpy uses a lot of features directly from C and that is why numpy is faster than a lot of core python concepts. Since, numpy is directly compatible with C and C is a homogenous language, numpy arrays are faster than python lists.**\n",
    "\n",
    "* Numpy and python work in conjunction with each other to get their code converted to C and then to machine language.\n",
    "Numpy's compatibility with is actually better than python. At the same time all of the python concepts like indexing etc will also work with numpy.\n",
    "\n",
    "* **As a data scientist who has to work with millions and millions of data, numpy becomes very obvious choice. And, numpy\n",
    "is omnipresent in all DA/DS roles without fail its gonna come.**\n",
    "\n",
    "* So, numpy array is built on top of C and is more compatible with C and also takes a lot of features of both C and python, but since its homogenous, its lot faster than python lists. Numpy library is built on top of C not on python."
   ]
  },
  {
   "cell_type": "markdown",
   "id": "3d3ca9ee",
   "metadata": {},
   "source": [
    "<hr style=\"border: 1px solid gray;\">\n",
    "\n",
    "**Here \"a\" is a heterogenous python list**"
   ]
  },
  {
   "cell_type": "code",
   "execution_count": 1,
   "id": "d3a50c6a",
   "metadata": {},
   "outputs": [
    {
     "data": {
      "text/plain": [
       "[1,\n",
       " 4.5,\n",
       " 'string',\n",
       " True,\n",
       " 7890234567874345678765,\n",
       " 'this is a massive string with a tonne of characters']"
      ]
     },
     "execution_count": 1,
     "metadata": {},
     "output_type": "execute_result"
    }
   ],
   "source": [
    "a = [1, 4.5, \"string\", True, 7890234567874345678765, \"this is a massive string with a tonne of characters\"]\n",
    "\n",
    "a"
   ]
  },
  {
   "cell_type": "markdown",
   "id": "d9009d11",
   "metadata": {},
   "source": [
    "**Importing a module**"
   ]
  },
  {
   "cell_type": "code",
   "execution_count": 2,
   "id": "cf670f9b",
   "metadata": {},
   "outputs": [],
   "source": [
    "import math as m  "
   ]
  },
  {
   "cell_type": "markdown",
   "id": "1e34b64b",
   "metadata": {},
   "source": [
    "**Now all the module's methods are available to use with the help of the alias and dot operator.**"
   ]
  },
  {
   "cell_type": "code",
   "execution_count": 3,
   "id": "f6025053",
   "metadata": {},
   "outputs": [
    {
     "data": {
      "text/plain": [
       "2.302585092994046"
      ]
     },
     "execution_count": 3,
     "metadata": {},
     "output_type": "execute_result"
    }
   ],
   "source": [
    "m.log(10)  "
   ]
  },
  {
   "cell_type": "markdown",
   "id": "5630b21e",
   "metadata": {},
   "source": [
    "<hr style=\"border: 1px solid gray;\">\n",
    "\n",
    "# <code style=\"background:yellow;color:black\">Using NumPy:</code>"
   ]
  },
  {
   "cell_type": "markdown",
   "id": "a27574a5",
   "metadata": {},
   "source": [
    "**Once we've installed NumPy, we can import it as a library**"
   ]
  },
  {
   "cell_type": "code",
   "execution_count": 4,
   "id": "be0e2ba9",
   "metadata": {},
   "outputs": [],
   "source": [
    "import numpy as np"
   ]
  },
  {
   "cell_type": "markdown",
   "id": "689412c7",
   "metadata": {},
   "source": [
    "**Lets create a normal python list a**"
   ]
  },
  {
   "cell_type": "code",
   "execution_count": 5,
   "id": "c2092c4e",
   "metadata": {},
   "outputs": [],
   "source": [
    "a = [1, 2, 3, 4, 5]"
   ]
  },
  {
   "cell_type": "markdown",
   "id": "f55336af",
   "metadata": {},
   "source": [
    "**We are creating a python list \"res\", using list comprehension to create squares of elements of a**"
   ]
  },
  {
   "cell_type": "code",
   "execution_count": 6,
   "id": "0ac5f492",
   "metadata": {},
   "outputs": [
    {
     "data": {
      "text/plain": [
       "[1, 4, 9, 16, 25]"
      ]
     },
     "execution_count": 6,
     "metadata": {},
     "output_type": "execute_result"
    }
   ],
   "source": [
    "res = [i ** 2 for i in a]  \n",
    "\n",
    "res"
   ]
  },
  {
   "cell_type": "markdown",
   "id": "23f7adb6",
   "metadata": {},
   "source": [
    "<hr style=\"border: 1px solid gray;\">\n",
    "\n",
    "# <code style=\"background:yellow;color:black\">Creating NumPy Arrays:</code>\n",
    "\n",
    "**There are two general purpose or common ways to create a numpy array:**\n",
    "\n",
    "### <code style=\"background:yellow;color:black\">1. array() function:</code>\n",
    "\n",
    "* **In NumPy, the <code style=\"background:yellow;color:black\">numpy.array() function</code> is used to create a numpy array.** \n",
    "* **<code style=\"background:yellow;color:black\">It can convert a python list, tuple, or any array-like object into a NumPy array.</code>** \n",
    "* **The syntax of numpy.array() is straightforward: <code style=\"background:yellow;color:black\">numpy.array(object, dtype = None).</code>** Here \"object\" is the input data structure, like a list, tuple, or another array. \"dtype\" is the desired data type of the array. If not specified, NumPy will infer the data type.\n",
    "* We can create a numpy array using this method which is defined for array object in numpy. We pass a python list or nested lists in array() method as parameters to create nD numpy array.\n",
    "* **<code style=\"background:yellow;color:black\">We can also create a nD array by directly converting a python list or nested list.</code> Following is an example of creating a numpy array \"b\" from a python list.**\n",
    "* In following code cell, we can see type of \"b\", which is a n-dimensional numpy array. Here, \"b\" is 1D array. Whereas in next code cell we can see that \"a\" is a python list."
   ]
  },
  {
   "cell_type": "code",
   "execution_count": 44,
   "id": "b0604110",
   "metadata": {},
   "outputs": [
    {
     "data": {
      "text/plain": [
       "array([1, 2, 3, 4, 5])"
      ]
     },
     "execution_count": 44,
     "metadata": {},
     "output_type": "execute_result"
    }
   ],
   "source": [
    "a = [1, 2, 3, 4, 5]\n",
    "\n",
    "b = np.array(a)\n",
    "\n",
    "b"
   ]
  },
  {
   "cell_type": "code",
   "execution_count": 8,
   "id": "af3c65fb",
   "metadata": {},
   "outputs": [
    {
     "data": {
      "text/plain": [
       "numpy.ndarray"
      ]
     },
     "execution_count": 8,
     "metadata": {},
     "output_type": "execute_result"
    }
   ],
   "source": [
    "type(b)"
   ]
  },
  {
   "cell_type": "code",
   "execution_count": 9,
   "id": "e19f2a3d",
   "metadata": {},
   "outputs": [
    {
     "data": {
      "text/plain": [
       "list"
      ]
     },
     "execution_count": 9,
     "metadata": {},
     "output_type": "execute_result"
    }
   ],
   "source": [
    "type(a)"
   ]
  },
  {
   "cell_type": "markdown",
   "id": "48fe7a3a",
   "metadata": {},
   "source": [
    "### <code style=\"background:yellow;color:black\">2. arange() function:</code>\n",
    "\n",
    "* **In NumPy, the <code style=\"background:yellow;color:black\">numpy.arange() function</code> is used to create a 1D array with regularly spaced values within a specified range.** \n",
    "* **It is similar to the built-in range() function in Python but returns a NumPy array.**\n",
    "* **<code style=\"background:yellow;color:black\">Format of arange() is: np.arange(start, end, step_size).</code> It works exactly like range(), default step size is 1 same as range(), ending value isnt included just like range().**\n",
    "* range() in python generates a sequence; we can have a start point, end point and a step size. Similarly arange() in numpy can also have starting point, end point and step size. Starting point is included, ending point isnt included just like range().\n",
    "* There is one very important thing about this that its spelled as arange() with a single \"r\" not double \"rr\". Many people make this mistake, so we have be careful.\n",
    "* **One added functionality we get in arange(), but will not work in case of lists or python range() function is that it can also work with floating point step sizes or jump values.** This is one added advantage that we get on top of python range() function.\n",
    "\n",
    "\n",
    "**<code style=\"background:yellow;color:black\">np.arange() and np.array(range())</code> are two ways to create 1D Numpy arrays with regularly spaced values, but they differ in terms of usage and flexibility.**\n",
    "\n",
    "* **np.arange()**: np.arange() is a function provided by numpy to create a 1D array of evenly spaced values within a specified range. We specify the start, stop, and step size as arguments. For example: np.arange(start, stop, step). It returns an array with values from start to (but not including) stop, incrementing by step.\n",
    "\n",
    "* **np.array(range())**: In this approach, we first create a python range object using the built-in range() method and then convert it to a numpy array using np.array(). We typically specify the start, stop, and step size using range() and then convert it into an array.\n",
    "\n",
    "**In practice, np.arange() is more convenient and commonly used because it directly generates a numpy array with the specified values, whereas np.array(range()) involves an extra step of creating a python range object and then converting it into a numpy array. However, both methods ultimately achieve the same result in terms of creating 1D arrays with evenly spaced values.**\n",
    "\n",
    "* In the code cell example below, we have created a 1D numpy array \"a1\" using arange() function.\n",
    "* In next code cell, we have provided different step size. Note that ending element i.e \"5\" isnt included.\n",
    "* In the next code cell example below, step size or jump is of \"0.5\". \n",
    "* **One imp thing to note here is that since numpy arrays are homogenous, it cant have int and float together, so in final result array all integers got automatically converted to floating point values to maintain homogeneity.**"
   ]
  },
  {
   "cell_type": "code",
   "execution_count": 35,
   "id": "1ff8f11a",
   "metadata": {},
   "outputs": [
    {
     "data": {
      "text/plain": [
       "array([1, 2, 3, 4])"
      ]
     },
     "execution_count": 35,
     "metadata": {},
     "output_type": "execute_result"
    }
   ],
   "source": [
    "a1 = np.arange(1, 5)  \n",
    "\n",
    "a1"
   ]
  },
  {
   "cell_type": "code",
   "execution_count": 36,
   "id": "68cdb510",
   "metadata": {},
   "outputs": [
    {
     "data": {
      "text/plain": [
       "array([1, 3])"
      ]
     },
     "execution_count": 36,
     "metadata": {},
     "output_type": "execute_result"
    }
   ],
   "source": [
    "a2 = np.arange(1, 5, 2)\n",
    "\n",
    "a2"
   ]
  },
  {
   "cell_type": "code",
   "execution_count": 37,
   "id": "6abb35d6",
   "metadata": {},
   "outputs": [
    {
     "data": {
      "text/plain": [
       "array([1. , 1.5, 2. , 2.5, 3. , 3.5, 4. , 4.5])"
      ]
     },
     "execution_count": 37,
     "metadata": {},
     "output_type": "execute_result"
    }
   ],
   "source": [
    "a3 = np.arange(1, 5, 0.5)\n",
    "\n",
    "a3"
   ]
  },
  {
   "cell_type": "markdown",
   "id": "9f372453",
   "metadata": {},
   "source": [
    "<hr style=\"border: 1px solid gray;\">\n",
    "\n",
    "## <code style=\"background:yellow;color:black\">ndim attribute:</code>\n",
    "\n",
    "* **The <code style=\"background:yellow;color:black\">ndim attribute</code> in NumPy is used to determine the number of dimensions or axes in a NumPy array. It stands for \"number of dimensions.\"** \n",
    "* This attribute is particularly useful when we want to understand the dimensionality of an array, which is crucial for many operations and manipulations.\n",
    "* The .ndim attribute provides a simple and convenient way to check the dimensionality of an array, which is useful when we want to ensure that we are working with data of the correct shape or when we need to perform operations specific to the number of dimensions in your array.\n",
    "\n",
    "## <code style=\"background:yellow;color:black\">shape attribute:</code>\n",
    "\n",
    "* **The <code style=\"background:yellow;color:black\">shape attribute</code> in NumPy is not actually a method; it's an attribute of a NumPy array. It provides information about the dimensions of the array.** \n",
    "* Specifically, it returns a tuple that represents the size of each dimension in the array.\n",
    "* For a 1-dimensional array, the shape attribute will be a tuple with a single element indicating the number of elements along that dimension. \n",
    "* For multi-dimensional arrays, the shape attribute will be a tuple with multiple elements, each element corresponding to the size of a particular dimension.\n",
    "\n",
    "**In the code cells below, we are creating two numpy arrays \"c\" and \"d\" using array() method and checking its dimensions and shape. \"c\" is a 2D array and \"d\" is a 1D array.**"
   ]
  },
  {
   "cell_type": "code",
   "execution_count": 48,
   "id": "6022226c",
   "metadata": {},
   "outputs": [
    {
     "data": {
      "text/plain": [
       "array([[ 1,  2,  3],\n",
       "       [ 4,  5,  6],\n",
       "       [ 7,  8,  9],\n",
       "       [10, 11, 12]])"
      ]
     },
     "execution_count": 48,
     "metadata": {},
     "output_type": "execute_result"
    }
   ],
   "source": [
    "c = np.array([[1, 2, 3], [4, 5, 6], [7, 8, 9], [10, 11, 12]])\n",
    "\n",
    "c"
   ]
  },
  {
   "cell_type": "code",
   "execution_count": 49,
   "id": "3432096c",
   "metadata": {},
   "outputs": [
    {
     "data": {
      "text/plain": [
       "2"
      ]
     },
     "execution_count": 49,
     "metadata": {},
     "output_type": "execute_result"
    }
   ],
   "source": [
    "c.ndim"
   ]
  },
  {
   "cell_type": "code",
   "execution_count": 50,
   "id": "df5e969a",
   "metadata": {},
   "outputs": [
    {
     "data": {
      "text/plain": [
       "(4, 3)"
      ]
     },
     "execution_count": 50,
     "metadata": {},
     "output_type": "execute_result"
    }
   ],
   "source": [
    "c.shape"
   ]
  },
  {
   "cell_type": "code",
   "execution_count": 51,
   "id": "9a6a119a",
   "metadata": {},
   "outputs": [],
   "source": [
    "d = np.array(range(10000))"
   ]
  },
  {
   "cell_type": "code",
   "execution_count": 52,
   "id": "915c76d8",
   "metadata": {},
   "outputs": [
    {
     "data": {
      "text/plain": [
       "1"
      ]
     },
     "execution_count": 52,
     "metadata": {},
     "output_type": "execute_result"
    }
   ],
   "source": [
    "d.ndim  "
   ]
  },
  {
   "cell_type": "code",
   "execution_count": 53,
   "id": "9d557cc9",
   "metadata": {},
   "outputs": [
    {
     "data": {
      "text/plain": [
       "(10000,)"
      ]
     },
     "execution_count": 53,
     "metadata": {},
     "output_type": "execute_result"
    }
   ],
   "source": [
    "d.shape"
   ]
  },
  {
   "cell_type": "markdown",
   "id": "a8119254",
   "metadata": {},
   "source": [
    "<hr style=\"border: 1px solid gray;\">\n",
    "\n",
    "# <code style=\"background:yellow;color:black\">Numpy arrays support element wise operations:</code>"
   ]
  },
  {
   "cell_type": "code",
   "execution_count": 10,
   "id": "250d1473",
   "metadata": {},
   "outputs": [
    {
     "data": {
      "text/plain": [
       "array([1, 2, 3, 4, 5])"
      ]
     },
     "execution_count": 10,
     "metadata": {},
     "output_type": "execute_result"
    }
   ],
   "source": [
    "b"
   ]
  },
  {
   "cell_type": "markdown",
   "id": "f6a094b9",
   "metadata": {},
   "source": [
    "**This operation of element wise operation wont work with python lists**"
   ]
  },
  {
   "cell_type": "code",
   "execution_count": 11,
   "id": "1d64782d",
   "metadata": {},
   "outputs": [
    {
     "ename": "TypeError",
     "evalue": "unsupported operand type(s) for ** or pow(): 'list' and 'int'",
     "output_type": "error",
     "traceback": [
      "\u001b[1;31m---------------------------------------------------------------------------\u001b[0m",
      "\u001b[1;31mTypeError\u001b[0m                                 Traceback (most recent call last)",
      "Cell \u001b[1;32mIn[11], line 1\u001b[0m\n\u001b[1;32m----> 1\u001b[0m a \u001b[38;5;241m*\u001b[39m\u001b[38;5;241m*\u001b[39m \u001b[38;5;241m2\u001b[39m\n",
      "\u001b[1;31mTypeError\u001b[0m: unsupported operand type(s) for ** or pow(): 'list' and 'int'"
     ]
    }
   ],
   "source": [
    "a ** 2"
   ]
  },
  {
   "cell_type": "markdown",
   "id": "4892707b",
   "metadata": {},
   "source": [
    "**Same operation of squares of elements but using numpy array**"
   ]
  },
  {
   "cell_type": "code",
   "execution_count": 12,
   "id": "fd7384cc",
   "metadata": {},
   "outputs": [
    {
     "data": {
      "text/plain": [
       "array([ 1,  4,  9, 16, 25])"
      ]
     },
     "execution_count": 12,
     "metadata": {},
     "output_type": "execute_result"
    }
   ],
   "source": [
    "b ** 2"
   ]
  },
  {
   "cell_type": "markdown",
   "id": "08cf6e26",
   "metadata": {},
   "source": [
    "<hr style=\"border: 1px solid gray;\">\n",
    "\n",
    "# <code style=\"background:yellow;color:black\">New function to check execution time of a particular operation:</code>\n",
    "\n",
    "**The <code style=\"background:yellow;color:black\">%timeit function</code> is a built-in magic command in IPython, Jupyter, and some other interactive computing environments. It is used to measure the execution time of a single line of code or a code block. When used, %timeit runs the specified code multiple times and provides information about the average execution time, standard deviation, and other statistics. This is useful for quickly assessing the performance of different code snippets.**\n",
    "\n",
    "* **We are checking through this function, how much computation time it takes in case of a python list.**\n",
    "* **Python list's processing times in case of cubes, are in milli seconds, as can be seen in below code cell.**\n",
    "* **We are checking through this function, how much computation time it takes in case of a numpy array called l.**\n",
    "* **Hence proved that <code style=\"background:yellow;color:black\">numpy arrays are 1000 times faster than python lists</code> because when we compare numpy array's processing times in case of cubes, they are in micro seconds whereas python list's processing times are in milliseconds.**"
   ]
  },
  {
   "cell_type": "code",
   "execution_count": 13,
   "id": "cf50b25a",
   "metadata": {},
   "outputs": [
    {
     "name": "stdout",
     "output_type": "stream",
     "text": [
      "734 ns ± 36.7 ns per loop (mean ± std. dev. of 7 runs, 1,000,000 loops each)\n"
     ]
    }
   ],
   "source": [
    "%timeit [i ** 2 for i in a]"
   ]
  },
  {
   "cell_type": "code",
   "execution_count": 14,
   "id": "ed33e046",
   "metadata": {},
   "outputs": [
    {
     "name": "stdout",
     "output_type": "stream",
     "text": [
      "17.4 ms ± 651 µs per loop (mean ± std. dev. of 7 runs, 100 loops each)\n"
     ]
    }
   ],
   "source": [
    "%timeit [i ** 3 for i in range(100000)]"
   ]
  },
  {
   "cell_type": "code",
   "execution_count": 15,
   "id": "7f6f6236",
   "metadata": {},
   "outputs": [
    {
     "name": "stdout",
     "output_type": "stream",
     "text": [
      "230 µs ± 908 ns per loop (mean ± std. dev. of 7 runs, 1,000 loops each)\n"
     ]
    }
   ],
   "source": [
    "l = np.array(range(100000))\n",
    "\n",
    "%timeit l ** 3"
   ]
  },
  {
   "cell_type": "markdown",
   "id": "ea38f37e",
   "metadata": {},
   "source": [
    "<hr style=\"border: 1px solid gray;\">\n",
    "\n",
    "# <code style=\"background:yellow;color:black\">Why is numpy so fast?</code>\n",
    "\n",
    "Numpy is often significantly faster than pure python when it comes to numerical and scientific computing tasks. This is because numpy is designed for efficient array operations and mathematical computations, and it's implemented in low-level languages like C, which can perform operations much faster than python, which is an interpreted, high-level language.\n",
    "\n",
    "- **Homogeneous datatype-** Homogeneity allows NumPy to use contiguous blocks of memory and perform operations more efficiently.\n",
    "- **Parallelism-** Numpy divides tasks in parallel processes, meaning numpy can take advantage of multi-core processors and parallelism, which speeds up computations for large datasets. \n",
    "- **Optimized C Code-** Numpy functions are directly implemented in C. Many of the core functions in NumPy are implemented in C, which is a low-level language that can execute code much faster than Python. This means that many NumPy operations are faster than their equivalent pure Python implementations.\n",
    "- **Vectorization-** Numpy supports vectorized operations, which means it can operate on entire arrays without the need for explicit Python loops. This allows for highly optimized, low-level operations on data, leading to improved performance."
   ]
  },
  {
   "cell_type": "markdown",
   "id": "c83a4ae7",
   "metadata": {},
   "source": [
    "<hr style=\"border: 1px solid gray;\">\n",
    "\n",
    "# <code style=\"background:yellow;color:black\">Indexing and Slicing of 1D array:</code>\n",
    "\n",
    "**There are two types of indexing in numpy.**\n",
    "\n",
    "### <code style=\"background:yellow;color:black\">1. Basic Indexing:</code>\n",
    "\n",
    "* **All sorts of indexing - positive, negetive works on numpy arrays, similar to python lists.**\n",
    "* Indexing in NumPy starts at 0.\n",
    "* Negative indices represent counting from the end (e.g., -1 refers to the last element).\n",
    "* Slicing in NumPy works similarly to Python lists."
   ]
  },
  {
   "cell_type": "code",
   "execution_count": 54,
   "id": "eb8de100",
   "metadata": {},
   "outputs": [
    {
     "data": {
      "text/plain": [
       "array([1. , 1.5, 2. , 2.5, 3. , 3.5, 4. , 4.5])"
      ]
     },
     "execution_count": 54,
     "metadata": {},
     "output_type": "execute_result"
    }
   ],
   "source": [
    "a = np.arange(1, 5, 0.5)\n",
    "\n",
    "a"
   ]
  },
  {
   "cell_type": "code",
   "execution_count": 55,
   "id": "0ff00742",
   "metadata": {},
   "outputs": [
    {
     "data": {
      "text/plain": [
       "1.0"
      ]
     },
     "execution_count": 55,
     "metadata": {},
     "output_type": "execute_result"
    }
   ],
   "source": [
    "a[0]"
   ]
  },
  {
   "cell_type": "code",
   "execution_count": 56,
   "id": "6fc22670",
   "metadata": {},
   "outputs": [
    {
     "data": {
      "text/plain": [
       "4.5"
      ]
     },
     "execution_count": 56,
     "metadata": {},
     "output_type": "execute_result"
    }
   ],
   "source": [
    "a[-1]"
   ]
  },
  {
   "cell_type": "code",
   "execution_count": 57,
   "id": "3846fad8",
   "metadata": {},
   "outputs": [
    {
     "data": {
      "text/plain": [
       "array([2. , 2.5, 3. ])"
      ]
     },
     "execution_count": 57,
     "metadata": {},
     "output_type": "execute_result"
    }
   ],
   "source": [
    "a[2:5]"
   ]
  },
  {
   "cell_type": "markdown",
   "id": "5e9cc2c5",
   "metadata": {},
   "source": [
    "### <code style=\"background:yellow;color:black\">2. Fancy Indexing:</code>\n",
    "\n",
    "* **<code style=\"background:yellow;color:black\">Fancy indexing, often referred to as \"masking\" in NumPy,</code> is a technique that involves selecting elements from an array based on a set of Boolean conditions (masks) or a list of indices.**\n",
    "* Fancy Indexing that is unique to numpy.\n",
    "* It allows us to create new arrays or extract specific elements from an existing array by applying conditions or specifying positions. \n",
    "* Fancy indexing is a powerful feature in NumPy that provides flexibility in data selection and manipulation."
   ]
  },
  {
   "cell_type": "code",
   "execution_count": 58,
   "id": "b9f448e0",
   "metadata": {},
   "outputs": [
    {
     "data": {
      "text/plain": [
       "array([ 1,  2,  3,  4,  5,  6,  7,  8,  9, 10])"
      ]
     },
     "execution_count": 58,
     "metadata": {},
     "output_type": "execute_result"
    }
   ],
   "source": [
    "m1 = np.array(range(1, 11))\n",
    "\n",
    "m1"
   ]
  },
  {
   "cell_type": "markdown",
   "id": "49f69ea9",
   "metadata": {},
   "source": [
    "**What is the output of this code below? It will return another numpy array which will contain element wise responses. Basically it returns element wise result as a numpy array. Numpy supports element wise operation we know that.**"
   ]
  },
  {
   "cell_type": "code",
   "execution_count": 59,
   "id": "87f068b3",
   "metadata": {},
   "outputs": [
    {
     "data": {
      "text/plain": [
       "array([ True,  True,  True,  True,  True, False, False, False, False,\n",
       "       False])"
      ]
     },
     "execution_count": 59,
     "metadata": {},
     "output_type": "execute_result"
    }
   ],
   "source": [
    "m1 < 6"
   ]
  },
  {
   "cell_type": "markdown",
   "id": "3cff4a4f",
   "metadata": {},
   "source": [
    "We will learn three different concepts, and we will combine all to create something very powerful.\n",
    "\n",
    "* **First concept:** is that element wise operations are possible, which we have seen above.\n",
    "\n",
    "* **Second concept:** Usually in python, when we have a list like this: a = [1,2,3,4,5] , we can't get different indexes's elements like this: a[1,2,4]. It will throw an error, its not possible in python; selective picking of indexes at the same time. **But selective indexing is possible in numpy arrays, as shown below.**\n",
    "\n",
    "* **Third concept:** Combine the above two types and make a special type of indexing called fancy indexing. Such as: m1[m1 % 2 == 0] -> output -> This will give all the even elements - array([ 2, 4, 6, 8, 10]). What happens in details working is explained below.\n",
    "\n",
    "**Below we are trying to fetch elements at multiple indexes at the same time, which is not possible in python lists. But it is possible in numpy arrays.**"
   ]
  },
  {
   "cell_type": "code",
   "execution_count": 60,
   "id": "c0916837",
   "metadata": {},
   "outputs": [
    {
     "ename": "TypeError",
     "evalue": "list indices must be integers or slices, not tuple",
     "output_type": "error",
     "traceback": [
      "\u001b[1;31m---------------------------------------------------------------------------\u001b[0m",
      "\u001b[1;31mTypeError\u001b[0m                                 Traceback (most recent call last)",
      "Cell \u001b[1;32mIn[60], line 3\u001b[0m\n\u001b[0;32m      1\u001b[0m a \u001b[38;5;241m=\u001b[39m [\u001b[38;5;241m1\u001b[39m,\u001b[38;5;241m2\u001b[39m,\u001b[38;5;241m3\u001b[39m,\u001b[38;5;241m4\u001b[39m,\u001b[38;5;241m5\u001b[39m]\n\u001b[1;32m----> 3\u001b[0m a[\u001b[38;5;241m1\u001b[39m,\u001b[38;5;241m2\u001b[39m,\u001b[38;5;241m4\u001b[39m]\n",
      "\u001b[1;31mTypeError\u001b[0m: list indices must be integers or slices, not tuple"
     ]
    }
   ],
   "source": [
    "a = [1,2,3,4,5]\n",
    "\n",
    "a[1,2,4] "
   ]
  },
  {
   "cell_type": "code",
   "execution_count": 61,
   "id": "14b78e32",
   "metadata": {},
   "outputs": [
    {
     "data": {
      "text/plain": [
       "array([ 1,  2,  3,  4,  5,  6,  7,  8,  9, 10])"
      ]
     },
     "execution_count": 61,
     "metadata": {},
     "output_type": "execute_result"
    }
   ],
   "source": [
    "m1"
   ]
  },
  {
   "cell_type": "code",
   "execution_count": 62,
   "id": "3f2abb03",
   "metadata": {},
   "outputs": [
    {
     "data": {
      "text/plain": [
       "array([2, 6, 4, 5])"
      ]
     },
     "execution_count": 62,
     "metadata": {},
     "output_type": "execute_result"
    }
   ],
   "source": [
    "m1[[1,5,3,4]]  "
   ]
  },
  {
   "cell_type": "code",
   "execution_count": 63,
   "id": "efd10023",
   "metadata": {},
   "outputs": [
    {
     "data": {
      "text/plain": [
       "array([False,  True, False,  True, False,  True, False,  True, False,\n",
       "        True])"
      ]
     },
     "execution_count": 63,
     "metadata": {},
     "output_type": "execute_result"
    }
   ],
   "source": [
    "m1 % 2 == 0"
   ]
  },
  {
   "cell_type": "code",
   "execution_count": 64,
   "id": "89b93396",
   "metadata": {},
   "outputs": [
    {
     "data": {
      "text/plain": [
       "array([ 2,  4,  6,  8, 10])"
      ]
     },
     "execution_count": 64,
     "metadata": {},
     "output_type": "execute_result"
    }
   ],
   "source": [
    "m1[m1 % 2 == 0]"
   ]
  },
  {
   "cell_type": "markdown",
   "id": "8af32868",
   "metadata": {},
   "source": [
    "### BREAKDOWN of above code:\n",
    "\n",
    "- First it will generate result of this: m1 % 2 == 0 -> output of which is an array --> [False, True, False, True, False, True, False, True, False, True]\n",
    "\n",
    "- And then it will superimpose this on top of this array - [ 1,  2,  3,  4,  5,  6,  7,  8,  9, 10]. And basically, put them together. \n",
    "\n",
    "- It will work like this: If the corresponding value to \"1\" is \"false\", then it will not keep it and vice versa. And hence we get the final result.\n",
    "\n",
    "So, this is sort of indexing by using filters or its like a filtering of data because we are filtering data on the basis \n",
    "of a condition. Only values that correspond to \"true\" are filtered."
   ]
  },
  {
   "cell_type": "markdown",
   "id": "0a6ae5b9",
   "metadata": {},
   "source": [
    "<hr style=\"border: 1px solid gray;\">\n",
    "\n",
    "**<code style=\"background:yellow;color:black\">Almost everything in python is an object</code>**\n",
    "\n",
    "* **In Python, almost everything is an object. Python is designed to be an object-oriented programming language, and this design choice is reflected in its syntax and semantics.** \n",
    "* In Python, objects are instances of classes, and everything in Python, including integers, strings, functions, and even modules, is an object.\n",
    "* In Python, everything being an object means that variables are references to objects, and objects have a type and can be manipulated accordingly. \n",
    "* This object-oriented paradigm is a fundamental aspect of Python's flexibility and expressiveness. It enables features like inheritance, polymorphism, encapsulation, and more.\n",
    "\n",
    "**<code style=\"background:yellow;color:black\">In a NumPy array, all subarrays (rows) should have the same length</code>**\n",
    "\n",
    "* **NumPy arrays are designed to represent multi-dimensional arrays where each dimension (or axis) must have consistent lengths.**\n",
    "* **In terminology, 1D numpy array is called a VECTOR, 2D numpy array is called a MATRIX and 3D numpy array is called 3D numpy array and so on.**\n",
    "* **So, we dont create a 2D numpy array, we create 2D numpy matrix.**\n",
    "* When we run the following code, error says it has an inhomogenous shape, which means that when we are working with numpy arrays, we only work with numpy matrices, and we dont work with a data which is not a matrix.\n",
    "\n",
    "**<code style=\"background:yellow;color:black\">Also note that visualization of 3D arrays is in notes.</code> Refer that.**"
   ]
  },
  {
   "cell_type": "code",
   "execution_count": 65,
   "id": "0c97d948",
   "metadata": {},
   "outputs": [
    {
     "ename": "ValueError",
     "evalue": "setting an array element with a sequence. The requested array has an inhomogeneous shape after 1 dimensions. The detected shape was (4,) + inhomogeneous part.",
     "output_type": "error",
     "traceback": [
      "\u001b[1;31m---------------------------------------------------------------------------\u001b[0m",
      "\u001b[1;31mValueError\u001b[0m                                Traceback (most recent call last)",
      "Cell \u001b[1;32mIn[65], line 1\u001b[0m\n\u001b[1;32m----> 1\u001b[0m np\u001b[38;5;241m.\u001b[39marray([[\u001b[38;5;241m1\u001b[39m],[\u001b[38;5;241m2\u001b[39m,\u001b[38;5;241m3\u001b[39m],[\u001b[38;5;241m4\u001b[39m,\u001b[38;5;241m5\u001b[39m,\u001b[38;5;241m6\u001b[39m],[\u001b[38;5;241m7\u001b[39m,\u001b[38;5;241m8\u001b[39m,\u001b[38;5;241m9\u001b[39m,\u001b[38;5;241m10\u001b[39m]])\n",
      "\u001b[1;31mValueError\u001b[0m: setting an array element with a sequence. The requested array has an inhomogeneous shape after 1 dimensions. The detected shape was (4,) + inhomogeneous part."
     ]
    }
   ],
   "source": [
    "np.array([[1],[2,3],[4,5,6],[7,8,9,10]])"
   ]
  },
  {
   "cell_type": "markdown",
   "id": "b816c9a6",
   "metadata": {},
   "source": [
    "<hr style=\"border: 1px solid gray;\">\n",
    "\n",
    "# <code style=\"background:yellow;color:black\">Typecasting:</code>\n",
    "\n",
    "* **<code style=\"background:yellow;color:black\">Typecasting</code> in NumPy refers to the process of converting the data type of an array to another data type.** \n",
    "* NumPy provides several functions for typecasting, allowing us to convert arrays to different data types according to our needs.\n",
    "* **When typecasting happens automaticaly, we call this <code style=\"background:yellow;color:black\">INTRINSIC TYPECASTING,</code> but when typecasting happens manually based on user preference, we call this <code style=\"background:yellow;color:black\">EXTRINSIC TYPECASTING.</code>**\n",
    "\n",
    "**In this example below, if we have a list of int and float, <code style=\"background:yellow;color:black\">numpy will automatically convert them all into floating point values</code> in order for numpy to maintain homogeneity.**\n",
    "\n",
    "**But what if, we have something like this in the next example code below? We have a list of string and integers. Now <code style=\"background:yellow;color:black\">numpy converts them all to strings.</code> Everything is convertible to strings, even numbers can be strings. Homogeneity is still maintained. And it also tells us the datatype in the rightmost area of the output.** U11 is basically a unicode representation, its a mapping similar to ASCII. It basically tells us that these are strings."
   ]
  },
  {
   "cell_type": "code",
   "execution_count": 66,
   "id": "24afbdd0",
   "metadata": {},
   "outputs": [
    {
     "data": {
      "text/plain": [
       "array([1. , 2. , 3. , 4. , 5.6])"
      ]
     },
     "execution_count": 66,
     "metadata": {},
     "output_type": "execute_result"
    }
   ],
   "source": [
    "a = [1, 2, 3, 4, 5.6] # List of int and float\n",
    "\n",
    "a = np.array(a)\n",
    "\n",
    "a"
   ]
  },
  {
   "cell_type": "code",
   "execution_count": 67,
   "id": "65c625d9",
   "metadata": {},
   "outputs": [
    {
     "data": {
      "text/plain": [
       "array(['bipin kalra', '1', '2', '3', '4', '5'], dtype='<U11')"
      ]
     },
     "execution_count": 67,
     "metadata": {},
     "output_type": "execute_result"
    }
   ],
   "source": [
    "b = np.array([\"bipin kalra\", 1, 2, 3, 4, 5]) # List of int and string\n",
    "\n",
    "b"
   ]
  },
  {
   "cell_type": "markdown",
   "id": "b54322d6",
   "metadata": {},
   "source": [
    "* Like we saw above, all the integer values got converted automatically to floating point values in order for numpy to maintain homogeneity; so if we have a list of int and float, numpy will automatically convert them all into floating point values.\n",
    "\n",
    "* But what if we dont want it to do automatically, that is, we dont want numpy to convert ints to floats forcibly or implicitly or automatically. For eg, if we provide an array like this in example: c = np.array([1,2,3,4.5]), we dont want the default output - array([1. , 2. , 3. , 4.5]).\n",
    "\n",
    "**Here are some commonly used Extrinsic NumPy typecasting functions:**\n",
    "\n",
    "* **<code style=\"background:yellow;color:black\">astype() Method:</code>** The astype() method is used to cast an array to a specified data type. It returns a new array with the specified data type.\n",
    "\n",
    "* **<code style=\"background:yellow;color:black\">numpy.int64(), numpy.float64(), etc.:</code>** NumPy provides specific functions for creating arrays with a particular data type.\n",
    "\n",
    "* **<code style=\"background:yellow;color:black\">numpy.asarray():</code>** The asarray() function is similar to astype() but returns a view of the input array instead of creating a new array.\n",
    "\n",
    "Lets see these examples below of extrinsic typecasting-"
   ]
  },
  {
   "cell_type": "code",
   "execution_count": 69,
   "id": "c862259b",
   "metadata": {},
   "outputs": [
    {
     "data": {
      "text/plain": [
       "array([1., 2., 3., 4., 5.])"
      ]
     },
     "execution_count": 69,
     "metadata": {},
     "output_type": "execute_result"
    }
   ],
   "source": [
    "arr = np.array([1, 2, 3, 4, 5])\n",
    "\n",
    "arr_float = arr.astype(float) # Convert to float using astype() method\n",
    "\n",
    "arr_float"
   ]
  },
  {
   "cell_type": "code",
   "execution_count": 71,
   "id": "3cb47a07",
   "metadata": {},
   "outputs": [
    {
     "data": {
      "text/plain": [
       "array([1., 2., 3., 4., 5.])"
      ]
     },
     "execution_count": 71,
     "metadata": {},
     "output_type": "execute_result"
    }
   ],
   "source": [
    "arr1 = np.array([1, 2, 3, 4, 5])\n",
    "\n",
    "\n",
    "arr_float1 = np.float64(arr1) # Convert to float using np.float64 method\n",
    "\n",
    "arr_float1"
   ]
  },
  {
   "cell_type": "code",
   "execution_count": 72,
   "id": "5fad58f3",
   "metadata": {},
   "outputs": [
    {
     "data": {
      "text/plain": [
       "array([1., 2., 3., 4., 5.])"
      ]
     },
     "execution_count": 72,
     "metadata": {},
     "output_type": "execute_result"
    }
   ],
   "source": [
    "arr2 = [1, 2, 3, 4, 5]\n",
    "\n",
    "arr_float2 = np.asarray(arr, dtype = float) # Convert to float using asarray() method\n",
    "\n",
    "arr_float2"
   ]
  },
  {
   "cell_type": "code",
   "execution_count": 73,
   "id": "a3e1dae2",
   "metadata": {},
   "outputs": [
    {
     "data": {
      "text/plain": [
       "array([1., 2., 3., 4.])"
      ]
     },
     "execution_count": 73,
     "metadata": {},
     "output_type": "execute_result"
    }
   ],
   "source": [
    "d = np.array([1, 2, 3, 4], dtype = \"float\")\n",
    "\n",
    "d"
   ]
  },
  {
   "cell_type": "markdown",
   "id": "781cb4c6",
   "metadata": {},
   "source": [
    "* If we provide a heterogenous list to a numpy array, all the different datatypes can be converted to one common consistent datatype, and numpy will do that. It will automatically do that type conversion.\n",
    "\n",
    "* But if we want to do it ourself- lets suppose we are providing a bunch of ints and we want to convert them to floats manually, we can also specify the datatype that this numpy array is going to have at the time of creation of that array, by specifying dtype = \"float\" or for string dtype = \"U21\".\n",
    "\n",
    "* **A problem or shortcoming of this is that when we provide the user the capability to change, user can do something like this in the example below. Floats can be converted to strings. <code style=\"background:yellow;color:black\">CAN STRINGS BE CONVERTED TO FLOATS? NO THATS NO POSSIBLE. THATS WHERE ERROR OCCURS.</code> Its nonsensical to a certain degree. And thats why numpy does not allow that.**\n",
    "\n",
    "* While we have a lot of manual conversion capability avaliable, some of it cant be used."
   ]
  },
  {
   "cell_type": "code",
   "execution_count": 34,
   "id": "fee79081",
   "metadata": {},
   "outputs": [
    {
     "ename": "ValueError",
     "evalue": "could not convert string to float: 'This'",
     "output_type": "error",
     "traceback": [
      "\u001b[1;31m---------------------------------------------------------------------------\u001b[0m",
      "\u001b[1;31mValueError\u001b[0m                                Traceback (most recent call last)",
      "Cell \u001b[1;32mIn[34], line 1\u001b[0m\n\u001b[1;32m----> 1\u001b[0m e \u001b[38;5;241m=\u001b[39m np\u001b[38;5;241m.\u001b[39marray([\u001b[38;5;124m\"\u001b[39m\u001b[38;5;124mThis\u001b[39m\u001b[38;5;124m\"\u001b[39m, \u001b[38;5;124m\"\u001b[39m\u001b[38;5;124mis\u001b[39m\u001b[38;5;124m\"\u001b[39m, \u001b[38;5;124m\"\u001b[39m\u001b[38;5;124mabsurd!\u001b[39m\u001b[38;5;124m\"\u001b[39m], dtype \u001b[38;5;241m=\u001b[39m \u001b[38;5;124m\"\u001b[39m\u001b[38;5;124mfloat\u001b[39m\u001b[38;5;124m\"\u001b[39m)\n",
      "\u001b[1;31mValueError\u001b[0m: could not convert string to float: 'This'"
     ]
    }
   ],
   "source": [
    "e = np.array([\"This\", \"is\", \"absurd!\"], dtype = \"float\")"
   ]
  },
  {
   "cell_type": "markdown",
   "id": "44010879",
   "metadata": {},
   "source": [
    "<hr style=\"border: 1px solid gray;\">\n",
    "\n",
    "1. Wherever possible, in numpy lectures, we will discuss very very small case studies or discussions, where we will utilize \n",
    "whatever we have learnt in the current lecture. In some lectures, we will have it. So, today's case study is about NPS.\n",
    "\n",
    "2. <code style=\"background:yellow;color:black\">**NPS is Net Promoter Score.</code> Many companies are using NPS as a very important metric to understand how customers are perceiving our product, what is their experience with our product.**\n",
    "\n",
    "3. In NPS, what we usually get is a rating from 0 to 10. So how likely are you to recommend this product or company to your \n",
    "friends or colleagues. You are asked to rate on a basis of 0 to 10. \n",
    "\n",
    "4. Anybody in a range of 0 to 6 is called a **detractor**, that is, this is somebody who might not recommend our product to \n",
    "somebody else. Anybody in range of 7,8 is called **neutral**, that is, does not like does not hate it but may not recommend.\n",
    "Anybody in range of 9,10 is basically a **promoter**, that is, somebody who is happy with the product and will recommend \n",
    "the product to other people and these are the kind of people we need.\n",
    "\n",
    "5. How we calculate NPS? We calculate NPS by saying **NPS = % promoters - % detrators**. So, fo eg, in 1000 people, how much percentage of people are promoters and how much percentage of people are detractors.\n",
    "\n",
    "6. **Usually in companies, getting a NPS of > 70 is considered to be amazing. And interestingly NPS IS USED BY MAJORITY OF \n",
    "FORTUNE 500 COMPANIES. Scaler also uses it. So, if you go in a company to work as a DA, you might work on NPS.**\n",
    "\n",
    "# <code style=\"background:yellow;color:black\">NPS CASE STUDY:</code>\n",
    "\n",
    "**The \"gdown\" tool is a command-line utility and Python library for downloading files from Google Drive using their unique file IDs. It's a convenient way to download files from Google Drive without requiring a Google Drive share link. You can use \"gdown\" to fetch files directly by specifying the file's ID in the URL.**\n",
    "\n",
    "We need to install the \"gdown\" library if we haven't already by using pip installer."
   ]
  },
  {
   "cell_type": "code",
   "execution_count": 2,
   "id": "b90d0605",
   "metadata": {},
   "outputs": [
    {
     "name": "stderr",
     "output_type": "stream",
     "text": [
      "Downloading...\n",
      "From: https://drive.google.com/uc?id=1c0ClC8SrPwJq5rrkyMKyPn80nyHcFikK\n",
      "To: C:\\Users\\Lenovo\\OneDrive\\Desktop\\Scalar\\Module 5- Python Libraries\\My Practice\\Class Practice\\survey.txt\n",
      "\n",
      "  0%|          | 0.00/2.55k [00:00<?, ?B/s]\n",
      "100%|##########| 2.55k/2.55k [00:00<?, ?B/s]\n"
     ]
    }
   ],
   "source": [
    "!gdown 1c0ClC8SrPwJq5rrkyMKyPn80nyHcFikK"
   ]
  },
  {
   "cell_type": "code",
   "execution_count": 45,
   "id": "b6b043b6",
   "metadata": {},
   "outputs": [],
   "source": [
    "score = np.loadtxt(\"survey.txt\", dtype = \"int\")"
   ]
  },
  {
   "cell_type": "code",
   "execution_count": 46,
   "id": "e1490237",
   "metadata": {},
   "outputs": [
    {
     "data": {
      "text/plain": [
       "numpy.ndarray"
      ]
     },
     "execution_count": 46,
     "metadata": {},
     "output_type": "execute_result"
    }
   ],
   "source": [
    "type(score)"
   ]
  },
  {
   "cell_type": "code",
   "execution_count": 47,
   "id": "ee3b58f5",
   "metadata": {},
   "outputs": [
    {
     "data": {
      "text/plain": [
       "(1167,)"
      ]
     },
     "execution_count": 47,
     "metadata": {},
     "output_type": "execute_result"
    }
   ],
   "source": [
    "score.shape"
   ]
  },
  {
   "cell_type": "code",
   "execution_count": 48,
   "id": "6a3c6e0f",
   "metadata": {},
   "outputs": [
    {
     "data": {
      "text/plain": [
       "array([ 7, 10,  5,  9,  9])"
      ]
     },
     "execution_count": 48,
     "metadata": {},
     "output_type": "execute_result"
    }
   ],
   "source": [
    "score[:5]"
   ]
  },
  {
   "cell_type": "code",
   "execution_count": 49,
   "id": "1156af43",
   "metadata": {},
   "outputs": [
    {
     "data": {
      "text/plain": [
       "332"
      ]
     },
     "execution_count": 49,
     "metadata": {},
     "output_type": "execute_result"
    }
   ],
   "source": [
    "len(score[score < 7])"
   ]
  },
  {
   "cell_type": "code",
   "execution_count": 50,
   "id": "f1820b5c",
   "metadata": {},
   "outputs": [
    {
     "data": {
      "text/plain": [
       "1167"
      ]
     },
     "execution_count": 50,
     "metadata": {},
     "output_type": "execute_result"
    }
   ],
   "source": [
    "len(score)"
   ]
  },
  {
   "cell_type": "code",
   "execution_count": 51,
   "id": "3f50b829",
   "metadata": {},
   "outputs": [
    {
     "data": {
      "text/plain": [
       "609"
      ]
     },
     "execution_count": 51,
     "metadata": {},
     "output_type": "execute_result"
    }
   ],
   "source": [
    "len(score[score > 8])"
   ]
  },
  {
   "cell_type": "code",
   "execution_count": 52,
   "id": "e08dde62",
   "metadata": {},
   "outputs": [],
   "source": [
    "detractor_percent = len(score[score < 7]) / len(score) * 100"
   ]
  },
  {
   "cell_type": "code",
   "execution_count": 53,
   "id": "fdeb5aa8",
   "metadata": {},
   "outputs": [],
   "source": [
    "promoter_percent = len(score[score > 8]) / len(score) * 100 "
   ]
  },
  {
   "cell_type": "code",
   "execution_count": 56,
   "id": "415240d6",
   "metadata": {},
   "outputs": [],
   "source": [
    "NPS = round((promoter_percent - detractor_percent),2)"
   ]
  },
  {
   "cell_type": "code",
   "execution_count": 57,
   "id": "6924ccf2",
   "metadata": {},
   "outputs": [
    {
     "name": "stdout",
     "output_type": "stream",
     "text": [
      "NPS is 23.74\n"
     ]
    }
   ],
   "source": [
    "print(f\"NPS is {NPS}\")"
   ]
  }
 ],
 "metadata": {
  "celltoolbar": "Raw Cell Format",
  "kernelspec": {
   "display_name": "Python 3 (ipykernel)",
   "language": "python",
   "name": "python3"
  },
  "language_info": {
   "codemirror_mode": {
    "name": "ipython",
    "version": 3
   },
   "file_extension": ".py",
   "mimetype": "text/x-python",
   "name": "python",
   "nbconvert_exporter": "python",
   "pygments_lexer": "ipython3",
   "version": "3.11.3"
  }
 },
 "nbformat": 4,
 "nbformat_minor": 5
}
