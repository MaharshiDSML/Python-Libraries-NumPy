{
 "cells": [
  {
   "cell_type": "markdown",
   "id": "cfe29e9f",
   "metadata": {},
   "source": [
    "## <code style=\"background:yellow;color:black\">Summary:</code> \n",
    "\n",
    "1. reshape() method\n",
    "2. Method chaining\n",
    "3. Transpose of a 2D numpy matrix\n",
    "4. Nested or chained indexing and Concise indexing of 2D numpy matrices\n",
    "5. Slicing on 2D numpy matrices\n",
    "6. Agreggate functions\n",
    "7. diag() method\n",
    "8. Logical operations\n",
    "9. where() function and its use\n",
    "10. Fitbit Case Study"
   ]
  },
  {
   "cell_type": "markdown",
   "id": "24f3e852",
   "metadata": {},
   "source": [
    "<hr style=\"border: 1px solid gray;\">\n",
    "\n",
    "# <code style=\"background:yellow;color:black\">2D Arrays:</code>\n",
    "\n",
    "**We will today primarily work with 2D arrays, because the data in real world that we will get will be a table of rows and cols.\n",
    "A table is nothing but a 2D array or a 2 dimensional representation of data.**"
   ]
  },
  {
   "cell_type": "code",
   "execution_count": 1,
   "id": "ce379929",
   "metadata": {},
   "outputs": [],
   "source": [
    "import numpy as np"
   ]
  },
  {
   "cell_type": "code",
   "execution_count": 2,
   "id": "578e7c40",
   "metadata": {},
   "outputs": [
    {
     "data": {
      "text/plain": [
       "array([ 0,  1,  2,  3,  4,  5,  6,  7,  8,  9, 10, 11, 12, 13, 14, 15])"
      ]
     },
     "execution_count": 2,
     "metadata": {},
     "output_type": "execute_result"
    }
   ],
   "source": [
    "a = np.array(range(16))\n",
    "\n",
    "a"
   ]
  },
  {
   "cell_type": "code",
   "execution_count": 3,
   "id": "bb6373bb",
   "metadata": {},
   "outputs": [
    {
     "data": {
      "text/plain": [
       "(16,)"
      ]
     },
     "execution_count": 3,
     "metadata": {},
     "output_type": "execute_result"
    }
   ],
   "source": [
    "a.shape"
   ]
  },
  {
   "cell_type": "code",
   "execution_count": 4,
   "id": "892f2545",
   "metadata": {},
   "outputs": [
    {
     "data": {
      "text/plain": [
       "1"
      ]
     },
     "execution_count": 4,
     "metadata": {},
     "output_type": "execute_result"
    }
   ],
   "source": [
    "a.ndim"
   ]
  },
  {
   "cell_type": "markdown",
   "id": "23c9a076",
   "metadata": {},
   "source": [
    "<hr style=\"border: 1px solid gray;\">\n",
    "\n",
    "# <code style=\"background:yellow;color:black\">reshape() method:</code>\n",
    "\n",
    "* We have already learnt in the last session about array() method, by which we can create nD numpy array from scratch i.e. from python nested lists.\n",
    "* Lets suppose we want to convert a 1D array to a 2D array. We can use a method called np.reshape().\n",
    "* **<code style=\"background:yellow;color:black\">The reshape() method</code> in Numpy is used to change the shape or dimensions of a NumPy array while keeping the same elements.** \n",
    "* **It allows us to reorganize the elements of an array into a new shape, provided that the total number of elements remains the same.**\n",
    "* The reshape() method takes one argument, which is the new shape that we want for our array. This new shape should be specified as a tuple of dimensions. \n",
    "* The product of the dimensions in the new shape should equal the total number of elements in the original array. If it doesn't, we will get a ValueError because it's not possible to reshape the array into the specified shape without changing the total number of elements.\n",
    "* **Format of function is: <code style=\"background:yellow;color:black\">np_array.reshape(num_rows, num_columns)</code>**\n",
    "\n",
    "Here in the example below we use: a.reshape(8, 2). This converts 1D array into 2D array with 8 rows and 2 cols. We can always play with the structure of the array once we have a numpy array."
   ]
  },
  {
   "cell_type": "code",
   "execution_count": 5,
   "id": "d0795ce3",
   "metadata": {},
   "outputs": [
    {
     "data": {
      "text/plain": [
       "array([[ 0,  1],\n",
       "       [ 2,  3],\n",
       "       [ 4,  5],\n",
       "       [ 6,  7],\n",
       "       [ 8,  9],\n",
       "       [10, 11],\n",
       "       [12, 13],\n",
       "       [14, 15]])"
      ]
     },
     "execution_count": 5,
     "metadata": {},
     "output_type": "execute_result"
    }
   ],
   "source": [
    "a.reshape(8, 2)"
   ]
  },
  {
   "cell_type": "code",
   "execution_count": 6,
   "id": "a79c39a7",
   "metadata": {},
   "outputs": [
    {
     "data": {
      "text/plain": [
       "array([[ 0,  1,  2,  3],\n",
       "       [ 4,  5,  6,  7],\n",
       "       [ 8,  9, 10, 11],\n",
       "       [12, 13, 14, 15]])"
      ]
     },
     "execution_count": 6,
     "metadata": {},
     "output_type": "execute_result"
    }
   ],
   "source": [
    "a.reshape(4, 4)"
   ]
  },
  {
   "cell_type": "markdown",
   "id": "25bf7d2a",
   "metadata": {},
   "source": [
    "**Here in the code below, our array has 16 elements which cannot be stored in 20 spaces. So always make sure that product of rows and columns should always be equal to the total elements in original array.**"
   ]
  },
  {
   "cell_type": "code",
   "execution_count": 7,
   "id": "4b0ece69",
   "metadata": {},
   "outputs": [
    {
     "ename": "ValueError",
     "evalue": "cannot reshape array of size 16 into shape (4,5)",
     "output_type": "error",
     "traceback": [
      "\u001b[1;31m---------------------------------------------------------------------------\u001b[0m",
      "\u001b[1;31mValueError\u001b[0m                                Traceback (most recent call last)",
      "Cell \u001b[1;32mIn[7], line 1\u001b[0m\n\u001b[1;32m----> 1\u001b[0m a\u001b[38;5;241m.\u001b[39mreshape(\u001b[38;5;241m4\u001b[39m, \u001b[38;5;241m5\u001b[39m)\n",
      "\u001b[1;31mValueError\u001b[0m: cannot reshape array of size 16 into shape (4,5)"
     ]
    }
   ],
   "source": [
    "a.reshape(4, 5)"
   ]
  },
  {
   "cell_type": "markdown",
   "id": "ec58b1d7",
   "metadata": {},
   "source": [
    "* **<code style=\"background:yellow;color:black\">This reshape() method is actually very powerful.</code> In our array \"a\", we have 16 elements, so if we say: a.reshape(8), rows are set to 8, and number of cols in this case will automatically be 2 only, no other option, when we have 16 values in our data.** \n",
    "* Lets suppose maybe data is in millions and we dont want to calculate the number of cols, we can simply give 2nd argument as \"-1\". -1 denotes that we want python to automatically calculate the second argument.\n",
    "* We can also use -1 as one of the dimensions in the new shape, and NumPy will automatically calculate it based on the size of the array and the other specified dimensions. This is useful when we want to reshape an array without specifying all dimensions explicitly.\n",
    "* So, if we give only one argument that is rows argument, python will automatically calculate 2nd column argument.\n",
    "* We can do this for rows as well. Python will automatically compute that since there are 16 total elements, and we want to store that data in 4 cols, so there will be 4 rows only, to make the product of rows and cols 16.\n",
    "* The example code below: a.reshape(-1, -1) will create ambiguity, because multiple values will satisfy this equation or condition; 4 x 4, 2 x 8, 8 x 2 all will satisfy this condition. Now python cannot randomly choose any one of them and return. \n",
    "* **<code style=\"background:yellow;color:black\">So, in order for python to compute any one of the arguments, we MUST provide other argument.</code> We can only specify one unknown dimension, the other dimension or argument needs to be specified.**"
   ]
  },
  {
   "cell_type": "code",
   "execution_count": 8,
   "id": "1644f6a6",
   "metadata": {},
   "outputs": [
    {
     "data": {
      "text/plain": [
       "array([[ 0,  1],\n",
       "       [ 2,  3],\n",
       "       [ 4,  5],\n",
       "       [ 6,  7],\n",
       "       [ 8,  9],\n",
       "       [10, 11],\n",
       "       [12, 13],\n",
       "       [14, 15]])"
      ]
     },
     "execution_count": 8,
     "metadata": {},
     "output_type": "execute_result"
    }
   ],
   "source": [
    "a.reshape(8, -1)"
   ]
  },
  {
   "cell_type": "code",
   "execution_count": 9,
   "id": "b2409978",
   "metadata": {},
   "outputs": [
    {
     "data": {
      "text/plain": [
       "array([[ 0,  1,  2,  3],\n",
       "       [ 4,  5,  6,  7],\n",
       "       [ 8,  9, 10, 11],\n",
       "       [12, 13, 14, 15]])"
      ]
     },
     "execution_count": 9,
     "metadata": {},
     "output_type": "execute_result"
    }
   ],
   "source": [
    "a.reshape(-1, 4)"
   ]
  },
  {
   "cell_type": "code",
   "execution_count": 10,
   "id": "51a4a106",
   "metadata": {},
   "outputs": [
    {
     "ename": "ValueError",
     "evalue": "can only specify one unknown dimension",
     "output_type": "error",
     "traceback": [
      "\u001b[1;31m---------------------------------------------------------------------------\u001b[0m",
      "\u001b[1;31mValueError\u001b[0m                                Traceback (most recent call last)",
      "Cell \u001b[1;32mIn[10], line 1\u001b[0m\n\u001b[1;32m----> 1\u001b[0m a\u001b[38;5;241m.\u001b[39mreshape(\u001b[38;5;241m-\u001b[39m\u001b[38;5;241m1\u001b[39m, \u001b[38;5;241m-\u001b[39m\u001b[38;5;241m1\u001b[39m)\n",
      "\u001b[1;31mValueError\u001b[0m: can only specify one unknown dimension"
     ]
    }
   ],
   "source": [
    "a.reshape(-1, -1)"
   ]
  },
  {
   "cell_type": "markdown",
   "id": "d9f17d81",
   "metadata": {},
   "source": [
    "* **Since numpy arrays are similar to python 2D lists, we can get number of rows by using len() function.**\n",
    "* **We can get number of columns as below: len(a[0]) = len(a[1]) = len(a[2]), because in matrix each row contains same number of columns.** "
   ]
  },
  {
   "cell_type": "code",
   "execution_count": 11,
   "id": "c3adf8d9",
   "metadata": {},
   "outputs": [
    {
     "data": {
      "text/plain": [
       "array([[ 0,  1],\n",
       "       [ 2,  3],\n",
       "       [ 4,  5],\n",
       "       [ 6,  7],\n",
       "       [ 8,  9],\n",
       "       [10, 11],\n",
       "       [12, 13],\n",
       "       [14, 15]])"
      ]
     },
     "execution_count": 11,
     "metadata": {},
     "output_type": "execute_result"
    }
   ],
   "source": [
    "a = a.reshape(8, 2)\n",
    "\n",
    "a"
   ]
  },
  {
   "cell_type": "code",
   "execution_count": 12,
   "id": "969e6210",
   "metadata": {},
   "outputs": [
    {
     "data": {
      "text/plain": [
       "8"
      ]
     },
     "execution_count": 12,
     "metadata": {},
     "output_type": "execute_result"
    }
   ],
   "source": [
    "len(a)  "
   ]
  },
  {
   "cell_type": "code",
   "execution_count": 13,
   "id": "3353af37",
   "metadata": {},
   "outputs": [
    {
     "data": {
      "text/plain": [
       "2"
      ]
     },
     "execution_count": 13,
     "metadata": {},
     "output_type": "execute_result"
    }
   ],
   "source": [
    "len(a[0])  "
   ]
  },
  {
   "cell_type": "code",
   "execution_count": 14,
   "id": "0dda2460",
   "metadata": {},
   "outputs": [
    {
     "data": {
      "text/plain": [
       "array([ 0,  1,  2,  3,  4,  5,  6,  7,  8,  9, 10, 11])"
      ]
     },
     "execution_count": 14,
     "metadata": {},
     "output_type": "execute_result"
    }
   ],
   "source": [
    "b = np.arange(12)\n",
    "\n",
    "b"
   ]
  },
  {
   "cell_type": "code",
   "execution_count": 15,
   "id": "f686ec5d",
   "metadata": {},
   "outputs": [
    {
     "data": {
      "text/plain": [
       "array([[ 0,  1,  2,  3],\n",
       "       [ 4,  5,  6,  7],\n",
       "       [ 8,  9, 10, 11]])"
      ]
     },
     "execution_count": 15,
     "metadata": {},
     "output_type": "execute_result"
    }
   ],
   "source": [
    "b = b.reshape(3, 4)\n",
    "\n",
    "b"
   ]
  },
  {
   "cell_type": "code",
   "execution_count": 16,
   "id": "7afee8e2",
   "metadata": {},
   "outputs": [
    {
     "data": {
      "text/plain": [
       "3"
      ]
     },
     "execution_count": 16,
     "metadata": {},
     "output_type": "execute_result"
    }
   ],
   "source": [
    "len(b)"
   ]
  },
  {
   "cell_type": "code",
   "execution_count": 17,
   "id": "c2443676",
   "metadata": {},
   "outputs": [
    {
     "data": {
      "text/plain": [
       "4"
      ]
     },
     "execution_count": 17,
     "metadata": {},
     "output_type": "execute_result"
    }
   ],
   "source": [
    "len(b[0])  "
   ]
  },
  {
   "cell_type": "markdown",
   "id": "d887fd1d",
   "metadata": {},
   "source": [
    "<hr style=\"border: 1px solid gray;\">\n",
    "\n",
    "# <code style=\"background:yellow;color:black\">Method Chaining:</code>\n",
    "\n",
    "* **<code style=\"background:yellow;color:black\">Method chaining</code> in NumPy refers to the practice of applying multiple methods or operations in a sequence, where each method is called on the result of the previous one. This allows for concise and readable code when performing a series of operations on arrays.**\n",
    "\n",
    "* In above code cells, we followed following steps: \n",
    "    * Step 1- We created a numpy array consisting of 12 elements as above, by calling the arange() function.\n",
    "    * Step 2- We reshaped that array by calling the reshape() function.\n",
    "\n",
    "* **In method chaining, we can do it all together. We can chain both the methods one after the other in a single step.**\n",
    "\n",
    "* **Advantage: Makes syntax easy, sometimes these two tasks are done one after the other, so it saves time, looks nice. Method chaining isnt faster, it just looks good.**\n",
    "\n",
    "* Optimization is more in reference to the performance of code, and not with respect to the shape and size of code. \n",
    "\n",
    "* No doubt that making the code look clean, readable and faster to write is vital because most of the time we will be working in a team, and team can easily understand our code; maybe we have to collaborate on our single python file.\n",
    "\n",
    "* **Following is are two implementations of method chaining.**"
   ]
  },
  {
   "cell_type": "code",
   "execution_count": 18,
   "id": "eea689f6",
   "metadata": {},
   "outputs": [
    {
     "name": "stdout",
     "output_type": "stream",
     "text": [
      "15.0\n"
     ]
    }
   ],
   "source": [
    "# Creating an example array\n",
    "arr = np.array([[1, 2, 3],\n",
    "                [4, 5, 6],\n",
    "                [7, 8, 9]])\n",
    "\n",
    "# Example of method chaining\n",
    "result = (\n",
    "    arr             # Starting with the original array\n",
    "    .sum(axis = 0)  # Sum along the columns\n",
    "    .mean()         # Calculate the mean of the sums\n",
    ")\n",
    "\n",
    "print(result)"
   ]
  },
  {
   "cell_type": "code",
   "execution_count": 19,
   "id": "fa6aa325",
   "metadata": {},
   "outputs": [
    {
     "data": {
      "text/plain": [
       "array([[ 0,  1,  2,  3],\n",
       "       [ 4,  5,  6,  7],\n",
       "       [ 8,  9, 10, 11]])"
      ]
     },
     "execution_count": 19,
     "metadata": {},
     "output_type": "execute_result"
    }
   ],
   "source": [
    "b = np.arange(12).reshape(3, 4)\n",
    "\n",
    "b"
   ]
  },
  {
   "cell_type": "code",
   "execution_count": 20,
   "id": "943d9e56",
   "metadata": {},
   "outputs": [
    {
     "data": {
      "text/plain": [
       "(3, 4)"
      ]
     },
     "execution_count": 20,
     "metadata": {},
     "output_type": "execute_result"
    }
   ],
   "source": [
    "b.shape"
   ]
  },
  {
   "cell_type": "markdown",
   "id": "ff0bcfcd",
   "metadata": {},
   "source": [
    "<hr style=\"border: 1px solid gray;\">\n",
    "\n",
    "# <code style=\"background:yellow;color:black\">Transpose of a matrix:</code>\n",
    "\n",
    "* **The transpose of a matrix is obtained by swapping its rows and columns.**\n",
    "\n",
    "* **In NumPy, we can obtain the transpose of a matrix using the <code style=\"background:yellow;color:black\">.T attribute</code> or the <code style=\"background:yellow;color:black\">numpy.transpose() function.</code>** \n",
    "\n",
    "* **T represents the transpose of any matrix in numpy. Transpose of any matrix is matrix rotated by 90 degress, rows will become columns and columns will become rows, sort of like a pivot. Transpose of a matrix is readily available in numpy.**\n",
    "\n",
    "* Transpose is a fundamental linear algebra operation that is used for various purposes in mathematics, science, and engineering.\n",
    "\n",
    "* **<code style=\"background:yellow;color:black\">Why do we need Transpose?</code> We will do a fitbit case study to see the application of transpose.**\n",
    "\n",
    "* In image processing, transposing a matrix can be used to perform various operations, such as rotating or flipping images.\n",
    "\n",
    "* In linear regression and related statistical techniques, the transpose is used when calculating coefficients or solving the normal equations.\n",
    "\n",
    "* If we have data with rows representing variables and columns representing observations, we can transpose it to switch the orientation for better analysis or visualization.\n",
    "\n",
    "**Following are few examples illustrating transpose of matrices.**"
   ]
  },
  {
   "cell_type": "code",
   "execution_count": 21,
   "id": "1ed5cc1f",
   "metadata": {},
   "outputs": [
    {
     "data": {
      "text/plain": [
       "array([[ 0,  1,  2,  3],\n",
       "       [ 4,  5,  6,  7],\n",
       "       [ 8,  9, 10, 11]])"
      ]
     },
     "execution_count": 21,
     "metadata": {},
     "output_type": "execute_result"
    }
   ],
   "source": [
    "b"
   ]
  },
  {
   "cell_type": "code",
   "execution_count": 22,
   "id": "92c614ee",
   "metadata": {},
   "outputs": [
    {
     "data": {
      "text/plain": [
       "array([[ 0,  4,  8],\n",
       "       [ 1,  5,  9],\n",
       "       [ 2,  6, 10],\n",
       "       [ 3,  7, 11]])"
      ]
     },
     "execution_count": 22,
     "metadata": {},
     "output_type": "execute_result"
    }
   ],
   "source": [
    "b.T"
   ]
  },
  {
   "cell_type": "code",
   "execution_count": 23,
   "id": "760e0f8c",
   "metadata": {},
   "outputs": [
    {
     "data": {
      "text/plain": [
       "(4, 3)"
      ]
     },
     "execution_count": 23,
     "metadata": {},
     "output_type": "execute_result"
    }
   ],
   "source": [
    "b.T.shape"
   ]
  },
  {
   "cell_type": "code",
   "execution_count": 24,
   "id": "2bcefccd",
   "metadata": {},
   "outputs": [
    {
     "data": {
      "text/plain": [
       "array([[ 0,  1,  2,  3],\n",
       "       [ 4,  5,  6,  7],\n",
       "       [ 8,  9, 10, 11]])"
      ]
     },
     "execution_count": 24,
     "metadata": {},
     "output_type": "execute_result"
    }
   ],
   "source": [
    "b"
   ]
  },
  {
   "cell_type": "code",
   "execution_count": 25,
   "id": "e7b7ec2f",
   "metadata": {},
   "outputs": [
    {
     "name": "stdout",
     "output_type": "stream",
     "text": [
      "Original matrix:\n",
      "[[1 2 3]\n",
      " [4 5 6]\n",
      " [7 8 9]]\n",
      "\n",
      "Transposed matrix:\n",
      "[[1 4 7]\n",
      " [2 5 8]\n",
      " [3 6 9]]\n"
     ]
    }
   ],
   "source": [
    "# Creating an example matrix\n",
    "matrix = np.array([[1, 2, 3],\n",
    "                   [4, 5, 6],\n",
    "                   [7, 8, 9]])\n",
    "\n",
    "# Transposing the matrix using the .T attribute\n",
    "transposed_matrix = matrix.T\n",
    "\n",
    "print(\"Original matrix:\")\n",
    "print(matrix)\n",
    "\n",
    "print(\"\\nTransposed matrix:\")\n",
    "print(transposed_matrix)"
   ]
  },
  {
   "cell_type": "code",
   "execution_count": 26,
   "id": "deb01a86",
   "metadata": {},
   "outputs": [
    {
     "name": "stdout",
     "output_type": "stream",
     "text": [
      "Original matrix:\n",
      "[[1 2 3]\n",
      " [4 5 6]\n",
      " [7 8 9]]\n",
      "\n",
      "Transposed matrix:\n",
      "[[1 4 7]\n",
      " [2 5 8]\n",
      " [3 6 9]]\n"
     ]
    }
   ],
   "source": [
    "# Creating an example matrix\n",
    "matrix = np.array([[1, 2, 3],\n",
    "                   [4, 5, 6],\n",
    "                   [7, 8, 9]])\n",
    "\n",
    "# Transposing the matrix using numpy.transpose()\n",
    "transposed_matrix = np.transpose(matrix)\n",
    "\n",
    "print(\"Original matrix:\")\n",
    "print(matrix)\n",
    "\n",
    "print(\"\\nTransposed matrix:\")\n",
    "print(transposed_matrix)"
   ]
  },
  {
   "cell_type": "markdown",
   "id": "5dea5549",
   "metadata": {},
   "source": [
    "<hr style=\"border: 1px solid gray;\">\n",
    "\n",
    "# <code style=\"background:yellow;color:black\">Indexing of a matrix:</code>\n",
    "\n",
    "* **Indexing in 2D NumPy arrays involves specifying the row and column indices to access or manipulate individual elements or subsets of the array. The basic syntax is array[row_index, column_index].**\n",
    "\n",
    "* **In the following example, the expression b[0][1] gives us the value located in the first row (index 0) and the second column (index 1) of the NumPy array \"b\".** \n",
    "\n",
    "* b[0][1] corresponds to the element at the intersection of the first row and the second column, which is 1. This is how we access a specific element in a multi-dimensional array in NumPy. **This type of indexing is called <code style=\"background:yellow;color:black\">nested indexing or double indexing or chained indexing.</code>**\n",
    "\n",
    "* **In the next code cell, the expression b[0, 1] refers to a particular indexing called <code style=\"background:yellow;color:black\">concise indexing</code> and it only works with numpy arrays -> NOT WITH PYTHON LISTS.**\n",
    "\n",
    "* **This is not much advantageous, actually its confusing. Although there is one small advantage of finding diagonal elements easily that we will discuss further below, there are other advantages of indexing shown below:** \n",
    "\n",
    "    * **<u>Performance:</u>** The concise indexing is often more efficient in terms of performance. When you use a[0, 1], NumPy can access the element directly, whereas with nested indexing, it may involve additional intermediate steps.\n",
    "    * **<u>Multi-dimensional Arrays:</u>** When working with multi-dimensional arrays (more than two dimensions), concise indexing becomes essential for clarity and ease of use.\n",
    "    * **<u>Broadcasting:</u>** NumPy supports broadcasting, which allows you to perform operations on arrays with different shapes. Concise indexing helps you understand and work with broadcasting rules more effectively."
   ]
  },
  {
   "cell_type": "code",
   "execution_count": 27,
   "id": "d506a2ee",
   "metadata": {},
   "outputs": [
    {
     "data": {
      "text/plain": [
       "1"
      ]
     },
     "execution_count": 27,
     "metadata": {},
     "output_type": "execute_result"
    }
   ],
   "source": [
    "b[0][1] "
   ]
  },
  {
   "cell_type": "code",
   "execution_count": 28,
   "id": "ae0853d8",
   "metadata": {},
   "outputs": [
    {
     "data": {
      "text/plain": [
       "1"
      ]
     },
     "execution_count": 28,
     "metadata": {},
     "output_type": "execute_result"
    }
   ],
   "source": [
    "b[0, 1] "
   ]
  },
  {
   "cell_type": "markdown",
   "id": "039a9c7d",
   "metadata": {},
   "source": [
    "* **Lets suppose we have two numpy arrays called \"c\" and \"d\" like this code below.**\n",
    "\n",
    "* Now, this is an old concept of previous lecture. We learnt that if we have a numpy array like \"d\", then what we can do is **inside of indexes we can provide another list of indexes and all of the corresponding elements in the array will be returned.**\n",
    "\n",
    "* This is possible with a 1D np array. But what for a 2D np array- is this kind of thing possible? **<code style=\"background:yellow;color:black\">YES. We will provide indexes in the form of a list of indexes of rows and cols. In other words we are asking numpy to pick ith and jth elements from the array.</code>**\n",
    "\n",
    "* Inside a index, we are providing 2 sets of indexes- one for the rows and one for the columns. So, it will return an array containing diagonal elements of the \"c\" array. \n",
    "\n",
    "* So basically, it will pick 0,0th 1,1th 2,2th elements from the array and return the array of diagonal elements.\n",
    "\n",
    "* **We can essentially pick ANY NUMBER of elements in a 2D array by providing concise indexes, unlike in this code b[0,1] where we get just one element.**\n",
    "\n",
    "* Since this works with 1D lists, in which we just provide column numbers, it also works with 2D lists, in which we provide row and column both."
   ]
  },
  {
   "cell_type": "code",
   "execution_count": 29,
   "id": "7189b04c",
   "metadata": {},
   "outputs": [
    {
     "data": {
      "text/plain": [
       "array([[0, 1, 2],\n",
       "       [3, 4, 5],\n",
       "       [6, 7, 8]])"
      ]
     },
     "execution_count": 29,
     "metadata": {},
     "output_type": "execute_result"
    }
   ],
   "source": [
    "c = np.arange(9).reshape(3, 3)\n",
    "\n",
    "c"
   ]
  },
  {
   "cell_type": "code",
   "execution_count": 30,
   "id": "4e208836",
   "metadata": {},
   "outputs": [
    {
     "data": {
      "text/plain": [
       "array([0, 1, 2, 3, 4, 5, 6, 7, 8, 9])"
      ]
     },
     "execution_count": 30,
     "metadata": {},
     "output_type": "execute_result"
    }
   ],
   "source": [
    "d = np.arange(10)\n",
    "\n",
    "d"
   ]
  },
  {
   "cell_type": "code",
   "execution_count": 31,
   "id": "72e8dc5b",
   "metadata": {},
   "outputs": [
    {
     "data": {
      "text/plain": [
       "array([6, 7, 8, 1])"
      ]
     },
     "execution_count": 31,
     "metadata": {},
     "output_type": "execute_result"
    }
   ],
   "source": [
    "d[[6,7,8,1]]"
   ]
  },
  {
   "cell_type": "code",
   "execution_count": 32,
   "id": "307e0303",
   "metadata": {},
   "outputs": [
    {
     "data": {
      "text/plain": [
       "array([[0, 1, 2],\n",
       "       [3, 4, 5],\n",
       "       [6, 7, 8]])"
      ]
     },
     "execution_count": 32,
     "metadata": {},
     "output_type": "execute_result"
    }
   ],
   "source": [
    "c"
   ]
  },
  {
   "cell_type": "code",
   "execution_count": 33,
   "id": "3a831315",
   "metadata": {},
   "outputs": [
    {
     "data": {
      "text/plain": [
       "array([0, 4, 8])"
      ]
     },
     "execution_count": 33,
     "metadata": {},
     "output_type": "execute_result"
    }
   ],
   "source": [
    "c[[0,1,2], [0,1,2]] "
   ]
  },
  {
   "cell_type": "markdown",
   "id": "7b5b51fb",
   "metadata": {},
   "source": [
    "**We can pick any elements, it doesnt have to be diagonal or any pattern always, it can be anything random.**"
   ]
  },
  {
   "cell_type": "code",
   "execution_count": 34,
   "id": "9aa79e51",
   "metadata": {},
   "outputs": [
    {
     "data": {
      "text/plain": [
       "array([1, 7])"
      ]
     },
     "execution_count": 34,
     "metadata": {},
     "output_type": "execute_result"
    }
   ],
   "source": [
    "c[[0,2], [1,1]]"
   ]
  },
  {
   "cell_type": "markdown",
   "id": "8cc9a5d4",
   "metadata": {},
   "source": [
    "**This index is out of range, index should be available. So, out of bounds error.**"
   ]
  },
  {
   "cell_type": "code",
   "execution_count": 35,
   "id": "0639fdb0",
   "metadata": {},
   "outputs": [
    {
     "ename": "IndexError",
     "evalue": "index 5 is out of bounds for axis 1 with size 3",
     "output_type": "error",
     "traceback": [
      "\u001b[1;31m---------------------------------------------------------------------------\u001b[0m",
      "\u001b[1;31mIndexError\u001b[0m                                Traceback (most recent call last)",
      "Cell \u001b[1;32mIn[35], line 1\u001b[0m\n\u001b[1;32m----> 1\u001b[0m c[[\u001b[38;5;241m0\u001b[39m,\u001b[38;5;241m2\u001b[39m], [\u001b[38;5;241m1\u001b[39m,\u001b[38;5;241m5\u001b[39m]]\n",
      "\u001b[1;31mIndexError\u001b[0m: index 5 is out of bounds for axis 1 with size 3"
     ]
    }
   ],
   "source": [
    "c[[0,2], [1,5]] "
   ]
  },
  {
   "cell_type": "markdown",
   "id": "4c708c72",
   "metadata": {},
   "source": [
    "**Shape mismatch error.**"
   ]
  },
  {
   "cell_type": "code",
   "execution_count": 36,
   "id": "88591bd5",
   "metadata": {},
   "outputs": [
    {
     "ename": "IndexError",
     "evalue": "shape mismatch: indexing arrays could not be broadcast together with shapes (3,) (2,) ",
     "output_type": "error",
     "traceback": [
      "\u001b[1;31m---------------------------------------------------------------------------\u001b[0m",
      "\u001b[1;31mIndexError\u001b[0m                                Traceback (most recent call last)",
      "Cell \u001b[1;32mIn[36], line 1\u001b[0m\n\u001b[1;32m----> 1\u001b[0m c[[\u001b[38;5;241m1\u001b[39m,\u001b[38;5;241m2\u001b[39m,\u001b[38;5;241m0\u001b[39m], [\u001b[38;5;241m1\u001b[39m,\u001b[38;5;241m2\u001b[39m]]\n",
      "\u001b[1;31mIndexError\u001b[0m: shape mismatch: indexing arrays could not be broadcast together with shapes (3,) (2,) "
     ]
    }
   ],
   "source": [
    "c[[1,2,0], [1,2]]"
   ]
  },
  {
   "cell_type": "markdown",
   "id": "1b6f38bf",
   "metadata": {},
   "source": [
    "**Lets suppose we have a numpy array called test like this:**"
   ]
  },
  {
   "cell_type": "code",
   "execution_count": 37,
   "id": "fdeb28d1",
   "metadata": {},
   "outputs": [
    {
     "data": {
      "text/plain": [
       "array([[ 0,  1,  2,  3,  4,  5,  6,  7],\n",
       "       [ 8,  9, 10, 11, 12, 13, 14, 15],\n",
       "       [16, 17, 18, 19, 20, 21, 22, 23],\n",
       "       [24, 25, 26, 27, 28, 29, 30, 31],\n",
       "       [32, 33, 34, 35, 36, 37, 38, 39],\n",
       "       [40, 41, 42, 43, 44, 45, 46, 47],\n",
       "       [48, 49, 50, 51, 52, 53, 54, 55],\n",
       "       [56, 57, 58, 59, 60, 61, 62, 63]])"
      ]
     },
     "execution_count": 37,
     "metadata": {},
     "output_type": "execute_result"
    }
   ],
   "source": [
    "test = np.arange(64).reshape(8,8)\n",
    "\n",
    "test"
   ]
  },
  {
   "cell_type": "markdown",
   "id": "6b7f5627",
   "metadata": {},
   "source": [
    "* **What below code will do is this-** \n",
    "    * First step is len(test), which is 8. So we have range(8); and this will generate a list of numbers from 0 to 7.\n",
    "    * So, it will essentially look like this- test[[0,1,2,3,4,5,6,7], [0,1,2,3,4,5,6,7]]. \n",
    "    * And this will give 0,0th  1,1th  2,2th  3,3th,  4,4th and so on to return the diagonal elements."
   ]
  },
  {
   "cell_type": "code",
   "execution_count": 38,
   "id": "256c4008",
   "metadata": {},
   "outputs": [
    {
     "data": {
      "text/plain": [
       "array([ 0,  9, 18, 27, 36, 45, 54, 63])"
      ]
     },
     "execution_count": 38,
     "metadata": {},
     "output_type": "execute_result"
    }
   ],
   "source": [
    "test[list(range(len(test))),list(range(len(test)))]"
   ]
  },
  {
   "cell_type": "markdown",
   "id": "6587954b",
   "metadata": {},
   "source": [
    "* **<code style=\"background:yellow;color:black\">Fancy indexing or masking</code> also works on 2D numpy arrays; below code returns a 1D array.**\n",
    "\n",
    "* Actually the elements, that is the result, that are picked do not fit in the 4 x 3 dimension array, which means the result should have a different dimension, but python cannot calculate both the dimensions, which means it simply outputs the result in a 1D array.\n",
    "\n",
    "* CRUX of it is that working of fancy indexing on 2D arrays is similar to its working on 1D arrays. Its just that the result is always a 1D array."
   ]
  },
  {
   "cell_type": "code",
   "execution_count": 39,
   "id": "bb2271b9",
   "metadata": {},
   "outputs": [
    {
     "data": {
      "text/plain": [
       "array([ 0,  1,  2,  3,  4,  5,  6,  7,  8,  9, 10, 11, 12, 13, 14, 15, 16,\n",
       "       17, 18, 19, 20])"
      ]
     },
     "execution_count": 39,
     "metadata": {},
     "output_type": "execute_result"
    }
   ],
   "source": [
    "test[test < 21]"
   ]
  },
  {
   "cell_type": "code",
   "execution_count": 40,
   "id": "6e3cc59b",
   "metadata": {},
   "outputs": [
    {
     "data": {
      "text/plain": [
       "array([[ 0,  1,  2,  3,  4,  5,  6,  7],\n",
       "       [ 8,  9, 10, 11, 12, 13, 14, 15],\n",
       "       [16, 17, 18, 19, 20, 21, 22, 23],\n",
       "       [24, 25, 26, 27, 28, 29, 30, 31],\n",
       "       [32, 33, 34, 35, 36, 37, 38, 39],\n",
       "       [40, 41, 42, 43, 44, 45, 46, 47],\n",
       "       [48, 49, 50, 51, 52, 53, 54, 55],\n",
       "       [56, 57, 58, 59, 60, 61, 62, 63]])"
      ]
     },
     "execution_count": 40,
     "metadata": {},
     "output_type": "execute_result"
    }
   ],
   "source": [
    "test"
   ]
  },
  {
   "cell_type": "code",
   "execution_count": 41,
   "id": "8d28901f",
   "metadata": {},
   "outputs": [
    {
     "data": {
      "text/plain": [
       "array([[ True,  True,  True,  True,  True,  True,  True,  True],\n",
       "       [ True,  True,  True,  True,  True,  True,  True,  True],\n",
       "       [ True,  True,  True,  True,  True, False, False, False],\n",
       "       [False, False, False, False, False, False, False, False],\n",
       "       [False, False, False, False, False, False, False, False],\n",
       "       [False, False, False, False, False, False, False, False],\n",
       "       [False, False, False, False, False, False, False, False],\n",
       "       [False, False, False, False, False, False, False, False]])"
      ]
     },
     "execution_count": 41,
     "metadata": {},
     "output_type": "execute_result"
    }
   ],
   "source": [
    "test < 21"
   ]
  },
  {
   "cell_type": "markdown",
   "id": "1a022e58",
   "metadata": {},
   "source": [
    "<hr style=\"border: 1px solid gray;\">\n",
    "\n",
    "# <code style=\"background:yellow;color:black\">Slicing of a matrix:</code>\n",
    "\n",
    "* **<code style=\"background:yellow;color:black\">Slicing in 2D NumPy arrays</code> involves extracting a portion of the array by specifying ranges for both rows and columns. <code style=\"background:yellow;color:black\">The basic syntax is array[start_row:end_row, start_column:end_column].</code>**\n",
    "\n",
    "* Since we talk about indexing in 2D arrays, we will also talk about slicing in 2D arrays because its also important.\n",
    "\n",
    "* Similar to how we can provide indexes to both rows and columns, we can also provide slices for both rows and columns.\n",
    "\n",
    "* **<code style=\"background:yellow;color:black\">By default slicing is done on rows.</code>**"
   ]
  },
  {
   "cell_type": "code",
   "execution_count": 43,
   "id": "cc308cbb",
   "metadata": {},
   "outputs": [
    {
     "data": {
      "text/plain": [
       "array([[ 0,  1,  2,  3],\n",
       "       [ 4,  5,  6,  7],\n",
       "       [ 8,  9, 10, 11]])"
      ]
     },
     "execution_count": 43,
     "metadata": {},
     "output_type": "execute_result"
    }
   ],
   "source": [
    "a = np.arange(12).reshape(3, 4)\n",
    "\n",
    "a"
   ]
  },
  {
   "cell_type": "markdown",
   "id": "e22c37f5",
   "metadata": {},
   "source": [
    "* **In below code, slicing got us 0th row and 1st row, last \"2\" isnt included.**\n",
    "\n",
    "* This slice got applied to rows and we got all columns. \n",
    "\n",
    "* **Means- when we have a 2D list, a slice means we want a subset of all the rows.**\n",
    "\n",
    "* Or a slice can also mean that we want a subset of few columns and we want all the rows. This is well explained in notes.\n",
    "\n",
    "* A slice can also mean that we dont want all the rows nor all the cols, we want something like 1st and 2nd row but only few columns, basically, some rows and some cols.\n",
    "\n",
    "* **<code style=\"background:yellow;color:black\">There can be all of the 3 possibilities when it comes to slicing as discussed above.</code>**\n",
    "\n",
    "### <code style=\"background:yellow;color:black\">First possibility:</code> \n",
    "\n",
    "**This is very easy, we just provide a single set of slice like the code below:**"
   ]
  },
  {
   "cell_type": "code",
   "execution_count": 44,
   "id": "070c872d",
   "metadata": {},
   "outputs": [
    {
     "data": {
      "text/plain": [
       "array([[0, 1, 2, 3],\n",
       "       [4, 5, 6, 7]])"
      ]
     },
     "execution_count": 44,
     "metadata": {},
     "output_type": "execute_result"
    }
   ],
   "source": [
    "a[:2] "
   ]
  },
  {
   "cell_type": "markdown",
   "id": "fce93123",
   "metadata": {},
   "source": [
    "### <code style=\"background:yellow;color:black\">Second possibility:</code> \n",
    "\n",
    "* If we write - a[:] - it will print all the data, we know this that starting element and ending element is taken by default and  prints everything in between.\n",
    "\n",
    "* **What we can do is we add a comma next to colon, then we can add a slice on the number of columns. So, essentially we are saying that we want all the columns from 1 to 3, as shown below.**\n",
    "\n",
    "* It returs all rows, and 1st column and 2nd column, and NOT 0th and 3rd column.\n",
    "\n",
    "* **We can have any subset of rows and column elements that we want which is illustrated in next code cell.**\n",
    "\n",
    "* Whenever we are working we 2D numpy arrays, which we will be working in real world 99% of the time, we have all of this added capabilities like indexing, slicing and all the we will study further that python lists do not actually provide. They do provide, but numpy has made that a little bit better, elevated the entire thing a little bit."
   ]
  },
  {
   "cell_type": "code",
   "execution_count": 45,
   "id": "94e1c368",
   "metadata": {},
   "outputs": [
    {
     "data": {
      "text/plain": [
       "array([[ 1,  2],\n",
       "       [ 5,  6],\n",
       "       [ 9, 10]])"
      ]
     },
     "execution_count": 45,
     "metadata": {},
     "output_type": "execute_result"
    }
   ],
   "source": [
    "a[:, 1:3]"
   ]
  },
  {
   "cell_type": "code",
   "execution_count": 46,
   "id": "4041192f",
   "metadata": {},
   "outputs": [
    {
     "data": {
      "text/plain": [
       "array([[1, 2],\n",
       "       [5, 6]])"
      ]
     },
     "execution_count": 46,
     "metadata": {},
     "output_type": "execute_result"
    }
   ],
   "source": [
    "a[:2, 1:3]"
   ]
  },
  {
   "cell_type": "markdown",
   "id": "3900e34b",
   "metadata": {},
   "source": [
    "### <code style=\"background:yellow;color:black\">Third possibility:</code> \n",
    "\n",
    "**Third possibilty is adding step size or jump values, which also works when slicing 2D arrays.**"
   ]
  },
  {
   "cell_type": "code",
   "execution_count": 10,
   "id": "c5b99235",
   "metadata": {},
   "outputs": [
    {
     "data": {
      "text/plain": [
       "array([[ 0,  1,  2,  3,  4,  5,  6,  7],\n",
       "       [ 8,  9, 10, 11, 12, 13, 14, 15],\n",
       "       [16, 17, 18, 19, 20, 21, 22, 23],\n",
       "       [24, 25, 26, 27, 28, 29, 30, 31],\n",
       "       [32, 33, 34, 35, 36, 37, 38, 39],\n",
       "       [40, 41, 42, 43, 44, 45, 46, 47],\n",
       "       [48, 49, 50, 51, 52, 53, 54, 55],\n",
       "       [56, 57, 58, 59, 60, 61, 62, 63]])"
      ]
     },
     "execution_count": 10,
     "metadata": {},
     "output_type": "execute_result"
    }
   ],
   "source": [
    "test"
   ]
  },
  {
   "cell_type": "code",
   "execution_count": 11,
   "id": "f7a477a5",
   "metadata": {},
   "outputs": [
    {
     "data": {
      "text/plain": [
       "array([[25, 28],\n",
       "       [41, 44]])"
      ]
     },
     "execution_count": 11,
     "metadata": {},
     "output_type": "execute_result"
    }
   ],
   "source": [
    "test[3:7:2, 1:6:3] "
   ]
  },
  {
   "cell_type": "code",
   "execution_count": 12,
   "id": "c51cefee",
   "metadata": {},
   "outputs": [],
   "source": [
    "a = np.array([1, 2, 3, 4, 5])\n",
    "\n",
    "b = np.array([8, 7, 6])"
   ]
  },
  {
   "cell_type": "markdown",
   "id": "726c60b2",
   "metadata": {},
   "source": [
    "**Pick everything after the 3rd element.**"
   ]
  },
  {
   "cell_type": "code",
   "execution_count": 13,
   "id": "7e08018e",
   "metadata": {},
   "outputs": [
    {
     "data": {
      "text/plain": [
       "array([4, 5])"
      ]
     },
     "execution_count": 13,
     "metadata": {},
     "output_type": "execute_result"
    }
   ],
   "source": [
    "a[3:]"
   ]
  },
  {
   "cell_type": "markdown",
   "id": "608f5781",
   "metadata": {},
   "source": [
    "**It will start from end point because jump is of 2, so \"6\" and \"8\" will be picked.**"
   ]
  },
  {
   "cell_type": "code",
   "execution_count": 14,
   "id": "07c07a47",
   "metadata": {},
   "outputs": [
    {
     "data": {
      "text/plain": [
       "array([6, 8])"
      ]
     },
     "execution_count": 14,
     "metadata": {},
     "output_type": "execute_result"
    }
   ],
   "source": [
    "b[::-2]"
   ]
  },
  {
   "cell_type": "markdown",
   "id": "1e0f1dbb",
   "metadata": {},
   "source": [
    "**Take the result of b[::-2] and add that in the position of a[3:].**"
   ]
  },
  {
   "cell_type": "code",
   "execution_count": 15,
   "id": "d6adbe59",
   "metadata": {},
   "outputs": [],
   "source": [
    "a[3:] = b[::-2]"
   ]
  },
  {
   "cell_type": "markdown",
   "id": "938fe13a",
   "metadata": {},
   "source": [
    "**So we are replacing result of a[3:] that is 4,5 with result of b[::-2] that is 6,8 to finally get the array \"a\".**"
   ]
  },
  {
   "cell_type": "code",
   "execution_count": 16,
   "id": "ffe704a9",
   "metadata": {},
   "outputs": [
    {
     "data": {
      "text/plain": [
       "array([1, 2, 3, 6, 8])"
      ]
     },
     "execution_count": 16,
     "metadata": {},
     "output_type": "execute_result"
    }
   ],
   "source": [
    "a"
   ]
  },
  {
   "cell_type": "markdown",
   "id": "a2132ba2",
   "metadata": {},
   "source": [
    "<hr style=\"border: 1px solid gray;\">\n",
    "\n",
    "# <code style=\"background:yellow;color:black\">Aggregate functions:</code>\n",
    "\n",
    "* **<code style=\"background:yellow;color:black\">Aggregate functions are basically mathematical operations.</code>** \n",
    "* If we have numpy imported, we wont have to import math module in 99% of the cases.**\n",
    "* **Aggregate functions in Numpy are functions that operate on an array or a portion of an array to compute a single, summary statistic or value.** \n",
    "* These functions allow us to perform common mathematical and statistical operations on arrays, often summarizing the data in some way. Aggregate functions are particularly useful for data analysis and processing. \n",
    "\n",
    "**<code style=\"background:yellow;color:black\">Some common aggregate functions in NumPy include:</code>**\n",
    "\n",
    "- numpy.sum(): Computes the sum of all elements in an array or along a specified axis.\n",
    "\n",
    "- numpy.mean(): Calculates the mean (average) of the elements in an array or along a specified axis.\n",
    "\n",
    "- numpy.median(): Computes the median (middle value) of the elements in an array.\n",
    "\n",
    "- numpy.min(): Returns the minimum value in an array.\n",
    "\n",
    "- numpy.max(): Returns the maximum value in an array.\n",
    "\n",
    "- numpy.var(): Computes the variance of the elements in an array, measuring the spread or dispersion of the data.\n",
    "\n",
    "- numpy.std(): Calculates the standard deviation of the elements in an array, which is a measure of the data's dispersion around the mean.\n",
    "\n",
    "- numpy.prod(): Computes the product of all elements in an array or along a specified axis.\n",
    "\n",
    "- numpy.cumsum(): Calculates the cumulative sum of elements along a specified axis.\n",
    "\n",
    "- numpy.cumprod(): Computes the cumulative product of elements along a specified axis.\n",
    "\n",
    "- numpy.percentile(): Calculates the specified percentile value (e.g., 25th, 50th, or 75th percentile) of the data.\n",
    "\n",
    "- numpy.histogram(): Generates a histogram of the data, returning the counts and bin edges.\n",
    "\n",
    "- numpy.unique(): Returns the unique elements in an array, along with their counts.\n",
    "\n",
    "- numpy.bincount(): Counts occurrences of non-negative integers in an array, returning a count for each integer.\n",
    "\n",
    "- numpy.nanmean(), numpy.nanmedian(), and other \"nan\" functions: These are similar to their non-\"nan\" counterparts, but they ignore NaN (Not-a-Number) values in the computation.\n",
    "\n",
    "**But these are there in python itself, so why are we studying and using these in numpy? Beacuse of what it converts to or what it leads to.**"
   ]
  },
  {
   "cell_type": "code",
   "execution_count": 47,
   "id": "36c37173",
   "metadata": {},
   "outputs": [
    {
     "data": {
      "text/plain": [
       "array([ 1,  2,  3,  4,  5,  6,  7,  8,  9, 10])"
      ]
     },
     "execution_count": 47,
     "metadata": {},
     "output_type": "execute_result"
    }
   ],
   "source": [
    "a = np.arange(1, 11)\n",
    "\n",
    "a"
   ]
  },
  {
   "cell_type": "code",
   "execution_count": 48,
   "id": "c06ba369",
   "metadata": {},
   "outputs": [
    {
     "data": {
      "text/plain": [
       "55"
      ]
     },
     "execution_count": 48,
     "metadata": {},
     "output_type": "execute_result"
    }
   ],
   "source": [
    "np.sum(a)"
   ]
  },
  {
   "cell_type": "code",
   "execution_count": 49,
   "id": "8e0dc038",
   "metadata": {},
   "outputs": [
    {
     "data": {
      "text/plain": [
       "5.5"
      ]
     },
     "execution_count": 49,
     "metadata": {},
     "output_type": "execute_result"
    }
   ],
   "source": [
    "np.mean(a)"
   ]
  },
  {
   "cell_type": "code",
   "execution_count": 50,
   "id": "5f1cc159",
   "metadata": {},
   "outputs": [
    {
     "data": {
      "text/plain": [
       "1"
      ]
     },
     "execution_count": 50,
     "metadata": {},
     "output_type": "execute_result"
    }
   ],
   "source": [
    "np.min(a)"
   ]
  },
  {
   "cell_type": "code",
   "execution_count": 51,
   "id": "63886a29",
   "metadata": {},
   "outputs": [
    {
     "data": {
      "text/plain": [
       "10"
      ]
     },
     "execution_count": 51,
     "metadata": {},
     "output_type": "execute_result"
    }
   ],
   "source": [
    "np.max(a)"
   ]
  },
  {
   "cell_type": "code",
   "execution_count": 52,
   "id": "e8178a15",
   "metadata": {},
   "outputs": [
    {
     "data": {
      "text/plain": [
       "array([[ 0,  1,  2,  3],\n",
       "       [ 4,  5,  6,  7],\n",
       "       [ 8,  9, 10, 11]])"
      ]
     },
     "execution_count": 52,
     "metadata": {},
     "output_type": "execute_result"
    }
   ],
   "source": [
    "a = np.arange(12).reshape(3, 4)\n",
    "\n",
    "a"
   ]
  },
  {
   "cell_type": "markdown",
   "id": "8a496e78",
   "metadata": {},
   "source": [
    "* To implement row and col wise sum of elements in a python list it is a bit long code and cumbersome and we have to write  custom code in python 2D lists.\n",
    "\n",
    "* **But numpy can do that with just one line of code which is so simple. Its very useful because in excel we create a lot of  grand totals of columns or rows frequently and numpy can automatically do that.**\n",
    "\n",
    "* The code below will add all the elements."
   ]
  },
  {
   "cell_type": "code",
   "execution_count": 53,
   "id": "dfedd440",
   "metadata": {},
   "outputs": [
    {
     "data": {
      "text/plain": [
       "66"
      ]
     },
     "execution_count": 53,
     "metadata": {},
     "output_type": "execute_result"
    }
   ],
   "source": [
    "np.sum(a)"
   ]
  },
  {
   "cell_type": "markdown",
   "id": "ea1d6253",
   "metadata": {},
   "source": [
    "**This code will sum all the columns. Basically in our array \"a\", axis = 0 means vertical axis. So it will go and add all elements of column 0, then add all elements of column 1 and so on and return a list of that arrangement.** "
   ]
  },
  {
   "cell_type": "code",
   "execution_count": 54,
   "id": "a90d14f3",
   "metadata": {},
   "outputs": [
    {
     "data": {
      "text/plain": [
       "array([12, 15, 18, 21])"
      ]
     },
     "execution_count": 54,
     "metadata": {},
     "output_type": "execute_result"
    }
   ],
   "source": [
    "np.sum(a, axis = 0)"
   ]
  },
  {
   "cell_type": "markdown",
   "id": "6d033b2b",
   "metadata": {},
   "source": [
    "**Similarly we can do row wise sum by specifying axis = 1.**"
   ]
  },
  {
   "cell_type": "code",
   "execution_count": 55,
   "id": "b22c2078",
   "metadata": {},
   "outputs": [
    {
     "data": {
      "text/plain": [
       "array([ 6, 22, 38])"
      ]
     },
     "execution_count": 55,
     "metadata": {},
     "output_type": "execute_result"
    }
   ],
   "source": [
    "np.sum(a, axis = 1)"
   ]
  },
  {
   "cell_type": "code",
   "execution_count": 56,
   "id": "9bc1bdb8",
   "metadata": {},
   "outputs": [
    {
     "data": {
      "text/plain": [
       "array([4., 5., 6., 7.])"
      ]
     },
     "execution_count": 56,
     "metadata": {},
     "output_type": "execute_result"
    }
   ],
   "source": [
    "np.mean(a, axis = 0)"
   ]
  },
  {
   "cell_type": "code",
   "execution_count": 57,
   "id": "6a3af670",
   "metadata": {},
   "outputs": [
    {
     "data": {
      "text/plain": [
       "array([[ 0,  1,  2,  3],\n",
       "       [ 4,  5,  6,  7],\n",
       "       [ 8,  9, 10, 11],\n",
       "       [12, 13, 14, 15]])"
      ]
     },
     "execution_count": 57,
     "metadata": {},
     "output_type": "execute_result"
    }
   ],
   "source": [
    "m = np.arange(16).reshape(4, 4)\n",
    "\n",
    "m"
   ]
  },
  {
   "cell_type": "markdown",
   "id": "736b640e",
   "metadata": {},
   "source": [
    "**How to get sum of all diagonal elements.**"
   ]
  },
  {
   "cell_type": "code",
   "execution_count": 65,
   "id": "d2b9e3a1",
   "metadata": {},
   "outputs": [
    {
     "data": {
      "text/plain": [
       "30"
      ]
     },
     "execution_count": 65,
     "metadata": {},
     "output_type": "execute_result"
    }
   ],
   "source": [
    "n = m[[0, 1, 2, 3], [0, 1, 2, 3]]\n",
    "\n",
    "np.sum(n)"
   ]
  },
  {
   "cell_type": "markdown",
   "id": "dddee247",
   "metadata": {},
   "source": [
    "<hr style=\"border: 1px solid gray;\">\n",
    "\n",
    "## <code style=\"background:yellow;color:black\">diag() method:</code> \n",
    "\n",
    "**In NumPy, <code style=\"background:yellow;color:black\">the diag() method</code> is used to extract the diagonal elements of a 2D array or construct a diagonal matrix from a 1D array. The behavior of the diag() method depends on the input provided. Here's an overview of its usage:**\n",
    "\n",
    "### <code style=\"background:yellow;color:black\">Extracting Diagonal Elements:</code>\n",
    "\n",
    "* **If the input is a 2D array, diag() returns a 1D array containing the diagonal elements of the input array.** \n",
    "* We can also specify an offset to extract diagonals parallel to the main diagonal.\n",
    "* **The k parameter, when specified, determines the diagonal offset. A positive k value corresponds to diagonals above the main diagonal, while a negative k value corresponds to diagonals below the main diagonal.**"
   ]
  },
  {
   "cell_type": "code",
   "execution_count": 63,
   "id": "23394672",
   "metadata": {},
   "outputs": [
    {
     "data": {
      "text/plain": [
       "array([[ 0,  1,  2,  3],\n",
       "       [ 4,  5,  6,  7],\n",
       "       [ 8,  9, 10, 11],\n",
       "       [12, 13, 14, 15]])"
      ]
     },
     "execution_count": 63,
     "metadata": {},
     "output_type": "execute_result"
    }
   ],
   "source": [
    "m"
   ]
  },
  {
   "cell_type": "code",
   "execution_count": 61,
   "id": "1d6d6446",
   "metadata": {},
   "outputs": [
    {
     "data": {
      "text/plain": [
       "array([ 0,  5, 10, 15])"
      ]
     },
     "execution_count": 61,
     "metadata": {},
     "output_type": "execute_result"
    }
   ],
   "source": [
    "np.diag(m)"
   ]
  },
  {
   "cell_type": "code",
   "execution_count": 62,
   "id": "d6f1e2c4",
   "metadata": {},
   "outputs": [
    {
     "data": {
      "text/plain": [
       "array([ 1,  6, 11])"
      ]
     },
     "execution_count": 62,
     "metadata": {},
     "output_type": "execute_result"
    }
   ],
   "source": [
    "np.diag(m, k = 1)"
   ]
  },
  {
   "cell_type": "code",
   "execution_count": 64,
   "id": "f4ef1f92",
   "metadata": {},
   "outputs": [
    {
     "data": {
      "text/plain": [
       "array([ 4,  9, 14])"
      ]
     },
     "execution_count": 64,
     "metadata": {},
     "output_type": "execute_result"
    }
   ],
   "source": [
    "np.diag(m, k = -1)"
   ]
  },
  {
   "cell_type": "markdown",
   "id": "58f8b402",
   "metadata": {},
   "source": [
    "### <code style=\"background:yellow;color:black\">Constructing Diagonal Matrix:</code>\n",
    "\n",
    "* **If the input is a 1D array, diag() constructs a 2D diagonal matrix with the elements of the input array on its main diagonal.**"
   ]
  },
  {
   "cell_type": "code",
   "execution_count": 66,
   "id": "a6a24d14",
   "metadata": {},
   "outputs": [
    {
     "data": {
      "text/plain": [
       "array([[1, 0, 0],\n",
       "       [0, 2, 0],\n",
       "       [0, 0, 3]])"
      ]
     },
     "execution_count": 66,
     "metadata": {},
     "output_type": "execute_result"
    }
   ],
   "source": [
    "# Creating a 1D array\n",
    "arr_1d = np.array([1, 2, 3])\n",
    "\n",
    "# Constructing a diagonal matrix\n",
    "np.diag(arr_1d)"
   ]
  },
  {
   "cell_type": "markdown",
   "id": "a291c719",
   "metadata": {},
   "source": [
    "<hr style=\"border: 1px solid gray;\">\n",
    "\n",
    "# <code style=\"background:yellow;color:black\">Logical operations:</code>\n",
    "\n",
    "* **Logical operations in Numpy are operations that allow us to perform element-wise comparisons between elements in Numpy arrays. These operations return Boolean arrays with True and False values, where each value represents the result of the element-wise comparison.** \n",
    "\n",
    "* **There are 2 basic logical operations that we will study - .any() and .all()**\n",
    "\n",
    "* Lets say, we have a budget, means we can only purchase an item upto 30 rupees. Overall task is to check if there is any value in the array with price less than or equal to 30. Returns True if the condition is True for even a single value. So, usually what we would do is we would write a loop, we will compare every value with 30, if we get a value which is less than or equal to 30, we will set a flag to true and then we will return that.\n",
    "\n",
    "* \"can_afford\" is our flag. What np.any() function will do is it will check the condition inside it and compare it with array elements, and if its true for ANY OF THE VALUES, then our \"can_afford\" flag will become true.\n",
    "\n",
    "* Lets suppose we are doing a comparison in which we are checking for multiple values and even if a single value satisfies the condition and we are ok in moving ahead or that is what we want, then we can use np.all() function. Its sort of like an OR operation.\n",
    "\n",
    "* **In NumPy, the <code style=\"background:yellow;color:black\">np.any() and np.all() functions</code> are used to check whether any or all elements of a given array satisfy a particular condition, respectively.**\n",
    "\n",
    "    * **<code style=\"background:yellow;color:black\">np.any():</code>** np.any() returns True if at least one element in the input array satisfies the specified condition, and False if all elements fail to meet the condition. It takes an array as its argument and an optional axis parameter to specify along which axis to check for the condition. If the axis is not specified, it checks the entire array.\n",
    "\n",
    "    * **<code style=\"background:yellow;color:black\">np.all():</code>** np.all() returns True only if all elements in the input array satisfy the specified condition, and False if any element fails to meet the condition. Like np.any(), it also takes an optional axis parameter to specify along which axis to check for the condition."
   ]
  },
  {
   "cell_type": "code",
   "execution_count": 67,
   "id": "b55984e5",
   "metadata": {},
   "outputs": [],
   "source": [
    "prices = np.array([50, 45, 25, 20, 35])"
   ]
  },
  {
   "cell_type": "code",
   "execution_count": 68,
   "id": "67792029",
   "metadata": {},
   "outputs": [
    {
     "data": {
      "text/plain": [
       "True"
      ]
     },
     "execution_count": 68,
     "metadata": {},
     "output_type": "execute_result"
    }
   ],
   "source": [
    "can_afford = np.any(prices <= 30)\n",
    "\n",
    "can_afford"
   ]
  },
  {
   "cell_type": "code",
   "execution_count": 69,
   "id": "52b4510d",
   "metadata": {},
   "outputs": [],
   "source": [
    "task_completion = np.array([1, 1, 1, 1, 1, 1, 0])"
   ]
  },
  {
   "cell_type": "markdown",
   "id": "924c1107",
   "metadata": {},
   "source": [
    "* **What all() method will do is it will check the condition inside it and compare it with array elements, and if its true for ALL OF THE VALUES, then our \"can_go_out_play\" flag will become true.**\n",
    "\n",
    "* Returns True if all the values satisfy the condition. Its sort of like an AND operation."
   ]
  },
  {
   "cell_type": "code",
   "execution_count": 70,
   "id": "fa2c1f5e",
   "metadata": {},
   "outputs": [
    {
     "data": {
      "text/plain": [
       "False"
      ]
     },
     "execution_count": 70,
     "metadata": {},
     "output_type": "execute_result"
    }
   ],
   "source": [
    "can_go_out_play = np.all(task_completion == 1)\n",
    "\n",
    "can_go_out_play"
   ]
  },
  {
   "cell_type": "code",
   "execution_count": 71,
   "id": "34f5a48c",
   "metadata": {},
   "outputs": [],
   "source": [
    "a = np.array([1, 4, 3, 2])\n",
    "\n",
    "b = np.array([2, 2, 3, 2])\n",
    "\n",
    "c = np.array([6, 4, 4, 5])"
   ]
  },
  {
   "cell_type": "markdown",
   "id": "8db017e1",
   "metadata": {},
   "source": [
    "* **Below is a way where we can write multiple conditions or multiple np arrays in all() method. Here all the conditions element wise must satisfy for all() method to return true.**"
   ]
  },
  {
   "cell_type": "code",
   "execution_count": 72,
   "id": "4c58a099",
   "metadata": {},
   "outputs": [
    {
     "data": {
      "text/plain": [
       "False"
      ]
     },
     "execution_count": 72,
     "metadata": {},
     "output_type": "execute_result"
    }
   ],
   "source": [
    "((a <= b) & (b <= c)).all()"
   ]
  },
  {
   "cell_type": "code",
   "execution_count": 73,
   "id": "fe9bbfaf",
   "metadata": {},
   "outputs": [
    {
     "data": {
      "text/plain": [
       "array([ -3,   4,  27,  34,  -2,   0, -45, -11,   4,   0])"
      ]
     },
     "execution_count": 73,
     "metadata": {},
     "output_type": "execute_result"
    }
   ],
   "source": [
    "a = np.array([-3, 4, 27, 34, -2, 0, -45, -11, 4, 0])\n",
    "\n",
    "a"
   ]
  },
  {
   "cell_type": "markdown",
   "id": "ebfa4640",
   "metadata": {},
   "source": [
    "* Setting values for elements selected via fancy indexing.\n",
    "\n",
    "* We can pick these elements and change the elements at the same time with the given conditions.\n",
    "\n",
    "* Here the condition is if element is greater than 0 pick and replace it with 1, and element is less than 0 pick and replace it with -1, and let 0 be 0."
   ]
  },
  {
   "cell_type": "code",
   "execution_count": 74,
   "id": "941e606a",
   "metadata": {},
   "outputs": [
    {
     "data": {
      "text/plain": [
       "array([-1,  1,  1,  1, -1,  0, -1, -1,  1,  0])"
      ]
     },
     "execution_count": 74,
     "metadata": {},
     "output_type": "execute_result"
    }
   ],
   "source": [
    "a[a > 0] = 1\n",
    "\n",
    "a[a < 0] = -1\n",
    "\n",
    "a"
   ]
  },
  {
   "cell_type": "markdown",
   "id": "e78c6386",
   "metadata": {},
   "source": [
    "<hr style=\"border: 1px solid gray;\">\n",
    "\n",
    "# <code style=\"background:yellow;color:black\">where() function:</code>\n",
    "\n",
    "* **In NumPy, <code style=\"background:yellow;color:black\">the where() function</code> is used to return the indices of elements in an array where a specified condition is true. It can be particularly useful for extracting elements or performing operations based on certain criteria.**\n",
    "\n",
    "* **<code style=\"background:yellow;color:black\">The basic syntax of np.where() is: numpy.where(condition[, x, y])</code>**\n",
    "    * **condition:** A boolean array indicating where the specified condition is true.\n",
    "    * **x, y (optional):** Values to be used for elements where the condition is true or false, respectively. If not provided, where() returns indices.<br><br>\n",
    "\n",
    "* **The <code style=\"background:yellow;color:black\">where() function</code> returns a new array with elements from x where the condition is True and elements from y where the condition is False. The resulting array has the same shape as the input arrays, x and y.**\n",
    "\n",
    "* **<code style=\"background:yellow;color:black\">Format of np.where() -- np.where(condition, value_if_true, value_if_false)</code>**<br><br>\n",
    "\n",
    "* Below, we want to check that if price of product is greater than 50, we want to give a discount of 10% on top of that value. So, we want to update the prices after adding the discount.\n",
    "\n",
    "* So, with this **where() function**, we can modify all the elements in our np array based on a given condition."
   ]
  },
  {
   "cell_type": "code",
   "execution_count": 75,
   "id": "1a7f4f78",
   "metadata": {},
   "outputs": [],
   "source": [
    "prices = np.array([45, 55, 60, 30, 75, 20, 100, 90])"
   ]
  },
  {
   "cell_type": "code",
   "execution_count": 76,
   "id": "ad202f5b",
   "metadata": {},
   "outputs": [
    {
     "data": {
      "text/plain": [
       "array([45. , 49.5, 54. , 30. , 67.5, 20. , 90. , 81. ])"
      ]
     },
     "execution_count": 76,
     "metadata": {},
     "output_type": "execute_result"
    }
   ],
   "source": [
    "discounted_prices = np.where(prices > 50, prices * 0.9, prices)\n",
    "\n",
    "discounted_prices"
   ]
  },
  {
   "cell_type": "markdown",
   "id": "a3f469d8",
   "metadata": {},
   "source": [
    "<hr style=\"border: 1px solid gray;\">\n",
    "\n",
    "# <code style=\"background:yellow;color:black\">FITBIT CASE STUDY:</code>"
   ]
  },
  {
   "cell_type": "code",
   "execution_count": 2,
   "id": "9d7d02f8",
   "metadata": {},
   "outputs": [
    {
     "name": "stderr",
     "output_type": "stream",
     "text": [
      "Downloading...\n",
      "From: https://drive.google.com/uc?id=1vk1Pu0djiYcrdc85yUXZ_Rqq2oZNcohd\n",
      "To: C:\\Users\\admin\\Desktop\\Scaler\\Module 5- Python Libraries\\My Practice\\fit.txt\n",
      "\n",
      "  0%|          | 0.00/3.43k [00:00<?, ?B/s]\n",
      "100%|##########| 3.43k/3.43k [00:00<?, ?B/s]\n"
     ]
    }
   ],
   "source": [
    "!gdown https://drive.google.com/uc?id=1vk1Pu0djiYcrdc85yUXZ_Rqq2oZNcohd"
   ]
  },
  {
   "cell_type": "code",
   "execution_count": 3,
   "id": "3c20c8f0",
   "metadata": {},
   "outputs": [],
   "source": [
    "data = np.loadtxt(\"fit.txt\", dtype = \"str\")"
   ]
  },
  {
   "cell_type": "code",
   "execution_count": 4,
   "id": "44606440",
   "metadata": {},
   "outputs": [
    {
     "data": {
      "text/plain": [
       "array([['06-10-2017', '5464', 'Neutral', '181', '5', 'Inactive'],\n",
       "       ['07-10-2017', '6041', 'Sad', '197', '8', 'Inactive'],\n",
       "       ['08-10-2017', '25', 'Sad', '0', '5', 'Inactive'],\n",
       "       ['09-10-2017', '5461', 'Sad', '174', '4', 'Inactive'],\n",
       "       ['10-10-2017', '6915', 'Neutral', '223', '5', 'Active']],\n",
       "      dtype='<U10')"
      ]
     },
     "execution_count": 4,
     "metadata": {},
     "output_type": "execute_result"
    }
   ],
   "source": [
    "data[:5]"
   ]
  },
  {
   "cell_type": "code",
   "execution_count": 5,
   "id": "1bdace43",
   "metadata": {},
   "outputs": [
    {
     "data": {
      "text/plain": [
       "(96, 6)"
      ]
     },
     "execution_count": 5,
     "metadata": {},
     "output_type": "execute_result"
    }
   ],
   "source": [
    "data.shape"
   ]
  },
  {
   "cell_type": "code",
   "execution_count": 6,
   "id": "8bb3795c",
   "metadata": {},
   "outputs": [
    {
     "data": {
      "text/plain": [
       "array(['06-10-2017', '5464', 'Neutral', '181', '5', 'Inactive'],\n",
       "      dtype='<U10')"
      ]
     },
     "execution_count": 6,
     "metadata": {},
     "output_type": "execute_result"
    }
   ],
   "source": [
    "data[0]"
   ]
  },
  {
   "cell_type": "code",
   "execution_count": 7,
   "id": "39e398a5",
   "metadata": {},
   "outputs": [
    {
     "data": {
      "text/plain": [
       "array(['06-10-2017', '07-10-2017', '08-10-2017', '09-10-2017',\n",
       "       '10-10-2017', '11-10-2017', '12-10-2017', '13-10-2017',\n",
       "       '14-10-2017', '15-10-2017', '16-10-2017', '17-10-2017',\n",
       "       '18-10-2017', '19-10-2017', '20-10-2017', '21-10-2017',\n",
       "       '22-10-2017', '23-10-2017', '24-10-2017', '25-10-2017',\n",
       "       '26-10-2017', '27-10-2017', '28-10-2017', '29-10-2017',\n",
       "       '30-10-2017', '31-10-2017', '01-11-2017', '02-11-2017',\n",
       "       '03-11-2017', '04-11-2017', '05-11-2017', '06-11-2017',\n",
       "       '07-11-2017', '08-11-2017', '09-11-2017', '10-11-2017',\n",
       "       '11-11-2017', '12-11-2017', '13-11-2017', '14-11-2017',\n",
       "       '15-11-2017', '16-11-2017', '17-11-2017', '18-11-2017',\n",
       "       '19-11-2017', '20-11-2017', '21-11-2017', '22-11-2017',\n",
       "       '23-11-2017', '24-11-2017', '25-11-2017', '26-11-2017',\n",
       "       '27-11-2017', '28-11-2017', '29-11-2017', '30-11-2017',\n",
       "       '01-12-2017', '02-12-2017', '03-12-2017', '04-12-2017',\n",
       "       '05-12-2017', '06-12-2017', '07-12-2017', '08-12-2017',\n",
       "       '09-12-2017', '10-12-2017', '11-12-2017', '12-12-2017',\n",
       "       '13-12-2017', '14-12-2017', '15-12-2017', '16-12-2017',\n",
       "       '17-12-2017', '18-12-2017', '19-12-2017', '20-12-2017',\n",
       "       '21-12-2017', '22-12-2017', '23-12-2017', '24-12-2017',\n",
       "       '25-12-2017', '26-12-2017', '27-12-2017', '28-12-2017',\n",
       "       '29-12-2017', '30-12-2017', '31-12-2017', '01-01-2018',\n",
       "       '02-01-2018', '03-01-2018', '04-01-2018', '05-01-2018',\n",
       "       '06-01-2018', '07-01-2018', '08-01-2018', '09-01-2018'],\n",
       "      dtype='<U10')"
      ]
     },
     "execution_count": 7,
     "metadata": {},
     "output_type": "execute_result"
    }
   ],
   "source": [
    "# Approach 1\n",
    "\n",
    "data[:, 0] "
   ]
  },
  {
   "cell_type": "code",
   "execution_count": 8,
   "id": "34ebee05",
   "metadata": {},
   "outputs": [
    {
     "data": {
      "text/plain": [
       "array(['06-10-2017', '07-10-2017', '08-10-2017', '09-10-2017',\n",
       "       '10-10-2017', '11-10-2017', '12-10-2017', '13-10-2017',\n",
       "       '14-10-2017', '15-10-2017', '16-10-2017', '17-10-2017',\n",
       "       '18-10-2017', '19-10-2017', '20-10-2017', '21-10-2017',\n",
       "       '22-10-2017', '23-10-2017', '24-10-2017', '25-10-2017',\n",
       "       '26-10-2017', '27-10-2017', '28-10-2017', '29-10-2017',\n",
       "       '30-10-2017', '31-10-2017', '01-11-2017', '02-11-2017',\n",
       "       '03-11-2017', '04-11-2017', '05-11-2017', '06-11-2017',\n",
       "       '07-11-2017', '08-11-2017', '09-11-2017', '10-11-2017',\n",
       "       '11-11-2017', '12-11-2017', '13-11-2017', '14-11-2017',\n",
       "       '15-11-2017', '16-11-2017', '17-11-2017', '18-11-2017',\n",
       "       '19-11-2017', '20-11-2017', '21-11-2017', '22-11-2017',\n",
       "       '23-11-2017', '24-11-2017', '25-11-2017', '26-11-2017',\n",
       "       '27-11-2017', '28-11-2017', '29-11-2017', '30-11-2017',\n",
       "       '01-12-2017', '02-12-2017', '03-12-2017', '04-12-2017',\n",
       "       '05-12-2017', '06-12-2017', '07-12-2017', '08-12-2017',\n",
       "       '09-12-2017', '10-12-2017', '11-12-2017', '12-12-2017',\n",
       "       '13-12-2017', '14-12-2017', '15-12-2017', '16-12-2017',\n",
       "       '17-12-2017', '18-12-2017', '19-12-2017', '20-12-2017',\n",
       "       '21-12-2017', '22-12-2017', '23-12-2017', '24-12-2017',\n",
       "       '25-12-2017', '26-12-2017', '27-12-2017', '28-12-2017',\n",
       "       '29-12-2017', '30-12-2017', '31-12-2017', '01-01-2018',\n",
       "       '02-01-2018', '03-01-2018', '04-01-2018', '05-01-2018',\n",
       "       '06-01-2018', '07-01-2018', '08-01-2018', '09-01-2018'],\n",
       "      dtype='<U10')"
      ]
     },
     "execution_count": 8,
     "metadata": {},
     "output_type": "execute_result"
    }
   ],
   "source": [
    "data.T[0]"
   ]
  },
  {
   "cell_type": "code",
   "execution_count": 9,
   "id": "2f68518e",
   "metadata": {},
   "outputs": [],
   "source": [
    "data_t = data.T"
   ]
  },
  {
   "cell_type": "code",
   "execution_count": 10,
   "id": "bcdb790b",
   "metadata": {},
   "outputs": [
    {
     "data": {
      "text/plain": [
       "(6, 96)"
      ]
     },
     "execution_count": 10,
     "metadata": {},
     "output_type": "execute_result"
    }
   ],
   "source": [
    "data_t.shape"
   ]
  },
  {
   "cell_type": "code",
   "execution_count": 11,
   "id": "7ba5952d",
   "metadata": {},
   "outputs": [],
   "source": [
    "date, step_count, mood, calories_burned, hours_of_sleep, activity_status = data_t"
   ]
  },
  {
   "cell_type": "code",
   "execution_count": 12,
   "id": "6f745b77",
   "metadata": {},
   "outputs": [
    {
     "data": {
      "text/plain": [
       "array(['5464', '6041', '25', '5461', '6915', '4545', '4340', '1230', '61',\n",
       "       '1258', '3148', '4687', '4732', '3519', '1580', '2822', '181',\n",
       "       '3158', '4383', '3881', '4037', '202', '292', '330', '2209',\n",
       "       '4550', '4435', '4779', '1831', '2255', '539', '5464', '6041',\n",
       "       '4068', '4683', '4033', '6314', '614', '3149', '4005', '4880',\n",
       "       '4136', '705', '570', '269', '4275', '5999', '4421', '6930',\n",
       "       '5195', '546', '493', '995', '1163', '6676', '3608', '774', '1421',\n",
       "       '4064', '2725', '5934', '1867', '3721', '2374', '2909', '1648',\n",
       "       '799', '7102', '3941', '7422', '437', '1231', '1696', '4921',\n",
       "       '221', '6500', '3575', '4061', '651', '753', '518', '5537', '4108',\n",
       "       '5376', '3066', '177', '36', '299', '1447', '2599', '702', '133',\n",
       "       '153', '500', '2127', '2203'], dtype='<U10')"
      ]
     },
     "execution_count": 12,
     "metadata": {},
     "output_type": "execute_result"
    }
   ],
   "source": [
    "step_count"
   ]
  },
  {
   "cell_type": "code",
   "execution_count": 13,
   "id": "5ec57d23",
   "metadata": {},
   "outputs": [],
   "source": [
    "# Can you figure out if there is a correlation between step_count and mood"
   ]
  },
  {
   "cell_type": "markdown",
   "id": "d4c6f028",
   "metadata": {},
   "source": [
    "Can we say that in all of these individual arrays date, step_count, mood, calories_burned, hours_of_sleep and activity_status, the 0th element is data for 1st person, the 1st element is the data for 2nd person, 2nd element is the data for 3rd person and so on? So, looking at same indexes in all of these arrays, I will get data that belongs to one row because i have taken a transpose of that data.\n",
    "\n",
    "Lets suppose I create a mask on mood array. Now in mood data, mood is neutral, sad and happy. I create a mask on mood by this - mood == \"Happy\". This will return a bunch of true and false values. I can create a mask and then I can apply the mask to an array to get filtered data. This is what we so in masking - we create a mask, apply a condition on it and then apply that mask on array to get filtered data. \n",
    "\n",
    "NOW, I CAN CREATE A MASK USING MOOD, BUT APPLY IT ON STEP_COUNT. So, 1st element of mood is neutral and 1st element of step_count is 5464. So, in mask of mood == \"Happy\" the first element is False, which means the 1st person is not happy because of sthe step count he took i.e. 5464. So, we have created a mask of some array and applied to some other array."
   ]
  },
  {
   "cell_type": "code",
   "execution_count": 14,
   "id": "7f117a5a",
   "metadata": {},
   "outputs": [
    {
     "data": {
      "text/plain": [
       "array(['Neutral', 'Sad', 'Sad', 'Sad', 'Neutral', 'Sad', 'Sad', 'Sad',\n",
       "       'Sad', 'Sad', 'Sad', 'Sad', 'Happy', 'Sad', 'Sad', 'Sad', 'Sad',\n",
       "       'Neutral', 'Neutral', 'Neutral', 'Neutral', 'Neutral', 'Neutral',\n",
       "       'Happy', 'Neutral', 'Happy', 'Happy', 'Happy', 'Happy', 'Happy',\n",
       "       'Happy', 'Happy', 'Neutral', 'Happy', 'Happy', 'Happy', 'Happy',\n",
       "       'Happy', 'Happy', 'Happy', 'Happy', 'Happy', 'Happy', 'Neutral',\n",
       "       'Happy', 'Happy', 'Happy', 'Happy', 'Happy', 'Happy', 'Happy',\n",
       "       'Happy', 'Happy', 'Neutral', 'Sad', 'Happy', 'Happy', 'Happy',\n",
       "       'Happy', 'Happy', 'Happy', 'Happy', 'Sad', 'Neutral', 'Neutral',\n",
       "       'Sad', 'Sad', 'Neutral', 'Neutral', 'Happy', 'Neutral', 'Neutral',\n",
       "       'Sad', 'Neutral', 'Sad', 'Neutral', 'Neutral', 'Sad', 'Sad', 'Sad',\n",
       "       'Sad', 'Happy', 'Neutral', 'Happy', 'Neutral', 'Sad', 'Sad', 'Sad',\n",
       "       'Neutral', 'Neutral', 'Sad', 'Sad', 'Happy', 'Neutral', 'Neutral',\n",
       "       'Happy'], dtype='<U10')"
      ]
     },
     "execution_count": 14,
     "metadata": {},
     "output_type": "execute_result"
    }
   ],
   "source": [
    "mood"
   ]
  },
  {
   "cell_type": "code",
   "execution_count": 16,
   "id": "32eb818a",
   "metadata": {},
   "outputs": [
    {
     "data": {
      "text/plain": [
       "array([False, False, False, False, False, False, False, False, False,\n",
       "       False, False, False,  True, False, False, False, False, False,\n",
       "       False, False, False, False, False,  True, False,  True,  True,\n",
       "        True,  True,  True,  True,  True, False,  True,  True,  True,\n",
       "        True,  True,  True,  True,  True,  True,  True, False,  True,\n",
       "        True,  True,  True,  True,  True,  True,  True,  True, False,\n",
       "       False,  True,  True,  True,  True,  True,  True,  True, False,\n",
       "       False, False, False, False, False, False,  True, False, False,\n",
       "       False, False, False, False, False, False, False, False, False,\n",
       "        True, False,  True, False, False, False, False, False, False,\n",
       "       False, False,  True, False, False,  True])"
      ]
     },
     "execution_count": 16,
     "metadata": {},
     "output_type": "execute_result"
    }
   ],
   "source": [
    "# Creating a mask on mood array\n",
    "\n",
    "mood == \"Happy\""
   ]
  },
  {
   "cell_type": "code",
   "execution_count": 17,
   "id": "726b616c",
   "metadata": {},
   "outputs": [],
   "source": [
    "# Converting all str values to ints in step_count array.\n",
    "\n",
    "step_count = np.array(step_count, dtype = \"int\")"
   ]
  },
  {
   "cell_type": "code",
   "execution_count": 18,
   "id": "5a788566",
   "metadata": {},
   "outputs": [],
   "source": [
    "# Here I am applying a mask generated on mood array to step_count array.\n",
    "\n",
    "step_count_happy = step_count[mood == \"Happy\"]"
   ]
  },
  {
   "cell_type": "code",
   "execution_count": 19,
   "id": "f4fb6e26",
   "metadata": {},
   "outputs": [
    {
     "data": {
      "text/plain": [
       "array([4732,  330, 4550, 4435, 4779, 1831, 2255,  539, 5464, 4068, 4683,\n",
       "       4033, 6314,  614, 3149, 4005, 4880, 4136,  705,  269, 4275, 5999,\n",
       "       4421, 6930, 5195,  546,  493,  995, 3608,  774, 1421, 4064, 2725,\n",
       "       5934, 1867, 7422, 5537, 5376,  153, 2203])"
      ]
     },
     "execution_count": 19,
     "metadata": {},
     "output_type": "execute_result"
    }
   ],
   "source": [
    "# So these were the step counts of all those people who were happy.\n",
    "\n",
    "step_count_happy"
   ]
  },
  {
   "cell_type": "code",
   "execution_count": 20,
   "id": "30ca762a",
   "metadata": {},
   "outputs": [],
   "source": [
    "step_count_sad = step_count[mood == \"Sad\"]"
   ]
  },
  {
   "cell_type": "code",
   "execution_count": 21,
   "id": "05ae17e6",
   "metadata": {},
   "outputs": [
    {
     "data": {
      "text/plain": [
       "array([6041,   25, 5461, 4545, 4340, 1230,   61, 1258, 3148, 4687, 3519,\n",
       "       1580, 2822,  181, 6676, 3721, 1648,  799, 1696,  221, 4061,  651,\n",
       "        753,  518,  177,   36,  299,  702,  133])"
      ]
     },
     "execution_count": 21,
     "metadata": {},
     "output_type": "execute_result"
    }
   ],
   "source": [
    "# So these were the step counts of all those people who were sad.\n",
    "\n",
    "step_count_sad"
   ]
  },
  {
   "cell_type": "code",
   "execution_count": 22,
   "id": "176cbdc0",
   "metadata": {},
   "outputs": [],
   "source": [
    "step_count_neutral = step_count[mood == \"Neutral\"]"
   ]
  },
  {
   "cell_type": "code",
   "execution_count": 23,
   "id": "8671d48d",
   "metadata": {},
   "outputs": [
    {
     "data": {
      "text/plain": [
       "array([5464, 6915, 3158, 4383, 3881, 4037,  202,  292, 2209, 6041,  570,\n",
       "       1163, 2374, 2909, 7102, 3941,  437, 1231, 4921, 6500, 3575, 4108,\n",
       "       3066, 1447, 2599,  500, 2127])"
      ]
     },
     "execution_count": 23,
     "metadata": {},
     "output_type": "execute_result"
    }
   ],
   "source": [
    "# So these were the step counts of all those people who were neutral.\n",
    "\n",
    "step_count_neutral"
   ]
  },
  {
   "cell_type": "code",
   "execution_count": 24,
   "id": "5353371b",
   "metadata": {},
   "outputs": [
    {
     "data": {
      "text/plain": [
       "(3392.725, 2103.0689655172414, 3153.777777777778)"
      ]
     },
     "execution_count": 24,
     "metadata": {},
     "output_type": "execute_result"
    }
   ],
   "source": [
    "# Here we find the mean of all 3. So, from analysis, we fins that if the step count is higher the mood is happy or vice versa.\n",
    "\n",
    "step_count_happy.mean(), step_count_sad.mean(), step_count_neutral.mean()"
   ]
  }
 ],
 "metadata": {
  "kernelspec": {
   "display_name": "Python 3 (ipykernel)",
   "language": "python",
   "name": "python3"
  },
  "language_info": {
   "codemirror_mode": {
    "name": "ipython",
    "version": 3
   },
   "file_extension": ".py",
   "mimetype": "text/x-python",
   "name": "python",
   "nbconvert_exporter": "python",
   "pygments_lexer": "ipython3",
   "version": "3.11.3"
  }
 },
 "nbformat": 4,
 "nbformat_minor": 5
}
