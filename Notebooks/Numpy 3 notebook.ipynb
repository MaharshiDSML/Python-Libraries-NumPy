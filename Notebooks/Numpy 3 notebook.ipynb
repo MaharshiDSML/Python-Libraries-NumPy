{
 "cells": [
  {
   "cell_type": "markdown",
   "id": "d259161e",
   "metadata": {},
   "source": [
    "# <code style=\"background:yellow;color:black\">Summary:</code>\n",
    "\n",
    "1. Sort() method\n",
    "2. Argsort() method\n",
    "3. ones() and zeros() functions\n",
    "4. eye() function\n",
    "5. Ufunc sorting\n",
    "6. Element wise operations\n",
    "7. Matrix multiplication\n",
    "8. Vectorization\n",
    "9. Broadcasting"
   ]
  },
  {
   "cell_type": "markdown",
   "id": "b2f2f1cf",
   "metadata": {},
   "source": [
    "<hr style=\"border: 1px solid gray;\">\n",
    "\n",
    "# <code style=\"background:yellow;color:black\">Revision of last lecture:</code>"
   ]
  },
  {
   "cell_type": "code",
   "execution_count": 1,
   "id": "666b218e",
   "metadata": {},
   "outputs": [],
   "source": [
    "import numpy as np"
   ]
  },
  {
   "cell_type": "markdown",
   "id": "68261277",
   "metadata": {},
   "source": [
    "**Quiz**\n",
    "\n",
    "arr = np.arange(12) <br>\n",
    "arr = arr.reshape(-1,4)\n",
    "\n",
    "What will the shape of array ?\n",
    "\n",
    "1. (-1, 4)\n",
    "2. (12,)\n",
    "3. (3, 4)\n",
    "4. (1, 12)"
   ]
  },
  {
   "cell_type": "code",
   "execution_count": 2,
   "id": "51d78459",
   "metadata": {},
   "outputs": [],
   "source": [
    "arr = np.arange(12)"
   ]
  },
  {
   "cell_type": "code",
   "execution_count": 3,
   "id": "ce861744",
   "metadata": {},
   "outputs": [],
   "source": [
    "arr = arr.reshape(-1,4)"
   ]
  },
  {
   "cell_type": "code",
   "execution_count": 4,
   "id": "547b7129",
   "metadata": {},
   "outputs": [
    {
     "data": {
      "text/plain": [
       "(3, 4)"
      ]
     },
     "execution_count": 4,
     "metadata": {},
     "output_type": "execute_result"
    }
   ],
   "source": [
    "arr.shape"
   ]
  },
  {
   "cell_type": "markdown",
   "id": "aeb30ec2",
   "metadata": {},
   "source": [
    "<hr style=\"border: 1px solid gray;\">\n",
    "\n",
    "# <code style=\"background:yellow;color:black\">Sort() Method:</code>\n",
    "\n",
    "* **In NumPy, <code style=\"background:yellow;color:black\">the sort() method</code> is used to sort the elements of a NumPy array along a specified axis. It can sort the elements in ascending or descending order based on the axis specified.** \n",
    "\n",
    "* **A default sort() method implementation looks like this -- np.sort(a, axis = -1, kind = None).**\n",
    "\n",
    "* **It takes following arguments:**\n",
    "    * **a:** The input NumPy array to be sorted.\n",
    "    * **axis:** The axis along which the sorting should be performed. By default, it sorts along the last axis (axis = -1). \n",
    "    * **kind:** This specifies the sorting algorithm to use. It can take values like 'quicksort', 'mergesort', or 'heapsort'. The default is None.<br><br>\n",
    "    \n",
    "* **Here in the example code cell below, \"b\" stores the sorted version of \"a\", and sorting is in increasing order by default.** \n",
    "* **Original array \"a\" will remain unchanged, because a sorted version of \"a\" is copied in \"b\" and \"a\" itself remains as it is. This is called creating a COPY.**"
   ]
  },
  {
   "cell_type": "code",
   "execution_count": 5,
   "id": "96dbfa46",
   "metadata": {},
   "outputs": [
    {
     "data": {
      "text/plain": [
       "array([4, 7, 0, 3, 8, 2, 5, 1, 6, 9])"
      ]
     },
     "execution_count": 5,
     "metadata": {},
     "output_type": "execute_result"
    }
   ],
   "source": [
    "a = np.array([4, 7, 0, 3, 8, 2, 5, 1, 6, 9])\n",
    "\n",
    "a"
   ]
  },
  {
   "cell_type": "code",
   "execution_count": 7,
   "id": "48321edb",
   "metadata": {},
   "outputs": [],
   "source": [
    "b = np.sort(a)"
   ]
  },
  {
   "cell_type": "code",
   "execution_count": 8,
   "id": "94e07e6d",
   "metadata": {},
   "outputs": [
    {
     "data": {
      "text/plain": [
       "array([0, 1, 2, 3, 4, 5, 6, 7, 8, 9])"
      ]
     },
     "execution_count": 8,
     "metadata": {},
     "output_type": "execute_result"
    }
   ],
   "source": [
    "b"
   ]
  },
  {
   "cell_type": "code",
   "execution_count": 9,
   "id": "b4e8ef21",
   "metadata": {},
   "outputs": [
    {
     "data": {
      "text/plain": [
       "array([4, 7, 0, 3, 8, 2, 5, 1, 6, 9])"
      ]
     },
     "execution_count": 9,
     "metadata": {},
     "output_type": "execute_result"
    }
   ],
   "source": [
    "a"
   ]
  },
  {
   "cell_type": "code",
   "execution_count": 10,
   "id": "8c046942",
   "metadata": {},
   "outputs": [],
   "source": [
    "d = a"
   ]
  },
  {
   "cell_type": "code",
   "execution_count": 11,
   "id": "ecc86c0b",
   "metadata": {},
   "outputs": [
    {
     "data": {
      "text/plain": [
       "array([4, 7, 0, 3, 8, 2, 5, 1, 6, 9])"
      ]
     },
     "execution_count": 11,
     "metadata": {},
     "output_type": "execute_result"
    }
   ],
   "source": [
    "d"
   ]
  },
  {
   "cell_type": "markdown",
   "id": "72fad314",
   "metadata": {},
   "source": [
    "* **<code style=\"background:yellow;color:black\">Directly applying sort() function to the original array is called IN-PLACE SORTING.</code>** This does not create and return a sorted copy of the original np array, but it sorts the original np array itself, in this case \"d\". \n",
    "\n",
    "* **<code style=\"background:yellow;color:black\">This is the difference between np.sort(a) and a.sort()</code>,** that when we provide np.sort(a) it will sort and return a copy of array \"a\", whereas a.sort() will sort the original array \"a\" itself, no copy will be created."
   ]
  },
  {
   "cell_type": "code",
   "execution_count": 12,
   "id": "4cab731a",
   "metadata": {},
   "outputs": [],
   "source": [
    "d.sort()"
   ]
  },
  {
   "cell_type": "code",
   "execution_count": 13,
   "id": "9d3a3c03",
   "metadata": {},
   "outputs": [
    {
     "data": {
      "text/plain": [
       "array([0, 1, 2, 3, 4, 5, 6, 7, 8, 9])"
      ]
     },
     "execution_count": 13,
     "metadata": {},
     "output_type": "execute_result"
    }
   ],
   "source": [
    "d"
   ]
  },
  {
   "cell_type": "markdown",
   "id": "aa19b0ff",
   "metadata": {},
   "source": [
    "<hr style=\"border: 1px solid gray;\">\n",
    "\n",
    "# <code style=\"background:yellow;color:black\">Argsort() Method:</code>\n",
    "\n",
    "* **The <code style=\"background:yellow;color:black\">argsort method()</code> in NumPy is used to return the indices that would sort an array.** \n",
    "\n",
    "* It returns an array of indices that would arrange the elements of the input array in ascending order. \n",
    "\n",
    "* This can be very useful when we want to sort one array while maintaining the original order of elements in another array or when you want to apply a custom sorting order.\n",
    "\n",
    "* **<code style=\"background:yellow;color:black\">sort() returns the sorted array and argsort() returns the indexes of the array if it was sorted.</code>**\n",
    "\n",
    "* Here in the example code cell below, we get a np array which is telling us the INDEXES of the original array if they were in sorted order. **Refer notes to visualize.**"
   ]
  },
  {
   "cell_type": "code",
   "execution_count": 14,
   "id": "e6f14f8c",
   "metadata": {},
   "outputs": [
    {
     "data": {
      "text/plain": [
       "array([4, 7, 0, 3, 8, 2, 5, 1, 6, 9])"
      ]
     },
     "execution_count": 14,
     "metadata": {},
     "output_type": "execute_result"
    }
   ],
   "source": [
    "a = np.array([4, 7, 0, 3, 8, 2, 5, 1, 6, 9])\n",
    "\n",
    "a"
   ]
  },
  {
   "cell_type": "code",
   "execution_count": 15,
   "id": "e60b552b",
   "metadata": {},
   "outputs": [
    {
     "data": {
      "text/plain": [
       "array([2, 7, 5, 3, 0, 6, 8, 1, 4, 9], dtype=int64)"
      ]
     },
     "execution_count": 15,
     "metadata": {},
     "output_type": "execute_result"
    }
   ],
   "source": [
    "a.argsort()"
   ]
  },
  {
   "cell_type": "code",
   "execution_count": 16,
   "id": "f2039a6f",
   "metadata": {},
   "outputs": [],
   "source": [
    "b = np.array([5, 7, 3, 1, 10])"
   ]
  },
  {
   "cell_type": "code",
   "execution_count": 17,
   "id": "6a0a78ac",
   "metadata": {},
   "outputs": [
    {
     "data": {
      "text/plain": [
       "array([3, 2, 0, 1, 4], dtype=int64)"
      ]
     },
     "execution_count": 17,
     "metadata": {},
     "output_type": "execute_result"
    }
   ],
   "source": [
    "b.argsort()"
   ]
  },
  {
   "cell_type": "markdown",
   "id": "223ef636",
   "metadata": {},
   "source": [
    "<hr style=\"border: 1px solid gray;\">\n",
    "\n",
    "# <code style=\"background:yellow;color:black\">ones() and zeros() function:</code>\n",
    "\n",
    "* **<code style=\"background:yellow;color:black\">ones() function</code> creates a NumPy array filled with ones. We can specify the shape of the array as a tuple, and it will create an array of the specified shape with all elements set to 1.**\n",
    "\n",
    "* **<code style=\"background:yellow;color:black\">zeros() function creates a NumPy array filled with zeros.</code> Like np.ones(), we can specify the shape of the array as a tuple, and it will create an array of the specified shape with all elements set to 0.**\n",
    "\n",
    "* **These functions will create an array of all 1's and all 0's.** \n",
    "\n",
    "* Below code will create a np array of 1s and how many 1s will be there is provided as a parameter. All of them will be floating point numbers. Here in the example below an array of 5 number of 1s will be created. If we would have provided 7 as a parameter, 7 number of 1s would have been created."
   ]
  },
  {
   "cell_type": "code",
   "execution_count": 18,
   "id": "5d7b37ea",
   "metadata": {},
   "outputs": [
    {
     "data": {
      "text/plain": [
       "array([1., 1., 1., 1., 1.])"
      ]
     },
     "execution_count": 18,
     "metadata": {},
     "output_type": "execute_result"
    }
   ],
   "source": [
    "a = np.ones(5)\n",
    "\n",
    "a"
   ]
  },
  {
   "cell_type": "code",
   "execution_count": 19,
   "id": "2585e58b",
   "metadata": {},
   "outputs": [
    {
     "data": {
      "text/plain": [
       "array([[1., 1., 1.],\n",
       "       [1., 1., 1.],\n",
       "       [1., 1., 1.]])"
      ]
     },
     "execution_count": 19,
     "metadata": {},
     "output_type": "execute_result"
    }
   ],
   "source": [
    "np.ones((3,3))"
   ]
  },
  {
   "cell_type": "code",
   "execution_count": 20,
   "id": "91e4d6bc",
   "metadata": {},
   "outputs": [
    {
     "data": {
      "text/plain": [
       "array([0., 0., 0., 0., 0.])"
      ]
     },
     "execution_count": 20,
     "metadata": {},
     "output_type": "execute_result"
    }
   ],
   "source": [
    "b = np.zeros(5)\n",
    "\n",
    "b"
   ]
  },
  {
   "cell_type": "code",
   "execution_count": 21,
   "id": "50aa72fc",
   "metadata": {},
   "outputs": [
    {
     "data": {
      "text/plain": [
       "array([[0., 0., 0., 0., 0.],\n",
       "       [0., 0., 0., 0., 0.],\n",
       "       [0., 0., 0., 0., 0.],\n",
       "       [0., 0., 0., 0., 0.],\n",
       "       [0., 0., 0., 0., 0.]])"
      ]
     },
     "execution_count": 21,
     "metadata": {},
     "output_type": "execute_result"
    }
   ],
   "source": [
    "np.zeros((5,5))"
   ]
  },
  {
   "cell_type": "markdown",
   "id": "765a3f67",
   "metadata": {},
   "source": [
    "<hr style=\"border: 1px solid gray;\">\n",
    "\n",
    "# <code style=\"background:yellow;color:black\">eye() function:</code>\n",
    "\n",
    "* **The <code style=\"background:yellow;color:black\">eye() function creates a 2D identity matrix,</code> which is a square matrix with ones on the main diagonal and zeros elsewhere. You can specify the number of rows and columns as an argument.** \n",
    "\n",
    "* It is often used in linear algebra and for creating transformation matrices.\n",
    "\n",
    "* **A default sort() method implementation looks like this -- numpy.eye(N, M = None, k = 0).**\n",
    "\n",
    "* **It takes a few following arguments:**\n",
    "\n",
    "    * **N:** Number of rows.\n",
    "    * **M:** (Optional) Number of columns. If not specified, it defaults to N.\n",
    "    * **k:** (Optional) The index of the diagonal where the ones are located. The main diagonal has k = 0."
   ]
  },
  {
   "cell_type": "code",
   "execution_count": 22,
   "id": "67a937cc",
   "metadata": {},
   "outputs": [
    {
     "data": {
      "text/plain": [
       "array([[1., 0., 0., 0.],\n",
       "       [0., 1., 0., 0.],\n",
       "       [0., 0., 1., 0.],\n",
       "       [0., 0., 0., 1.]])"
      ]
     },
     "execution_count": 22,
     "metadata": {},
     "output_type": "execute_result"
    }
   ],
   "source": [
    "np.eye(4)"
   ]
  },
  {
   "cell_type": "markdown",
   "id": "c38526b0",
   "metadata": {},
   "source": [
    "<hr style=\"border: 1px solid gray;\">\n",
    "\n",
    "# <code style=\"background:yellow;color:black\">Ufunc Sorting:</code>\n",
    "\n",
    "* **In NumPy, a <code style=\"background:yellow;color:black\">ufunc (universal function)</code> is a function that operates element-wise on ndarray objects. NumPy provides a variety of ufuncs to perform operations such as arithmetic, trigonometric, and logical operations on arrays efficiently.** \n",
    "* **<code style=\"background:yellow;color:black\">Sorting in NumPy can be accomplished using ufuncs like np.sort() and np.argsort().</code>**\n",
    "\n",
    "* NumPy provides a wide range of universal functions (ufuncs) that operate element-wise on arrays, allowing for efficient and vectorized operations. **Some common ufuncs in NumPy include:**\n",
    "\n",
    "    * **<u>Mathematical Operations:</u>**\n",
    "\n",
    "        * np.add: Add corresponding elements of two arrays.\n",
    "        * np.subtract: Subtract elements of the second array from the first.\n",
    "        * np.multiply: Multiply corresponding elements of two arrays.\n",
    "        * np.divide: Divide elements of the first array by the second.\n",
    "        * np.exp: Compute the exponent of each element.\n",
    "        * np.log, np.log10, np.log2: Compute natural logarithm, base-10 logarithm, and base-2 logarithm, respectively.\n",
    "        * np.sin, np.cos, np.tan: Trigonometric functions.\n",
    "        * np.sqrt: Compute the square root of each element.\n",
    "        * np.power: Raise elements of the first array to the power of the corresponding elements in the second array.\n",
    "\n",
    "    * **<u>Statistical Functions:</u>**\n",
    "\n",
    "        * np.mean: Compute the mean of array elements.\n",
    "        * np.median: Compute the median of array elements.\n",
    "        * np.std: Compute the standard deviation of array elements.\n",
    "        * np.var: Compute the variance of array elements.\n",
    "        * np.min, np.max: Find the minimum and maximum values in an array.\n",
    "        * np.sum: Compute the sum of array elements.\n",
    "\n",
    "    * **<u>Trigonometric Functions:</u>**\n",
    "\n",
    "        * np.sin, np.cos, np.tan: Sine, cosine, and tangent.\n",
    "        * np.arcsin, np.arccos, np.arctan: Inverse trigonometric functions.\n",
    "        \n",
    "    * **<u>Bitwise Operations:</u>**\n",
    "\n",
    "        * np.bitwise_and, np.bitwise_or, np.bitwise_xor: Bitwise AND, OR, and XOR.\n",
    "        * np.bitwise_not: Bitwise NOT.\n",
    "\n",
    "    * **<u>Comparison Operators:</u>**\n",
    "\n",
    "        * np.greater, np.greater_equal: Element-wise comparison (greater than, greater than or equal to).\n",
    "        * np.less, np.less_equal: Element-wise comparison (less than, less than or equal to).\n",
    "        * np.equal, np.not_equal: Element-wise comparison (equal, not equal).\n",
    "\n",
    "    * **<u>Linear Algebra:</u>**\n",
    "\n",
    "        * np.dot: Dot product of two arrays.\n",
    "        * np.linalg.inv: Inverse of a square matrix.\n",
    "        * np.linalg.det: Determinant of a square matrix.\n",
    "        * np.linalg.eig: Eigenvalues and eigenvectors of a square matrix."
   ]
  },
  {
   "cell_type": "code",
   "execution_count": 24,
   "id": "9bd10abd",
   "metadata": {},
   "outputs": [],
   "source": [
    "a = np.array([[23,4,43],\n",
    "              [12,89,3],\n",
    "              [69,420,0]])"
   ]
  },
  {
   "cell_type": "markdown",
   "id": "49f10ccd",
   "metadata": {},
   "source": [
    "* **Here in 2D array, sorting is performed by last axis.** \n",
    "\n",
    "* In this case, the last axis is AXIS 1, so it will perform sorting on axis 1. Axis 1 is row wise. So, it will perform sorting row wise. Sorted version of 1st row is 4 23 43, sorted version of 2nd row is 3 12 89 ans so on.\n",
    "\n",
    "* So, when we implement np.sort(a) where \"a\" is a 2D array, it will perform sorting on the basis on last axis."
   ]
  },
  {
   "cell_type": "code",
   "execution_count": 25,
   "id": "fc1ed26a",
   "metadata": {},
   "outputs": [
    {
     "data": {
      "text/plain": [
       "array([[  4,  23,  43],\n",
       "       [  3,  12,  89],\n",
       "       [  0,  69, 420]])"
      ]
     },
     "execution_count": 25,
     "metadata": {},
     "output_type": "execute_result"
    }
   ],
   "source": [
    "b = np.sort(a)\n",
    "\n",
    "b"
   ]
  },
  {
   "cell_type": "markdown",
   "id": "6dbc930c",
   "metadata": {},
   "source": [
    "<hr style=\"border: 1px solid gray;\">\n",
    "\n",
    "# <code style=\"background:yellow;color:black\">Element wise operations:</code>\n",
    "\n",
    "* **<code style=\"background:yellow;color:black\">Element-wise operations</code> in NumPy refer to operations that are performed independently on each element of an array.**\n",
    "* **These operations are vectorized, meaning that they are applied to the entire array or a portion of it without the need for explicit looping. This approach is more efficient than using explicit loops and is a key feature of NumPy that contributes to its performance.**\n",
    "\n",
    "**<u>Here are some examples of element-wise operations in NumPy:</u>**\n",
    "\n",
    "* **<code style=\"background:yellow;color:black\">Element-wise Arithmetic</code>**\n",
    "* **<code style=\"background:yellow;color:black\">Element-wise Comparison</code>**\n",
    "* **<code style=\"background:yellow;color:black\">Element-wise Trigonometric functions</code>**\n",
    "* **<code style=\"background:yellow;color:black\">Element-wise Logical operations</code>**\n",
    "\n",
    "These examples demonstrate how NumPy allows us to perform operations on entire arrays or elements in a concise and efficient manner. The use of vectorized operations improves code readability and performance compared to using explicit loops."
   ]
  },
  {
   "cell_type": "code",
   "execution_count": 26,
   "id": "2ca2dc3b",
   "metadata": {},
   "outputs": [
    {
     "name": "stdout",
     "output_type": "stream",
     "text": [
      "Original array: [1 2 3 4 5]\n",
      "Result after addition: [3 4 5 6 7]\n",
      "Result after multiplication: [ 3  6  9 12 15]\n",
      "Result after exponentiation: [ 1  4  9 16 25]\n"
     ]
    }
   ],
   "source": [
    "arr = np.array([1, 2, 3, 4, 5])\n",
    "\n",
    "# Addition\n",
    "result_add = arr + 2  # Add 2 to each element\n",
    "\n",
    "# Multiplication\n",
    "result_mul = arr * 3  # Multiply each element by 3\n",
    "\n",
    "# Exponentiation\n",
    "result_pow = np.power(arr, 2)  # Square each element\n",
    "\n",
    "print(\"Original array:\", arr)\n",
    "print(\"Result after addition:\", result_add)\n",
    "print(\"Result after multiplication:\", result_mul)\n",
    "print(\"Result after exponentiation:\", result_pow)"
   ]
  },
  {
   "cell_type": "code",
   "execution_count": 27,
   "id": "b5028406",
   "metadata": {},
   "outputs": [
    {
     "name": "stdout",
     "output_type": "stream",
     "text": [
      "Array 1: [1 2 3 4 5]\n",
      "Array 2: [2 2 3 3 5]\n",
      "Result of greater than comparison: [False False False  True False]\n",
      "Result of equality comparison: [False  True  True False  True]\n"
     ]
    }
   ],
   "source": [
    "arr1 = np.array([1, 2, 3, 4, 5])\n",
    "arr2 = np.array([2, 2, 3, 3, 5])\n",
    "\n",
    "# Element-wise greater than comparison\n",
    "result_gt = arr1 > arr2\n",
    "\n",
    "# Element-wise equality comparison\n",
    "result_eq = arr1 == arr2\n",
    "\n",
    "print(\"Array 1:\", arr1)\n",
    "print(\"Array 2:\", arr2)\n",
    "print(\"Result of greater than comparison:\", result_gt)\n",
    "print(\"Result of equality comparison:\", result_eq)"
   ]
  },
  {
   "cell_type": "code",
   "execution_count": 28,
   "id": "f3aaa2ba",
   "metadata": {},
   "outputs": [
    {
     "name": "stdout",
     "output_type": "stream",
     "text": [
      "Angles: [0.         1.57079633 3.14159265 4.71238898]\n",
      "Sine values: [ 0.0000000e+00  1.0000000e+00  1.2246468e-16 -1.0000000e+00]\n",
      "Cosine values: [ 1.0000000e+00  6.1232340e-17 -1.0000000e+00 -1.8369702e-16]\n"
     ]
    }
   ],
   "source": [
    "angles = np.array([0, np.pi/2, np.pi, 3*np.pi/2])\n",
    "\n",
    "# Element-wise sine\n",
    "result_sin = np.sin(angles)\n",
    "\n",
    "# Element-wise cosine\n",
    "result_cos = np.cos(angles)\n",
    "\n",
    "print(\"Angles:\", angles)\n",
    "print(\"Sine values:\", result_sin)\n",
    "print(\"Cosine values:\", result_cos)"
   ]
  },
  {
   "cell_type": "code",
   "execution_count": 29,
   "id": "e92b2d8c",
   "metadata": {},
   "outputs": [
    {
     "name": "stdout",
     "output_type": "stream",
     "text": [
      "Original array: [ True False  True False]\n",
      "Result of logical NOT: [False  True False  True]\n",
      "Result of logical AND: [ True False False False]\n"
     ]
    }
   ],
   "source": [
    "arr = np.array([True, False, True, False])\n",
    "\n",
    "# Element-wise logical NOT\n",
    "result_not = np.logical_not(arr)\n",
    "\n",
    "# Element-wise logical AND\n",
    "result_and = np.logical_and(arr, np.array([True, True, False, False]))\n",
    "\n",
    "print(\"Original array:\", arr)\n",
    "print(\"Result of logical NOT:\", result_not)\n",
    "print(\"Result of logical AND:\", result_and)"
   ]
  },
  {
   "cell_type": "markdown",
   "id": "f525d1d9",
   "metadata": {},
   "source": [
    "**Here are some more examples of element-wise arithmetic operations in NumPy.**"
   ]
  },
  {
   "cell_type": "code",
   "execution_count": 30,
   "id": "bc42b29e",
   "metadata": {},
   "outputs": [
    {
     "data": {
      "text/plain": [
       "array([0, 1, 2, 3, 4])"
      ]
     },
     "execution_count": 30,
     "metadata": {},
     "output_type": "execute_result"
    }
   ],
   "source": [
    "a = np.arange(5)\n",
    "\n",
    "a"
   ]
  },
  {
   "cell_type": "code",
   "execution_count": 31,
   "id": "f36b8a09",
   "metadata": {},
   "outputs": [
    {
     "data": {
      "text/plain": [
       "array([0, 1, 2, 3, 4])"
      ]
     },
     "execution_count": 31,
     "metadata": {},
     "output_type": "execute_result"
    }
   ],
   "source": [
    "b = np.arange(5)\n",
    "\n",
    "b"
   ]
  },
  {
   "cell_type": "code",
   "execution_count": 32,
   "id": "20ebf641",
   "metadata": {},
   "outputs": [
    {
     "data": {
      "text/plain": [
       "array([ 0,  1,  4,  9, 16])"
      ]
     },
     "execution_count": 32,
     "metadata": {},
     "output_type": "execute_result"
    }
   ],
   "source": [
    "a * b"
   ]
  },
  {
   "cell_type": "code",
   "execution_count": 33,
   "id": "802d2c29",
   "metadata": {},
   "outputs": [
    {
     "data": {
      "text/plain": [
       "array([[ 1,  2,  3,  4],\n",
       "       [ 5,  6,  7,  8],\n",
       "       [ 9, 10, 11, 12]])"
      ]
     },
     "execution_count": 33,
     "metadata": {},
     "output_type": "execute_result"
    }
   ],
   "source": [
    "a = np.arange(1,13).reshape(3,4)\n",
    "\n",
    "a"
   ]
  },
  {
   "cell_type": "code",
   "execution_count": 34,
   "id": "0f292c94",
   "metadata": {},
   "outputs": [
    {
     "data": {
      "text/plain": [
       "array([[ 2,  3,  4,  5],\n",
       "       [ 6,  7,  8,  9],\n",
       "       [10, 11, 12, 13]])"
      ]
     },
     "execution_count": 34,
     "metadata": {},
     "output_type": "execute_result"
    }
   ],
   "source": [
    "b = np.arange(2,14).reshape(3,4)\n",
    "\n",
    "b"
   ]
  },
  {
   "cell_type": "markdown",
   "id": "13eacc24",
   "metadata": {},
   "source": [
    "**Element wise multiplication of 2D arrays: It will be performed element wise, means 1st element of 2D array 1 will be multiplied with 1st element of 2D array 2, 2nd element of 2D array 1 will be multiplied with 2nd element of 2D array 2 and so on, and the resulting 2D array is returned.**"
   ]
  },
  {
   "cell_type": "code",
   "execution_count": 35,
   "id": "79c855b0",
   "metadata": {},
   "outputs": [
    {
     "data": {
      "text/plain": [
       "array([[  2,   6,  12,  20],\n",
       "       [ 30,  42,  56,  72],\n",
       "       [ 90, 110, 132, 156]])"
      ]
     },
     "execution_count": 35,
     "metadata": {},
     "output_type": "execute_result"
    }
   ],
   "source": [
    "a * b"
   ]
  },
  {
   "cell_type": "markdown",
   "id": "6d6cb2b2",
   "metadata": {},
   "source": [
    "<hr style=\"border: 1px solid gray;\">\n",
    "\n",
    "# <code style=\"background:yellow;color:black\">Matrix Multiplication:</code>\n",
    "\n",
    "* **<code style=\"background:yellow;color:black\">Matrix multiplication</code>in numpy is the same as we studied in school about how matrixes are multiplied i.e. matrix multiplication. This is however, different from element wise multiplication of arrays, which is seen above, and the only operator used for element wise multiplication is \" <b>*</b> \".**\n",
    "\n",
    "* **There is one important rule of matrix multiplication that number of columns of 1st matrix should be of same as number of rows of 2nd matrix.**\n",
    "\n",
    "* **Second important rule is about the size of the resultant matrix. The number of rows of resultant matrix will be equal to number of rows of matrix 1 and columns of resultant matrix will be equal to number of columns of matrix 2.**\n",
    "\n",
    "* For example, Let M1 be a 2 X 3 matrix, M2 be a 3 X 5 matrix. What will be the shape of the resultant matrix? - 2 X 5. Let M1 be a 2 X 4 matrix, M2 be a 2 X 4 matrix. Matrix multiplication - Not possible.\n",
    "\n",
    "* **<code style=\"background:yellow;color:black\">There are 3 ways of matrix multiplication in numpy:</code>**\n",
    "\n",
    "    * np.dot() function\n",
    "    * @ operator\n",
    "    * np.matmul() function\n",
    "\n",
    "Among these np.matmul is most widely used. The np.matmul() function is flexible and can handle different array shapes, including broadcasting when needed. It's a good choice for performing matrix multiplication when we have arrays with different dimensions or shapes. However, for regular 2D matrix multiplication, the @ operator and the np.dot() function are often more commonly used and are more concise."
   ]
  },
  {
   "cell_type": "code",
   "execution_count": 36,
   "id": "293e10ec",
   "metadata": {},
   "outputs": [
    {
     "data": {
      "text/plain": [
       "array([[ 1,  2,  3,  4],\n",
       "       [ 5,  6,  7,  8],\n",
       "       [ 9, 10, 11, 12]])"
      ]
     },
     "execution_count": 36,
     "metadata": {},
     "output_type": "execute_result"
    }
   ],
   "source": [
    "a = np.arange(1, 13).reshape(3,4)\n",
    "\n",
    "a"
   ]
  },
  {
   "cell_type": "code",
   "execution_count": 37,
   "id": "7f70618b",
   "metadata": {},
   "outputs": [
    {
     "data": {
      "text/plain": [
       "array([[ 2,  3,  4],\n",
       "       [ 5,  6,  7],\n",
       "       [ 8,  9, 10],\n",
       "       [11, 12, 13]])"
      ]
     },
     "execution_count": 37,
     "metadata": {},
     "output_type": "execute_result"
    }
   ],
   "source": [
    "b = np.arange(2,14).reshape(4,3)\n",
    "\n",
    "b"
   ]
  },
  {
   "cell_type": "markdown",
   "id": "2eabbc03",
   "metadata": {},
   "source": [
    "* Can we do matrix multiplication of these two matrices? YES because number of rows of 1st matrix is equal to the number of cols of the 2nd matrix. And that can be confirmed by checking the shape of the two matrices.\n",
    "\n",
    "* What will be the shape of the resultant matrix? - 3 X 3"
   ]
  },
  {
   "cell_type": "code",
   "execution_count": 38,
   "id": "e3073eb8",
   "metadata": {},
   "outputs": [
    {
     "data": {
      "text/plain": [
       "(3, 4)"
      ]
     },
     "execution_count": 38,
     "metadata": {},
     "output_type": "execute_result"
    }
   ],
   "source": [
    "a.shape"
   ]
  },
  {
   "cell_type": "code",
   "execution_count": 39,
   "id": "016d0889",
   "metadata": {},
   "outputs": [
    {
     "data": {
      "text/plain": [
       "(4, 3)"
      ]
     },
     "execution_count": 39,
     "metadata": {},
     "output_type": "execute_result"
    }
   ],
   "source": [
    "b.shape"
   ]
  },
  {
   "cell_type": "code",
   "execution_count": 40,
   "id": "1421f9e3",
   "metadata": {},
   "outputs": [
    {
     "data": {
      "text/plain": [
       "array([[ 80,  90, 100],\n",
       "       [184, 210, 236],\n",
       "       [288, 330, 372]])"
      ]
     },
     "execution_count": 40,
     "metadata": {},
     "output_type": "execute_result"
    }
   ],
   "source": [
    "np.dot(a,b)"
   ]
  },
  {
   "cell_type": "code",
   "execution_count": 41,
   "id": "280a35cc",
   "metadata": {},
   "outputs": [
    {
     "data": {
      "text/plain": [
       "array([[ 80,  90, 100],\n",
       "       [184, 210, 236],\n",
       "       [288, 330, 372]])"
      ]
     },
     "execution_count": 41,
     "metadata": {},
     "output_type": "execute_result"
    }
   ],
   "source": [
    "a @ b"
   ]
  },
  {
   "cell_type": "code",
   "execution_count": 42,
   "id": "e2884bcc",
   "metadata": {},
   "outputs": [
    {
     "data": {
      "text/plain": [
       "array([[ 80,  90, 100],\n",
       "       [184, 210, 236],\n",
       "       [288, 330, 372]])"
      ]
     },
     "execution_count": 42,
     "metadata": {},
     "output_type": "execute_result"
    }
   ],
   "source": [
    "np.matmul(a,b)"
   ]
  },
  {
   "cell_type": "code",
   "execution_count": 43,
   "id": "39426418",
   "metadata": {},
   "outputs": [
    {
     "data": {
      "text/plain": [
       "array([[0, 1],\n",
       "       [2, 3],\n",
       "       [4, 5],\n",
       "       [6, 7],\n",
       "       [8, 9]])"
      ]
     },
     "execution_count": 43,
     "metadata": {},
     "output_type": "execute_result"
    }
   ],
   "source": [
    "A = np.arange(10).reshape(5,2)\n",
    "\n",
    "A"
   ]
  },
  {
   "cell_type": "code",
   "execution_count": 44,
   "id": "d10b2f58",
   "metadata": {},
   "outputs": [
    {
     "data": {
      "text/plain": [
       "array([[0],\n",
       "       [1]])"
      ]
     },
     "execution_count": 44,
     "metadata": {},
     "output_type": "execute_result"
    }
   ],
   "source": [
    "B = np.arange(2).reshape(2,1)\n",
    "\n",
    "B"
   ]
  },
  {
   "cell_type": "markdown",
   "id": "f8d71c67",
   "metadata": {},
   "source": [
    "**The output is also called column vector.**"
   ]
  },
  {
   "cell_type": "code",
   "execution_count": 45,
   "id": "1bba4b56",
   "metadata": {},
   "outputs": [
    {
     "data": {
      "text/plain": [
       "array([[1],\n",
       "       [3],\n",
       "       [5],\n",
       "       [7],\n",
       "       [9]])"
      ]
     },
     "execution_count": 45,
     "metadata": {},
     "output_type": "execute_result"
    }
   ],
   "source": [
    "C = np.dot(A,B)\n",
    "\n",
    "C"
   ]
  },
  {
   "cell_type": "code",
   "execution_count": 46,
   "id": "b83bdb6a",
   "metadata": {},
   "outputs": [
    {
     "data": {
      "text/plain": [
       "(5, 1)"
      ]
     },
     "execution_count": 46,
     "metadata": {},
     "output_type": "execute_result"
    }
   ],
   "source": [
    "C.shape"
   ]
  },
  {
   "cell_type": "markdown",
   "id": "2af095cc",
   "metadata": {},
   "source": [
    "**<code style=\"background:yellow;color:black\">Whats is the difference between 5,1 and 5, ?</code> 5,1 is a 2D matrix of size 5 X 1, 5 rows and 1 column. Whereas, 5, is a 1D np array having 5 elements, thats it, there is no concept of rows and columns in 1D array.**"
   ]
  },
  {
   "cell_type": "code",
   "execution_count": 47,
   "id": "adc178ed",
   "metadata": {},
   "outputs": [],
   "source": [
    "d = np.arange(5)"
   ]
  },
  {
   "cell_type": "code",
   "execution_count": 48,
   "id": "f456fb0e",
   "metadata": {},
   "outputs": [
    {
     "data": {
      "text/plain": [
       "(5,)"
      ]
     },
     "execution_count": 48,
     "metadata": {},
     "output_type": "execute_result"
    }
   ],
   "source": [
    "d.shape"
   ]
  },
  {
   "cell_type": "code",
   "execution_count": 49,
   "id": "2427261c",
   "metadata": {},
   "outputs": [
    {
     "data": {
      "text/plain": [
       "5"
      ]
     },
     "execution_count": 49,
     "metadata": {},
     "output_type": "execute_result"
    }
   ],
   "source": [
    "len(d)"
   ]
  },
  {
   "cell_type": "markdown",
   "id": "a3e5fd3c",
   "metadata": {},
   "source": [
    "<hr style=\"border: 1px solid gray;\">\n",
    "\n",
    "# <code style=\"background:yellow;color:black\">Vectorization:</code>\n",
    "\n",
    "* **<code style=\"background:yellow;color:black\">Vectorization</code> is a fundamental concept in NumPy and other array computing libraries. It refers to the process of applying operations or functions to entire arrays or large sections of arrays at once, <u>without the need for explicit Python for-loops.</u>** \n",
    "\n",
    "* **Vectorization offers several advantages:**\n",
    "\n",
    "    * **<u>Improved Performance:</u>** Vectorized operations can be significantly faster than equivalent operations implemented using Python for-loops. This is because it can take advantage of hardware-level optimizations and parallelism which refers to taking advantage of multicore processors and parallel execution.\n",
    "\n",
    "    * **<u>Simplified Code:</u>** Vectorized code is often more concise and easier to read than equivalent code with explicit loops. This leads to more maintainable and understandable code.\n",
    "    \n",
    "In terminology,\n",
    "\n",
    "1. 1d np array is called vector\n",
    "2. 2d np array is called matrix\n",
    "3. 3d onwards is called tensors"
   ]
  },
  {
   "cell_type": "code",
   "execution_count": 2,
   "id": "948a3810",
   "metadata": {},
   "outputs": [
    {
     "data": {
      "text/plain": [
       "array([ 1,  2,  3,  4,  5,  6,  7,  8,  9, 10, 11, 12])"
      ]
     },
     "execution_count": 2,
     "metadata": {},
     "output_type": "execute_result"
    }
   ],
   "source": [
    "a = np.arange(1, 13)\n",
    "\n",
    "a"
   ]
  },
  {
   "cell_type": "markdown",
   "id": "d07ef8c9",
   "metadata": {},
   "source": [
    "**Below is element wise operation of multiplication.**"
   ]
  },
  {
   "cell_type": "code",
   "execution_count": 3,
   "id": "fed15f89",
   "metadata": {},
   "outputs": [
    {
     "data": {
      "text/plain": [
       "array([ 2,  4,  6,  8, 10, 12, 14, 16, 18, 20, 22, 24])"
      ]
     },
     "execution_count": 3,
     "metadata": {},
     "output_type": "execute_result"
    }
   ],
   "source": [
    "a * 2"
   ]
  },
  {
   "cell_type": "markdown",
   "id": "6b9ceebf",
   "metadata": {},
   "source": [
    "**We can also create a function to apply some operation to all the elements of an array.**"
   ]
  },
  {
   "cell_type": "code",
   "execution_count": 4,
   "id": "c8815895",
   "metadata": {},
   "outputs": [],
   "source": [
    "def solve(x):\n",
    "    \n",
    "    if x % 2 == 0:  # If x is even\n",
    "        x = x * 2  \n",
    "    \n",
    "    else:  \n",
    "        x = x * 3\n",
    "\n",
    "    return x"
   ]
  },
  {
   "cell_type": "code",
   "execution_count": 5,
   "id": "72cfd7fa",
   "metadata": {},
   "outputs": [
    {
     "data": {
      "text/plain": [
       "15"
      ]
     },
     "execution_count": 5,
     "metadata": {},
     "output_type": "execute_result"
    }
   ],
   "source": [
    "solve(5)"
   ]
  },
  {
   "cell_type": "code",
   "execution_count": 6,
   "id": "8d59d22b",
   "metadata": {},
   "outputs": [
    {
     "data": {
      "text/plain": [
       "12"
      ]
     },
     "execution_count": 6,
     "metadata": {},
     "output_type": "execute_result"
    }
   ],
   "source": [
    "solve(6)"
   ]
  },
  {
   "cell_type": "code",
   "execution_count": 7,
   "id": "3ae62c5e",
   "metadata": {},
   "outputs": [
    {
     "data": {
      "text/plain": [
       "array([ 1,  2,  3,  4,  5,  6,  7,  8,  9, 10, 11, 12])"
      ]
     },
     "execution_count": 7,
     "metadata": {},
     "output_type": "execute_result"
    }
   ],
   "source": [
    "a"
   ]
  },
  {
   "cell_type": "markdown",
   "id": "c353ac43",
   "metadata": {},
   "source": [
    "* Now, we want to apply the solve function to every element of np array \"a\". \n",
    "\n",
    "* **Approach 1** is to apply loop, select a[i] and select the solve function, call solve(a[i]) for i in range(n). But this is a slow operation. **Loops are not that fast.**\n",
    "\n",
    "* **Approach 2 is <code style=\"background:yellow;color:black\">numpy vectorization.</code> Vectorization will do the same thing but in a very fast way. Vectorization effectively allows us to apply element-wise to a NumPy array. How to do that?** \n",
    "\n",
    "* We have to create a **vectorized version** of the solve function.\n",
    "\n",
    "### <code style=\"background:yellow;color:black\">vectorize() function:</code>\n",
    "\n",
    "* **In NumPy, the <code style=\"background:yellow;color:black\">vectorize() function</code> is used to create a vectorized function from a non-vectorized (scalar) function.** \n",
    "* **A vectorized function is a function that can operate element-wise on arrays, similar to NumPy's universal functions (ufuncs). The vectorize function allows us to apply a scalar function to each element of one or more input arrays, broadcasting as necessary.** \n",
    "\n",
    "* By below code, we vectorize the solve function.\n",
    "\n",
    "* So, essentially we are saying that we have created a function called solve, now we are creating a vectorized form of that function and storing it in a new function called \"aj_func\".\n",
    "\n",
    "**<code style=\"background:yellow;color:black\">Use cases of vectorization:</code>**\n",
    "\n",
    "1. **<u>We can apply vectorizaton on any python pre defined or in-built function:</u>** Here, we are vectorizing in-built log function of the math module of python. And then we are passing the entire np array \"a\" to that newly defined vectorized form of log function, to get log of all the elements of \"a\". Basically vectorization supports element-wise operations on arrays, where the same operation is applied to each element in an array.\n",
    "\n",
    "2. **<u>Data Manipulation:</u>** Vectorization simplifies data manipulation tasks. You can easily perform tasks like filtering, transformation, or combining arrays without writing explicit loops."
   ]
  },
  {
   "cell_type": "code",
   "execution_count": 8,
   "id": "c9748ef5",
   "metadata": {},
   "outputs": [],
   "source": [
    "aj_func = np.vectorize(solve)"
   ]
  },
  {
   "cell_type": "markdown",
   "id": "d93ec8e5",
   "metadata": {},
   "source": [
    "**This will not work because solve func is not designed to have a np array as argument.**"
   ]
  },
  {
   "cell_type": "code",
   "execution_count": 9,
   "id": "cf99d10b",
   "metadata": {},
   "outputs": [
    {
     "ename": "ValueError",
     "evalue": "The truth value of an array with more than one element is ambiguous. Use a.any() or a.all()",
     "output_type": "error",
     "traceback": [
      "\u001b[1;31m---------------------------------------------------------------------------\u001b[0m",
      "\u001b[1;31mValueError\u001b[0m                                Traceback (most recent call last)",
      "Cell \u001b[1;32mIn[9], line 1\u001b[0m\n\u001b[1;32m----> 1\u001b[0m solve(a)\n",
      "Cell \u001b[1;32mIn[4], line 3\u001b[0m, in \u001b[0;36msolve\u001b[1;34m(x)\u001b[0m\n\u001b[0;32m      1\u001b[0m \u001b[38;5;28;01mdef\u001b[39;00m \u001b[38;5;21msolve\u001b[39m(x):\n\u001b[1;32m----> 3\u001b[0m     \u001b[38;5;28;01mif\u001b[39;00m x \u001b[38;5;241m%\u001b[39m \u001b[38;5;241m2\u001b[39m \u001b[38;5;241m==\u001b[39m \u001b[38;5;241m0\u001b[39m:  \u001b[38;5;66;03m# If x is even\u001b[39;00m\n\u001b[0;32m      4\u001b[0m         x \u001b[38;5;241m=\u001b[39m x \u001b[38;5;241m*\u001b[39m \u001b[38;5;241m2\u001b[39m  \n\u001b[0;32m      6\u001b[0m     \u001b[38;5;28;01melse\u001b[39;00m:  \n",
      "\u001b[1;31mValueError\u001b[0m: The truth value of an array with more than one element is ambiguous. Use a.any() or a.all()"
     ]
    }
   ],
   "source": [
    "solve(a)"
   ]
  },
  {
   "cell_type": "markdown",
   "id": "9e6e857b",
   "metadata": {},
   "source": [
    "**We can pass our np array \"a\" to the new vectorized aj_func and it works as expected.**"
   ]
  },
  {
   "cell_type": "code",
   "execution_count": 10,
   "id": "98652103",
   "metadata": {},
   "outputs": [
    {
     "data": {
      "text/plain": [
       "array([ 3,  4,  9,  8, 15, 12, 21, 16, 27, 20, 33, 24])"
      ]
     },
     "execution_count": 10,
     "metadata": {},
     "output_type": "execute_result"
    }
   ],
   "source": [
    "aj_func(a)"
   ]
  },
  {
   "cell_type": "code",
   "execution_count": 11,
   "id": "2942d05b",
   "metadata": {},
   "outputs": [
    {
     "data": {
      "text/plain": [
       "array([ 1,  2,  3,  4,  5,  6,  7,  8,  9, 10, 11, 12])"
      ]
     },
     "execution_count": 11,
     "metadata": {},
     "output_type": "execute_result"
    }
   ],
   "source": [
    "a"
   ]
  },
  {
   "cell_type": "code",
   "execution_count": 12,
   "id": "9b18a432",
   "metadata": {},
   "outputs": [],
   "source": [
    "import math"
   ]
  },
  {
   "cell_type": "code",
   "execution_count": 13,
   "id": "a705930c",
   "metadata": {},
   "outputs": [],
   "source": [
    "vectorized_log = np.vectorize(math.log)"
   ]
  },
  {
   "cell_type": "code",
   "execution_count": 14,
   "id": "38efc4aa",
   "metadata": {},
   "outputs": [
    {
     "data": {
      "text/plain": [
       "array([0.        , 0.69314718, 1.09861229, 1.38629436, 1.60943791,\n",
       "       1.79175947, 1.94591015, 2.07944154, 2.19722458, 2.30258509,\n",
       "       2.39789527, 2.48490665])"
      ]
     },
     "execution_count": 14,
     "metadata": {},
     "output_type": "execute_result"
    }
   ],
   "source": [
    "vectorized_log(a)"
   ]
  },
  {
   "cell_type": "code",
   "execution_count": 15,
   "id": "56b8c103",
   "metadata": {},
   "outputs": [
    {
     "data": {
      "text/plain": [
       "array([[1, 2, 3],\n",
       "       [4, 5, 6],\n",
       "       [7, 8, 9]])"
      ]
     },
     "execution_count": 15,
     "metadata": {},
     "output_type": "execute_result"
    }
   ],
   "source": [
    "b = np.arange(1,10).reshape(3,3)\n",
    "\n",
    "b"
   ]
  },
  {
   "cell_type": "markdown",
   "id": "60144d56",
   "metadata": {},
   "source": [
    "* **Vecorization also works on a 2D array as well.**\n",
    "\n",
    "* Here every element is passed to the solve func and solve func does its work as required on every element individually."
   ]
  },
  {
   "cell_type": "code",
   "execution_count": 16,
   "id": "63cda023",
   "metadata": {},
   "outputs": [
    {
     "data": {
      "text/plain": [
       "array([[ 3,  4,  9],\n",
       "       [ 8, 15, 12],\n",
       "       [21, 16, 27]])"
      ]
     },
     "execution_count": 16,
     "metadata": {},
     "output_type": "execute_result"
    }
   ],
   "source": [
    "aj_func(b)"
   ]
  },
  {
   "cell_type": "markdown",
   "id": "c3ec96fc",
   "metadata": {},
   "source": [
    "<hr style=\"border: 1px solid gray;\">\n",
    "\n",
    "# <code style=\"background:yellow;color:black\">Broadcasting:</code>\n",
    "\n",
    "* **<code style=\"background:yellow;color:black\">NumPy broadcasting</code> is a powerful feature that allows NumPy to perform operations on arrays of different shapes, making it possible to combine and manipulate arrays that would otherwise have incompatible shapes.** \n",
    "\n",
    "* Broadcasting is particularly useful when we want to perform element-wise operations on arrays of different shapes without having to explicitly reshape or tile the arrays to match.\n",
    "\n",
    "* **The key idea behind broadcasting is that when performing element-wise operations between two arrays, NumPy compares their shapes element-wise, from right to left. It starts by comparing the trailing dimensions (those with size 1 or that are missing) and then extends to the higher dimensions.**<br><br><br>\n",
    "\n",
    "* In the first row in the image below, we are adding 2 matrices of size 4,3 so its simple element wise addition. Thats 1st element of 1st matrix is added with 1st element of 2nd matrix, 2nd element of 1st matrix is added with 2nd element of 2nd matrix and so on. So thats clear, easy and straightforward, and this is the ideal scenario.\n",
    "\n",
    "* Now in 2nd row of the image, if we try to add these two matrices of different sizes, one of 4,3 and other of 1,3, logically it should give error, because we cant perform element wise operation on 2 different sizes. But in some specific conditions, that we will soon learn, **2ND MATRIX WILL AUTOMATICALLY REPLICATE ITSELF OR ENLARGE ITSELF TO FIT IN THE SIZE OF THE 1ST MATRIX, AND THEN ELEMENT WISE OPERATION WILL HAPPEN.** The faint image tells us exactly this.\n",
    "\n",
    "* In 3rd case, we have one column matrix and one row matrix, both are of different sizes, so again if we try to add these two logically it should give error because we cant perform element wise operation on 2 different sizes. So what actually will happen is **1ST MATRIX WILL REPLICATE ITSELF TO MATCH FOR THE NUMBER OF COLUMNS OF 2ND MATRIX AND 2ND MATRIX WILL REPLICATE ITSELF TO FIT IN IN FOR THE NUMBER OF ROWS OF THE 1ST MATRIX, AND THEN ELEMENT WISE OPERATION HAPPENED AND WE GOT THE RESULT.** The faint image tells us exactly this. \n",
    "\n",
    "* Replication is done automatically. **THIS IS CALLED BROADCASTING. AND IT NOT ONLY APPLIES AUTOMATICALLY IN CASE OF ADDITION BUT ALSO APPLIES IN CASE OF MULTIPLICATION.**\n",
    "\n",
    "* Now, to understand how and why this happened, we need to understand \"tile\" function. \n",
    "\n",
    "### <code style=\"background:yellow;color:black\">tile() function:</code>\n",
    "\n",
    "* **In NumPy, the <code style=\"background:yellow;color:black\">tile() function</code> is used to construct an array by repeating a given array (or a list) a certain number of times along specified axes. This function is useful for creating larger arrays by replicating smaller arrays along specified dimensions.**\n",
    "\n",
    "* **In tile func, we pass 2 arguments: one the array, in our case \"a\", and a tuple containing the information about how many times we want to replicate the array \"a\" horizontally and vertically, or how many instances of the array we want horizontally and vertically.** \n",
    "\n",
    "* In our case, we passed a tuple (3,1). This means replicate the array \"a\" or we want to create instances of the array such that in total it becomes 3 times horizontally. And replicate the array or create instances of the array such that it becomes 1 time vertically. So, we get the array having 3 rows and 4 columns because originally the array had 1 row and 4 columns.\n",
    "\n",
    "* **Here not to confuse (3,1) with the size of the resultant array. Its how many times we want to replicate the array or how many instances of the array we want horizontally and vertically.**\n",
    "\n",
    "* Please note that in tile func, if we pass array itself as the first argument and run it again and again, everytime the resultant array will be replicated again and again so that the result will inrease in size. Thats why we dont pass array as the first argument in tile func, instead we pass arange() so that everytime array will be generated as new and even if we we run this tile func again and again resultant array will be same everytime, it wont grow.\n",
    "\n",
    "![bro.jpg](https://d2beiqkhq929f0.cloudfront.net/public_assets/assets/000/047/364/original/download.jpeg?1694345633)"
   ]
  },
  {
   "cell_type": "code",
   "execution_count": 3,
   "id": "b5954c9c",
   "metadata": {},
   "outputs": [
    {
     "data": {
      "text/plain": [
       "array([ 0, 10, 20, 30])"
      ]
     },
     "execution_count": 3,
     "metadata": {},
     "output_type": "execute_result"
    }
   ],
   "source": [
    "a = np.arange(0, 40, 10)\n",
    "\n",
    "a"
   ]
  },
  {
   "cell_type": "code",
   "execution_count": 4,
   "id": "e0a0d04c",
   "metadata": {},
   "outputs": [
    {
     "data": {
      "text/plain": [
       "array([[ 0, 10, 20, 30],\n",
       "       [ 0, 10, 20, 30],\n",
       "       [ 0, 10, 20, 30]])"
      ]
     },
     "execution_count": 4,
     "metadata": {},
     "output_type": "execute_result"
    }
   ],
   "source": [
    "a = np.tile(a, (3, 1))\n",
    "\n",
    "a"
   ]
  },
  {
   "cell_type": "code",
   "execution_count": 5,
   "id": "f257e685",
   "metadata": {},
   "outputs": [
    {
     "data": {
      "text/plain": [
       "array([0, 1, 2])"
      ]
     },
     "execution_count": 5,
     "metadata": {},
     "output_type": "execute_result"
    }
   ],
   "source": [
    "b = np.arange(0, 3)\n",
    "\n",
    "b"
   ]
  },
  {
   "cell_type": "code",
   "execution_count": 6,
   "id": "d7f0dd22",
   "metadata": {},
   "outputs": [
    {
     "data": {
      "text/plain": [
       "array([[0, 1, 2],\n",
       "       [0, 1, 2],\n",
       "       [0, 1, 2],\n",
       "       [0, 1, 2]])"
      ]
     },
     "execution_count": 6,
     "metadata": {},
     "output_type": "execute_result"
    }
   ],
   "source": [
    "b = np.tile(np.arange(0, 3), (4, 1))\n",
    "\n",
    "b"
   ]
  },
  {
   "cell_type": "markdown",
   "id": "490b0027",
   "metadata": {},
   "source": [
    "**Now, can we perform a + b? Element wise addition? - NO. Because shape of b is 4,3 and shape of a is 3,4. So, we can do transpose of a to get shape of a as 4,3. Now we can do a + b to get element wise addition.**"
   ]
  },
  {
   "cell_type": "code",
   "execution_count": 7,
   "id": "ab287f5f",
   "metadata": {},
   "outputs": [
    {
     "data": {
      "text/plain": [
       "((4, 3), (3, 4))"
      ]
     },
     "execution_count": 7,
     "metadata": {},
     "output_type": "execute_result"
    }
   ],
   "source": [
    "b.shape, a.shape"
   ]
  },
  {
   "cell_type": "code",
   "execution_count": 8,
   "id": "d98e32dd",
   "metadata": {},
   "outputs": [],
   "source": [
    "a = a.T"
   ]
  },
  {
   "cell_type": "code",
   "execution_count": 9,
   "id": "78af7511",
   "metadata": {},
   "outputs": [
    {
     "data": {
      "text/plain": [
       "((4, 3), (4, 3))"
      ]
     },
     "execution_count": 9,
     "metadata": {},
     "output_type": "execute_result"
    }
   ],
   "source": [
    "b.shape, a.shape"
   ]
  },
  {
   "cell_type": "code",
   "execution_count": 10,
   "id": "7fb5fcf4",
   "metadata": {},
   "outputs": [
    {
     "data": {
      "text/plain": [
       "array([[ 0,  0,  0],\n",
       "       [10, 10, 10],\n",
       "       [20, 20, 20],\n",
       "       [30, 30, 30]])"
      ]
     },
     "execution_count": 10,
     "metadata": {},
     "output_type": "execute_result"
    }
   ],
   "source": [
    "a"
   ]
  },
  {
   "cell_type": "code",
   "execution_count": 11,
   "id": "563d81bd",
   "metadata": {},
   "outputs": [
    {
     "data": {
      "text/plain": [
       "array([[0, 1, 2],\n",
       "       [0, 1, 2],\n",
       "       [0, 1, 2],\n",
       "       [0, 1, 2]])"
      ]
     },
     "execution_count": 11,
     "metadata": {},
     "output_type": "execute_result"
    }
   ],
   "source": [
    "b"
   ]
  },
  {
   "cell_type": "code",
   "execution_count": 12,
   "id": "e2587155",
   "metadata": {},
   "outputs": [
    {
     "data": {
      "text/plain": [
       "array([[ 0,  1,  2],\n",
       "       [10, 11, 12],\n",
       "       [20, 21, 22],\n",
       "       [30, 31, 32]])"
      ]
     },
     "execution_count": 12,
     "metadata": {},
     "output_type": "execute_result"
    }
   ],
   "source": [
    "a + b"
   ]
  },
  {
   "cell_type": "code",
   "execution_count": 13,
   "id": "24ce3bab",
   "metadata": {},
   "outputs": [
    {
     "data": {
      "text/plain": [
       "array([0, 1, 2])"
      ]
     },
     "execution_count": 13,
     "metadata": {},
     "output_type": "execute_result"
    }
   ],
   "source": [
    "b = np.arange(0, 3)\n",
    "\n",
    "b"
   ]
  },
  {
   "cell_type": "code",
   "execution_count": 14,
   "id": "40dd8aaf",
   "metadata": {},
   "outputs": [
    {
     "data": {
      "text/plain": [
       "((4, 3), (3,))"
      ]
     },
     "execution_count": 14,
     "metadata": {},
     "output_type": "execute_result"
    }
   ],
   "source": [
    "a.shape, b.shape"
   ]
  },
  {
   "cell_type": "code",
   "execution_count": 15,
   "id": "13f90ba0",
   "metadata": {},
   "outputs": [
    {
     "data": {
      "text/plain": [
       "array([[ 0,  0,  0],\n",
       "       [10, 10, 10],\n",
       "       [20, 20, 20],\n",
       "       [30, 30, 30]])"
      ]
     },
     "execution_count": 15,
     "metadata": {},
     "output_type": "execute_result"
    }
   ],
   "source": [
    "a"
   ]
  },
  {
   "cell_type": "code",
   "execution_count": 16,
   "id": "02183843",
   "metadata": {},
   "outputs": [
    {
     "data": {
      "text/plain": [
       "array([0, 1, 2])"
      ]
     },
     "execution_count": 16,
     "metadata": {},
     "output_type": "execute_result"
    }
   ],
   "source": [
    "b"
   ]
  },
  {
   "cell_type": "markdown",
   "id": "24457486",
   "metadata": {},
   "source": [
    "* Now, what will happen if we do a + b? As we learnt earlier, replication of 2nd array i.e. \"b\" will happen and then element wise addition will happen automatically.\n",
    "\n",
    "* **There is a <code style=\"background:yellow;color:black\">RULE</code> according to which this replication happens.**\n",
    "\n",
    "**We will understand whether broadcasting will be performed between 2 given np arrays or not.** \n",
    "\n",
    "**Lets take 2 np arrays of size (4,3) and (3,).** \n",
    "* What is the dimension of both the arrays? \n",
    "* 1st array is 2D and 2nd array is 1D. \n",
    "* So, first of all **MENTALLY** make 2nd array same dimension as 1st array, in our case we will make 2nd array as a 2D array. \n",
    "* How will we do it?\n",
    "* **WE WILL ALWAYS ADD THE MISSING DIMENSION AS \"1\" TO THE LEFT SIDE.**\n",
    "* **HERE WE WILL VISUALIZE (3,) AS (1,3).**\n",
    "* **<code style=\"background:yellow;color:black\">SO OUR RULE SAYS - ALWAYS MAKE BOTH ARRAYS SAME DIMENSION BY PADDING THE ARRAY WITH \"1\" ON THE LEFT SIDE.</code>**\n",
    "* REFER NOTES FOR MORE CLARITY.\n",
    "* No matter how many dimensions to add, make it all 1s from the left.\n",
    "\n",
    "**Now lets take two 2D arrays of size (4,3) and (1,3).** \n",
    "* Now from the right side go one by one and compare. \n",
    "* **REFER NOTES FOR MORE CLARITY.** \n",
    "* So here, we will compare right most dimension 3 of (4,3) to rightmost dimension 3 of (1,3). \n",
    "* There are 2 things to check. \n",
    "* First, whether they are same or not. \n",
    "* Second, atleast one of them should be \"1\". \n",
    "* If any of these two condition is satisfied in comparison, then that dimension is good to go. \n",
    "* **Similarly, compare each and every dimesnion and if every dimension is good to go, <code style=\"background:yellow;color:black\">THEN BROADCASTING WILL BE PERFORMED OTHERWISE NOT.</code>**\n",
    "\n",
    "**Lets take another example.** \n",
    "* Lets take 2 np arrays as shown in last row of the image. \n",
    "* Shape of 1st array is (4,1) its a 2D array. \n",
    "* Shape of 2nd array is (3,) its a 1D array. \n",
    "* **REFER NOTES FOR MORE CLARITY ON THIS AND <code style=\"background:yellow;color:black\">DIFFERENCE BETWEEN 1D AND 2D ARRAYS.</code>**\n",
    "* Now lets see if broadcasting will be performed or not as per our rule. \n",
    "* a is of shape (4,1) and b is of shape (3,). \n",
    "* So we imagine b as (1,3) as explained in above example. \n",
    "* Now check and compare rightmost dimesnions of both arrays i.e 1 of a and 3 of b. \n",
    "* We see it satisfies our condition of atleast one of them should be \"1\", so good to go. \n",
    "* **Similarly 2nd dimension is also compared and found good to go. So, <code style=\"background:yellow;color:black\">BROADCASTING WILL BE DONE.</code>**  \n",
    "\n",
    "**After performing broadcasting, the shape of the resultant array will be maximum of both the arrays's dimension.**\n",
    "\n",
    "In above example it will be (4,3). "
   ]
  },
  {
   "cell_type": "code",
   "execution_count": 17,
   "id": "9e332008",
   "metadata": {},
   "outputs": [
    {
     "data": {
      "text/plain": [
       "array([[ 0,  1,  2],\n",
       "       [10, 11, 12],\n",
       "       [20, 21, 22],\n",
       "       [30, 31, 32]])"
      ]
     },
     "execution_count": 17,
     "metadata": {},
     "output_type": "execute_result"
    }
   ],
   "source": [
    "a + b"
   ]
  },
  {
   "cell_type": "code",
   "execution_count": 18,
   "id": "4cdf7e05",
   "metadata": {},
   "outputs": [
    {
     "data": {
      "text/plain": [
       "array([[ 0],\n",
       "       [10],\n",
       "       [20],\n",
       "       [30]])"
      ]
     },
     "execution_count": 18,
     "metadata": {},
     "output_type": "execute_result"
    }
   ],
   "source": [
    "a = np.arange(0, 40, 10).reshape(4, 1)\n",
    "\n",
    "a"
   ]
  },
  {
   "cell_type": "code",
   "execution_count": 19,
   "id": "1571e8f2",
   "metadata": {},
   "outputs": [
    {
     "data": {
      "text/plain": [
       "array([0, 1, 2])"
      ]
     },
     "execution_count": 19,
     "metadata": {},
     "output_type": "execute_result"
    }
   ],
   "source": [
    "b = np.arange(0, 3)\n",
    "\n",
    "b"
   ]
  },
  {
   "cell_type": "code",
   "execution_count": 20,
   "id": "f568382c",
   "metadata": {},
   "outputs": [
    {
     "data": {
      "text/plain": [
       "((4, 1), (3,))"
      ]
     },
     "execution_count": 20,
     "metadata": {},
     "output_type": "execute_result"
    }
   ],
   "source": [
    "a.shape, b.shape"
   ]
  },
  {
   "cell_type": "code",
   "execution_count": 21,
   "id": "825fa46f",
   "metadata": {},
   "outputs": [
    {
     "data": {
      "text/plain": [
       "array([[ 0,  1,  2],\n",
       "       [10, 11, 12],\n",
       "       [20, 21, 22],\n",
       "       [30, 31, 32]])"
      ]
     },
     "execution_count": 21,
     "metadata": {},
     "output_type": "execute_result"
    }
   ],
   "source": [
    "a + b"
   ]
  },
  {
   "cell_type": "markdown",
   "id": "e4586645",
   "metadata": {},
   "source": [
    "* Here in the below example, lets compare shape of a is (2,4) with that of b (4,4). \n",
    "* Rightmost dimension satisfies the condition that values should be same, so its good to go. \n",
    "* But, next dimesnion i.e. 2 and 4 doesnt satisfy both the conditions, that is values should be same or atleast one of them should be \"1\", so its not good to go. \n",
    "* **Hence, <code style=\"background:yellow;color:black\">OVERALL BROADCASTING WILL NOT OCCUR, and a + b will throw an error.</code>** "
   ]
  },
  {
   "cell_type": "code",
   "execution_count": 22,
   "id": "6fa4bd18",
   "metadata": {},
   "outputs": [
    {
     "data": {
      "text/plain": [
       "array([[0, 1, 2, 3],\n",
       "       [4, 5, 6, 7]])"
      ]
     },
     "execution_count": 22,
     "metadata": {},
     "output_type": "execute_result"
    }
   ],
   "source": [
    "a = np.arange(8).reshape(2, 4)\n",
    "\n",
    "a"
   ]
  },
  {
   "cell_type": "code",
   "execution_count": 23,
   "id": "acd60215",
   "metadata": {},
   "outputs": [
    {
     "data": {
      "text/plain": [
       "array([[ 0,  1,  2,  3],\n",
       "       [ 4,  5,  6,  7],\n",
       "       [ 8,  9, 10, 11],\n",
       "       [12, 13, 14, 15]])"
      ]
     },
     "execution_count": 23,
     "metadata": {},
     "output_type": "execute_result"
    }
   ],
   "source": [
    "b = np.arange(16).reshape(4, 4)\n",
    "\n",
    "b"
   ]
  },
  {
   "cell_type": "code",
   "execution_count": 24,
   "id": "c8c098a9",
   "metadata": {},
   "outputs": [
    {
     "data": {
      "text/plain": [
       "((2, 4), (4, 4))"
      ]
     },
     "execution_count": 24,
     "metadata": {},
     "output_type": "execute_result"
    }
   ],
   "source": [
    "a.shape, b.shape"
   ]
  },
  {
   "cell_type": "code",
   "execution_count": 25,
   "id": "ac9007cb",
   "metadata": {},
   "outputs": [
    {
     "ename": "ValueError",
     "evalue": "operands could not be broadcast together with shapes (2,4) (4,4) ",
     "output_type": "error",
     "traceback": [
      "\u001b[1;31m---------------------------------------------------------------------------\u001b[0m",
      "\u001b[1;31mValueError\u001b[0m                                Traceback (most recent call last)",
      "Cell \u001b[1;32mIn[25], line 1\u001b[0m\n\u001b[1;32m----> 1\u001b[0m a \u001b[38;5;241m+\u001b[39m b\n",
      "\u001b[1;31mValueError\u001b[0m: operands could not be broadcast together with shapes (2,4) (4,4) "
     ]
    }
   ],
   "source": [
    "a + b"
   ]
  },
  {
   "cell_type": "markdown",
   "id": "66ec9e30",
   "metadata": {},
   "source": [
    "* In the below example, broadcasting will be done and two np arrays will be multiplied. \n",
    "* **Basically, -1,0,-1 is getting replicated horizontally to make it a total 3 times, and then element wise multiplication happens.**"
   ]
  },
  {
   "cell_type": "code",
   "execution_count": 26,
   "id": "dbc28dad",
   "metadata": {},
   "outputs": [
    {
     "data": {
      "text/plain": [
       "array([[1, 2, 3],\n",
       "       [4, 5, 6],\n",
       "       [7, 8, 9]])"
      ]
     },
     "execution_count": 26,
     "metadata": {},
     "output_type": "execute_result"
    }
   ],
   "source": [
    "A = np.arange(1, 10).reshape(3, 3)\n",
    "\n",
    "A"
   ]
  },
  {
   "cell_type": "code",
   "execution_count": 27,
   "id": "b975e259",
   "metadata": {},
   "outputs": [
    {
     "data": {
      "text/plain": [
       "array([-1,  0,  1])"
      ]
     },
     "execution_count": 27,
     "metadata": {},
     "output_type": "execute_result"
    }
   ],
   "source": [
    "B = np.array([-1, 0, 1])\n",
    "\n",
    "B"
   ]
  },
  {
   "cell_type": "code",
   "execution_count": 28,
   "id": "bc7f3824",
   "metadata": {},
   "outputs": [
    {
     "data": {
      "text/plain": [
       "array([[-1,  0,  3],\n",
       "       [-4,  0,  6],\n",
       "       [-7,  0,  9]])"
      ]
     },
     "execution_count": 28,
     "metadata": {},
     "output_type": "execute_result"
    }
   ],
   "source": [
    "A * B"
   ]
  },
  {
   "cell_type": "markdown",
   "id": "bfb91b0b",
   "metadata": {},
   "source": [
    "**Another example.**"
   ]
  },
  {
   "cell_type": "code",
   "execution_count": 29,
   "id": "821b5ea3",
   "metadata": {},
   "outputs": [
    {
     "ename": "ValueError",
     "evalue": "operands could not be broadcast together with shapes (3,4) (3,) ",
     "output_type": "error",
     "traceback": [
      "\u001b[1;31m---------------------------------------------------------------------------\u001b[0m",
      "\u001b[1;31mValueError\u001b[0m                                Traceback (most recent call last)",
      "Cell \u001b[1;32mIn[29], line 5\u001b[0m\n\u001b[0;32m      1\u001b[0m A \u001b[38;5;241m=\u001b[39m np\u001b[38;5;241m.\u001b[39marange(\u001b[38;5;241m12\u001b[39m)\u001b[38;5;241m.\u001b[39mreshape(\u001b[38;5;241m3\u001b[39m, \u001b[38;5;241m4\u001b[39m)\n\u001b[0;32m      3\u001b[0m B \u001b[38;5;241m=\u001b[39m np\u001b[38;5;241m.\u001b[39marray([\u001b[38;5;241m1\u001b[39m, \u001b[38;5;241m2\u001b[39m, \u001b[38;5;241m3\u001b[39m])\n\u001b[1;32m----> 5\u001b[0m A \u001b[38;5;241m+\u001b[39m B\n",
      "\u001b[1;31mValueError\u001b[0m: operands could not be broadcast together with shapes (3,4) (3,) "
     ]
    }
   ],
   "source": [
    "A = np.arange(12).reshape(3, 4)\n",
    "\n",
    "B = np.array([1, 2, 3])\n",
    "\n",
    "A + B"
   ]
  },
  {
   "cell_type": "markdown",
   "id": "ef73e6f0",
   "metadata": {},
   "source": [
    "### <code style=\"background:yellow;color:black\">Quiz</code>\n",
    "\n",
    "Given two arrays of shape\n",
    "\n",
    "1. Array A of shape  (8, 1, 6, 1)\n",
    "2. Array B of shape (7, 1, 5)\n",
    "\n",
    "Is broadcasting possible in this case? If yes, what will be the shape of output ?\n",
    "\n",
    "* Broadcasting not possible as dimensions don't match\n",
    "* Broadcasting not possible as dimension value 6 and 5 doesn't match\n",
    "* Broadcasting possible. Shape will be (8, 1, 6, 5)\n",
    "* Broadcasting possible; Shape will be (8, 7, 6, 5)\n",
    "\n",
    "**<code style=\"background:yellow;color:black\">Answer will be D. Refer notes.</code>** "
   ]
  },
  {
   "cell_type": "markdown",
   "id": "d28bc80d",
   "metadata": {},
   "source": [
    "### <code style=\"background:yellow;color:black\">Doubts:</code>"
   ]
  },
  {
   "cell_type": "code",
   "execution_count": 40,
   "id": "7b476a71",
   "metadata": {},
   "outputs": [
    {
     "data": {
      "text/plain": [
       "array([[4, 2],\n",
       "       [1, 5]])"
      ]
     },
     "execution_count": 40,
     "metadata": {},
     "output_type": "execute_result"
    }
   ],
   "source": [
    "a = np.array([[4,2],\n",
    "             [1,5]])\n",
    "\n",
    "a"
   ]
  },
  {
   "cell_type": "markdown",
   "id": "d9688fc0",
   "metadata": {},
   "source": [
    "**Sorting the 2D array w.r.t. axis 0 in ascending order, that is column wise.**"
   ]
  },
  {
   "cell_type": "code",
   "execution_count": 41,
   "id": "a39ce19a",
   "metadata": {},
   "outputs": [
    {
     "data": {
      "text/plain": [
       "array([[1, 2],\n",
       "       [4, 5]])"
      ]
     },
     "execution_count": 41,
     "metadata": {},
     "output_type": "execute_result"
    }
   ],
   "source": [
    "np.sort(a, axis = 0)"
   ]
  },
  {
   "cell_type": "markdown",
   "id": "23605a96",
   "metadata": {},
   "source": [
    "**Sorting in descending order.**"
   ]
  },
  {
   "cell_type": "code",
   "execution_count": 44,
   "id": "be2a25d7",
   "metadata": {},
   "outputs": [
    {
     "name": "stdout",
     "output_type": "stream",
     "text": [
      "Original array:\n",
      "[[4 2]\n",
      " [1 5]]\n",
      "Sorted array:\n",
      "[[4 5]\n",
      " [1 2]]\n"
     ]
    }
   ],
   "source": [
    "# Sort the copied array along axis 0 in descending order\n",
    "b = np.sort(a, axis = 0)\n",
    "c = b[::-1]\n",
    "\n",
    "print(\"Original array:\")\n",
    "print(a)\n",
    "print(\"Sorted array:\")\n",
    "print(c)"
   ]
  },
  {
   "cell_type": "markdown",
   "id": "50b6c017",
   "metadata": {},
   "source": [
    "**Sorting the 2D array w.r.t. axis 1 in ascending order, that is row wise.**"
   ]
  },
  {
   "cell_type": "code",
   "execution_count": 45,
   "id": "207e1d07",
   "metadata": {},
   "outputs": [
    {
     "data": {
      "text/plain": [
       "array([[2, 4],\n",
       "       [1, 5]])"
      ]
     },
     "execution_count": 45,
     "metadata": {},
     "output_type": "execute_result"
    }
   ],
   "source": [
    "np.sort(a, axis = 1)"
   ]
  }
 ],
 "metadata": {
  "kernelspec": {
   "display_name": "Python 3 (ipykernel)",
   "language": "python",
   "name": "python3"
  },
  "language_info": {
   "codemirror_mode": {
    "name": "ipython",
    "version": 3
   },
   "file_extension": ".py",
   "mimetype": "text/x-python",
   "name": "python",
   "nbconvert_exporter": "python",
   "pygments_lexer": "ipython3",
   "version": "3.11.3"
  }
 },
 "nbformat": 4,
 "nbformat_minor": 5
}
